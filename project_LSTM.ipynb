{
 "cells": [
  {
   "cell_type": "code",
   "execution_count": 1,
   "metadata": {},
   "outputs": [],
   "source": [
    "### import kagglehub\n",
    "\n",
    "# Download latest version\n",
    "###path = kagglehub.dataset_download(\"adityajn105/flickr8k\")\n",
    "\n",
    "###print(\"Path to dataset files:\", path)"
   ]
  },
  {
   "cell_type": "code",
   "execution_count": 2,
   "metadata": {},
   "outputs": [
    {
     "name": "stdout",
     "output_type": "stream",
     "text": [
      "Requirement already satisfied: tensorflow in /Users/xupeihan/miniconda3/envs/pytorchCMM_Project_20240524/lib/python3.10/site-packages (2.16.2)\n",
      "Requirement already satisfied: numpy in /Users/xupeihan/miniconda3/envs/pytorchCMM_Project_20240524/lib/python3.10/site-packages (1.26.4)\n",
      "Requirement already satisfied: pandas in /Users/xupeihan/miniconda3/envs/pytorchCMM_Project_20240524/lib/python3.10/site-packages (2.2.3)\n",
      "Requirement already satisfied: matplotlib in /Users/xupeihan/miniconda3/envs/pytorchCMM_Project_20240524/lib/python3.10/site-packages (3.9.2)\n",
      "Requirement already satisfied: nltk in /Users/xupeihan/miniconda3/envs/pytorchCMM_Project_20240524/lib/python3.10/site-packages (3.9.1)\n",
      "Requirement already satisfied: absl-py>=1.0.0 in /Users/xupeihan/miniconda3/envs/pytorchCMM_Project_20240524/lib/python3.10/site-packages (from tensorflow) (2.1.0)\n",
      "Requirement already satisfied: astunparse>=1.6.0 in /Users/xupeihan/miniconda3/envs/pytorchCMM_Project_20240524/lib/python3.10/site-packages (from tensorflow) (1.6.3)\n",
      "Requirement already satisfied: flatbuffers>=23.5.26 in /Users/xupeihan/miniconda3/envs/pytorchCMM_Project_20240524/lib/python3.10/site-packages (from tensorflow) (24.3.25)\n",
      "Requirement already satisfied: gast!=0.5.0,!=0.5.1,!=0.5.2,>=0.2.1 in /Users/xupeihan/miniconda3/envs/pytorchCMM_Project_20240524/lib/python3.10/site-packages (from tensorflow) (0.4.0)\n",
      "Requirement already satisfied: google-pasta>=0.1.1 in /Users/xupeihan/miniconda3/envs/pytorchCMM_Project_20240524/lib/python3.10/site-packages (from tensorflow) (0.2.0)\n",
      "Requirement already satisfied: h5py>=3.10.0 in /Users/xupeihan/miniconda3/envs/pytorchCMM_Project_20240524/lib/python3.10/site-packages (from tensorflow) (3.11.0)\n",
      "Requirement already satisfied: libclang>=13.0.0 in /Users/xupeihan/miniconda3/envs/pytorchCMM_Project_20240524/lib/python3.10/site-packages (from tensorflow) (18.1.1)\n",
      "Requirement already satisfied: ml-dtypes~=0.3.1 in /Users/xupeihan/miniconda3/envs/pytorchCMM_Project_20240524/lib/python3.10/site-packages (from tensorflow) (0.3.2)\n",
      "Requirement already satisfied: opt-einsum>=2.3.2 in /Users/xupeihan/miniconda3/envs/pytorchCMM_Project_20240524/lib/python3.10/site-packages (from tensorflow) (3.3.0)\n",
      "Requirement already satisfied: packaging in /Users/xupeihan/miniconda3/envs/pytorchCMM_Project_20240524/lib/python3.10/site-packages (from tensorflow) (23.2)\n",
      "Requirement already satisfied: protobuf!=4.21.0,!=4.21.1,!=4.21.2,!=4.21.3,!=4.21.4,!=4.21.5,<5.0.0dev,>=3.20.3 in /Users/xupeihan/miniconda3/envs/pytorchCMM_Project_20240524/lib/python3.10/site-packages (from tensorflow) (4.25.5)\n",
      "Requirement already satisfied: requests<3,>=2.21.0 in /Users/xupeihan/miniconda3/envs/pytorchCMM_Project_20240524/lib/python3.10/site-packages (from tensorflow) (2.32.3)\n",
      "Requirement already satisfied: setuptools in /Users/xupeihan/miniconda3/envs/pytorchCMM_Project_20240524/lib/python3.10/site-packages (from tensorflow) (69.5.1)\n",
      "Requirement already satisfied: six>=1.12.0 in /Users/xupeihan/miniconda3/envs/pytorchCMM_Project_20240524/lib/python3.10/site-packages (from tensorflow) (1.16.0)\n",
      "Requirement already satisfied: termcolor>=1.1.0 in /Users/xupeihan/miniconda3/envs/pytorchCMM_Project_20240524/lib/python3.10/site-packages (from tensorflow) (2.1.0)\n",
      "Requirement already satisfied: typing-extensions>=3.6.6 in /Users/xupeihan/miniconda3/envs/pytorchCMM_Project_20240524/lib/python3.10/site-packages (from tensorflow) (4.11.0)\n",
      "Requirement already satisfied: wrapt>=1.11.0 in /Users/xupeihan/miniconda3/envs/pytorchCMM_Project_20240524/lib/python3.10/site-packages (from tensorflow) (1.14.1)\n",
      "Requirement already satisfied: grpcio<2.0,>=1.24.3 in /Users/xupeihan/miniconda3/envs/pytorchCMM_Project_20240524/lib/python3.10/site-packages (from tensorflow) (1.48.2)\n",
      "Requirement already satisfied: tensorboard<2.17,>=2.16 in /Users/xupeihan/miniconda3/envs/pytorchCMM_Project_20240524/lib/python3.10/site-packages (from tensorflow) (2.16.2)\n",
      "Requirement already satisfied: keras>=3.0.0 in /Users/xupeihan/miniconda3/envs/pytorchCMM_Project_20240524/lib/python3.10/site-packages (from tensorflow) (3.6.0)\n",
      "Requirement already satisfied: tensorflow-io-gcs-filesystem>=0.23.1 in /Users/xupeihan/miniconda3/envs/pytorchCMM_Project_20240524/lib/python3.10/site-packages (from tensorflow) (0.37.0)\n",
      "Requirement already satisfied: python-dateutil>=2.8.2 in /Users/xupeihan/miniconda3/envs/pytorchCMM_Project_20240524/lib/python3.10/site-packages (from pandas) (2.9.0)\n",
      "Requirement already satisfied: pytz>=2020.1 in /Users/xupeihan/miniconda3/envs/pytorchCMM_Project_20240524/lib/python3.10/site-packages (from pandas) (2024.2)\n",
      "Requirement already satisfied: tzdata>=2022.7 in /Users/xupeihan/miniconda3/envs/pytorchCMM_Project_20240524/lib/python3.10/site-packages (from pandas) (2024.2)\n",
      "Requirement already satisfied: contourpy>=1.0.1 in /Users/xupeihan/miniconda3/envs/pytorchCMM_Project_20240524/lib/python3.10/site-packages (from matplotlib) (1.3.0)\n",
      "Requirement already satisfied: cycler>=0.10 in /Users/xupeihan/miniconda3/envs/pytorchCMM_Project_20240524/lib/python3.10/site-packages (from matplotlib) (0.12.1)\n",
      "Requirement already satisfied: fonttools>=4.22.0 in /Users/xupeihan/miniconda3/envs/pytorchCMM_Project_20240524/lib/python3.10/site-packages (from matplotlib) (4.54.1)\n",
      "Requirement already satisfied: kiwisolver>=1.3.1 in /Users/xupeihan/miniconda3/envs/pytorchCMM_Project_20240524/lib/python3.10/site-packages (from matplotlib) (1.4.7)\n",
      "Requirement already satisfied: pillow>=8 in /Users/xupeihan/miniconda3/envs/pytorchCMM_Project_20240524/lib/python3.10/site-packages (from matplotlib) (10.3.0)\n",
      "Requirement already satisfied: pyparsing>=2.3.1 in /Users/xupeihan/miniconda3/envs/pytorchCMM_Project_20240524/lib/python3.10/site-packages (from matplotlib) (3.1.4)\n",
      "Requirement already satisfied: click in /Users/xupeihan/miniconda3/envs/pytorchCMM_Project_20240524/lib/python3.10/site-packages (from nltk) (8.1.7)\n",
      "Requirement already satisfied: joblib in /Users/xupeihan/miniconda3/envs/pytorchCMM_Project_20240524/lib/python3.10/site-packages (from nltk) (1.4.2)\n",
      "Requirement already satisfied: regex>=2021.8.3 in /Users/xupeihan/miniconda3/envs/pytorchCMM_Project_20240524/lib/python3.10/site-packages (from nltk) (2024.9.11)\n",
      "Requirement already satisfied: tqdm in /Users/xupeihan/miniconda3/envs/pytorchCMM_Project_20240524/lib/python3.10/site-packages (from nltk) (4.66.5)\n",
      "Requirement already satisfied: wheel<1.0,>=0.23.0 in /Users/xupeihan/miniconda3/envs/pytorchCMM_Project_20240524/lib/python3.10/site-packages (from astunparse>=1.6.0->tensorflow) (0.35.1)\n",
      "Requirement already satisfied: rich in /Users/xupeihan/miniconda3/envs/pytorchCMM_Project_20240524/lib/python3.10/site-packages (from keras>=3.0.0->tensorflow) (13.7.1)\n",
      "Requirement already satisfied: namex in /Users/xupeihan/miniconda3/envs/pytorchCMM_Project_20240524/lib/python3.10/site-packages (from keras>=3.0.0->tensorflow) (0.0.8)\n",
      "Requirement already satisfied: optree in /Users/xupeihan/miniconda3/envs/pytorchCMM_Project_20240524/lib/python3.10/site-packages (from keras>=3.0.0->tensorflow) (0.11.0)\n",
      "Requirement already satisfied: charset-normalizer<4,>=2 in /Users/xupeihan/miniconda3/envs/pytorchCMM_Project_20240524/lib/python3.10/site-packages (from requests<3,>=2.21.0->tensorflow) (2.0.4)\n",
      "Requirement already satisfied: idna<4,>=2.5 in /Users/xupeihan/miniconda3/envs/pytorchCMM_Project_20240524/lib/python3.10/site-packages (from requests<3,>=2.21.0->tensorflow) (3.7)\n",
      "Requirement already satisfied: urllib3<3,>=1.21.1 in /Users/xupeihan/miniconda3/envs/pytorchCMM_Project_20240524/lib/python3.10/site-packages (from requests<3,>=2.21.0->tensorflow) (2.2.1)\n",
      "Requirement already satisfied: certifi>=2017.4.17 in /Users/xupeihan/miniconda3/envs/pytorchCMM_Project_20240524/lib/python3.10/site-packages (from requests<3,>=2.21.0->tensorflow) (2024.8.30)\n",
      "Requirement already satisfied: markdown>=2.6.8 in /Users/xupeihan/miniconda3/envs/pytorchCMM_Project_20240524/lib/python3.10/site-packages (from tensorboard<2.17,>=2.16->tensorflow) (3.4.1)\n",
      "Requirement already satisfied: tensorboard-data-server<0.8.0,>=0.7.0 in /Users/xupeihan/miniconda3/envs/pytorchCMM_Project_20240524/lib/python3.10/site-packages (from tensorboard<2.17,>=2.16->tensorflow) (0.7.2)\n",
      "Requirement already satisfied: werkzeug>=1.0.1 in /Users/xupeihan/miniconda3/envs/pytorchCMM_Project_20240524/lib/python3.10/site-packages (from tensorboard<2.17,>=2.16->tensorflow) (3.0.3)\n",
      "Requirement already satisfied: MarkupSafe>=2.1.1 in /Users/xupeihan/miniconda3/envs/pytorchCMM_Project_20240524/lib/python3.10/site-packages (from werkzeug>=1.0.1->tensorboard<2.17,>=2.16->tensorflow) (2.1.3)\n",
      "Requirement already satisfied: markdown-it-py>=2.2.0 in /Users/xupeihan/miniconda3/envs/pytorchCMM_Project_20240524/lib/python3.10/site-packages (from rich->keras>=3.0.0->tensorflow) (3.0.0)\n",
      "Requirement already satisfied: pygments<3.0.0,>=2.13.0 in /Users/xupeihan/miniconda3/envs/pytorchCMM_Project_20240524/lib/python3.10/site-packages (from rich->keras>=3.0.0->tensorflow) (2.18.0)\n",
      "Requirement already satisfied: mdurl~=0.1 in /Users/xupeihan/miniconda3/envs/pytorchCMM_Project_20240524/lib/python3.10/site-packages (from markdown-it-py>=2.2.0->rich->keras>=3.0.0->tensorflow) (0.1.2)\n",
      "Note: you may need to restart the kernel to use updated packages.\n"
     ]
    }
   ],
   "source": [
    "%pip install tensorflow numpy pandas matplotlib nltk\n"
   ]
  },
  {
   "cell_type": "code",
   "execution_count": 5,
   "metadata": {},
   "outputs": [
    {
     "name": "stdout",
     "output_type": "stream",
     "text": [
      "Requirement already satisfied: nltk in /Users/xupeihan/miniconda3/envs/pytorchCMM_Project_20240524/lib/python3.10/site-packages (3.9.1)\n",
      "Requirement already satisfied: click in /Users/xupeihan/miniconda3/envs/pytorchCMM_Project_20240524/lib/python3.10/site-packages (from nltk) (8.1.7)\n",
      "Requirement already satisfied: joblib in /Users/xupeihan/miniconda3/envs/pytorchCMM_Project_20240524/lib/python3.10/site-packages (from nltk) (1.4.2)\n",
      "Requirement already satisfied: regex>=2021.8.3 in /Users/xupeihan/miniconda3/envs/pytorchCMM_Project_20240524/lib/python3.10/site-packages (from nltk) (2024.9.11)\n",
      "Requirement already satisfied: tqdm in /Users/xupeihan/miniconda3/envs/pytorchCMM_Project_20240524/lib/python3.10/site-packages (from nltk) (4.66.5)\n",
      "Note: you may need to restart the kernel to use updated packages.\n"
     ]
    }
   ],
   "source": [
    "pip install nltk"
   ]
  },
  {
   "cell_type": "code",
   "execution_count": 6,
   "metadata": {},
   "outputs": [
    {
     "name": "stdout",
     "output_type": "stream",
     "text": [
      "Requirement already satisfied: tqdm in /Users/xupeihan/miniconda3/envs/pytorchCMM_Project_20240524/lib/python3.10/site-packages (4.66.5)\n",
      "Note: you may need to restart the kernel to use updated packages.\n"
     ]
    }
   ],
   "source": [
    "pip install tqdm"
   ]
  },
  {
   "cell_type": "markdown",
   "metadata": {},
   "source": [
    "# loading dataset\n"
   ]
  },
  {
   "cell_type": "code",
   "execution_count": 9,
   "metadata": {},
   "outputs": [
    {
     "name": "stdout",
     "output_type": "stream",
     "text": [
      "                       image  \\\n",
      "0                      image   \n",
      "1  1000268201_693b08cb0e.jpg   \n",
      "2  1000268201_693b08cb0e.jpg   \n",
      "3  1000268201_693b08cb0e.jpg   \n",
      "4  1000268201_693b08cb0e.jpg   \n",
      "\n",
      "                                             caption  \n",
      "0                                            caption  \n",
      "1  A child in a pink dress is climbing up a set o...  \n",
      "2              A girl going into a wooden building .  \n",
      "3   A little girl climbing into a wooden playhouse .  \n",
      "4  A little girl climbing the stairs to her playh...  \n"
     ]
    }
   ],
   "source": [
    "import pandas as pd\n",
    "\n",
    "captions_path = 'captions.txt'\n",
    "captions_data = pd.read_csv(captions_path, delimiter=',', header=None, names=['image', 'caption'])\n",
    "\n",
    "print(captions_data.head())\n"
   ]
  },
  {
   "cell_type": "markdown",
   "metadata": {},
   "source": [
    "# re-arrange the dataset since it could be multiple captions to one image\n"
   ]
  },
  {
   "cell_type": "code",
   "execution_count": 10,
   "metadata": {},
   "outputs": [
    {
     "name": "stdout",
     "output_type": "stream",
     "text": [
      "Image ID: image, Captions: ['caption']\n",
      "Image ID: 1000268201_693b08cb0e.jpg, Captions: ['A child in a pink dress is climbing up a set of stairs in an entry way .', 'A girl going into a wooden building .', 'A little girl climbing into a wooden playhouse .', 'A little girl climbing the stairs to her playhouse .', 'A little girl in a pink dress going into a wooden cabin .']\n",
      "Image ID: 1001773457_577c3a7d70.jpg, Captions: ['A black dog and a spotted dog are fighting', 'A black dog and a tri-colored dog playing with each other on the road .', 'A black dog and a white dog with brown spots are staring at each other in the street .', 'Two dogs of different breeds looking at each other on the road .', 'Two dogs on pavement moving toward each other .']\n"
     ]
    }
   ],
   "source": [
    "from collections import defaultdict\n",
    "\n",
    "image_captions = defaultdict(list)\n",
    "for i, row in captions_data.iterrows():\n",
    "    image_id, caption = row['image'], row['caption']\n",
    "    image_captions[image_id].append(caption)\n",
    "\n",
    "# Example of image ID and corresponding captions\n",
    "for key, value in list(image_captions.items())[:3]:\n",
    "    print(f\"Image ID: {key}, Captions: {value}\")"
   ]
  },
  {
   "cell_type": "markdown",
   "metadata": {},
   "source": [
    "# Split the captions into train and test\n"
   ]
  },
  {
   "cell_type": "code",
   "execution_count": 11,
   "metadata": {},
   "outputs": [
    {
     "name": "stdout",
     "output_type": "stream",
     "text": [
      "Training images: 6473, Testing images: 1619\n"
     ]
    }
   ],
   "source": [
    "import random\n",
    "\n",
    "# Get unique image IDs\n",
    "unique_image_ids = list(image_captions.keys())\n",
    "\n",
    "# Shuffle and split\n",
    "random.seed(42)\n",
    "random.shuffle(unique_image_ids)\n",
    "split_index = int(len(unique_image_ids) * 0.8)\n",
    "\n",
    "train_image_ids = unique_image_ids[:split_index]\n",
    "test_image_ids = unique_image_ids[split_index:]\n",
    "\n",
    "# Split captions dictionary\n",
    "train_image_captions = {img_id: image_captions[img_id] for img_id in train_image_ids}\n",
    "test_image_captions = {img_id: image_captions[img_id] for img_id in test_image_ids}\n",
    "\n",
    "print(f\"Training images: {len(train_image_captions)}, Testing images: {len(test_image_captions)}\")\n"
   ]
  },
  {
   "cell_type": "markdown",
   "metadata": {},
   "source": []
  },
  {
   "cell_type": "code",
   "execution_count": 12,
   "metadata": {},
   "outputs": [
    {
     "name": "stderr",
     "output_type": "stream",
     "text": [
      "2024-10-28 14:49:22.456063: I tensorflow/core/platform/cpu_feature_guard.cc:210] This TensorFlow binary is optimized to use available CPU instructions in performance-critical operations.\n",
      "To enable the following instructions: AVX2 FMA, in other operations, rebuild TensorFlow with the appropriate compiler flags.\n"
     ]
    }
   ],
   "source": [
    "from tensorflow.keras.applications import InceptionV3\n",
    "from tensorflow.keras.applications.inception_v3 import preprocess_input\n",
    "from tensorflow.keras.preprocessing.image import load_img, img_to_array\n",
    "from tensorflow.keras.models import Model\n",
    "import matplotlib.pyplot as plt"
   ]
  },
  {
   "cell_type": "code",
   "execution_count": 13,
   "metadata": {},
   "outputs": [],
   "source": [
    "base_model = InceptionV3(weights='imagenet')\n",
    "model = Model(inputs=base_model.input, outputs=base_model.layers[-2].output)"
   ]
  },
  {
   "cell_type": "markdown",
   "metadata": {},
   "source": [
    "# Extracting Features\n"
   ]
  },
  {
   "cell_type": "code",
   "execution_count": 14,
   "metadata": {},
   "outputs": [
    {
     "name": "stderr",
     "output_type": "stream",
     "text": [
      "Extracting Features:   0%|          | 0/6473 [00:00<?, ?it/s]"
     ]
    },
    {
     "name": "stderr",
     "output_type": "stream",
     "text": [
      "Extracting Features:  44%|████▍     | 2869/6473 [07:09<15:33,  3.86it/s]"
     ]
    },
    {
     "name": "stdout",
     "output_type": "stream",
     "text": [
      "Error processing image: [Errno 2] No such file or directory: 'Images/image'\n"
     ]
    },
    {
     "name": "stderr",
     "output_type": "stream",
     "text": [
      "Extracting Features: 100%|██████████| 6473/6473 [16:19<00:00,  6.61it/s]\n",
      "Extracting Features: 100%|██████████| 1619/1619 [03:54<00:00,  6.91it/s]\n"
     ]
    }
   ],
   "source": [
    "import os\n",
    "import numpy as np\n",
    "import pandas as pd\n",
    "images_directory = 'Images/'\n",
    "from tqdm import tqdm\n",
    "# Extract features for images\n",
    "def extract_features(image_ids, directory):\n",
    "    features = {}\n",
    "    for img_name in tqdm(image_ids, desc=\"Extracting Features\"):\n",
    "        img_path = os.path.join(directory, img_name)\n",
    "        try:\n",
    "            img = load_img(img_path, target_size=(299, 299))\n",
    "            img = img_to_array(img)\n",
    "            img = np.expand_dims(img, axis=0)\n",
    "            img = preprocess_input(img)\n",
    "\n",
    "            feature = model.predict(img, verbose=0)\n",
    "            features[img_name] = feature.flatten()\n",
    "        except Exception as e:\n",
    "            print(f\"Error processing {img_name}: {e}\")\n",
    "    return features\n",
    "\n",
    "# Extract features for train and test sets\n",
    "train_image_features = extract_features(train_image_ids, images_directory)\n",
    "test_image_features = extract_features(test_image_ids, images_directory)"
   ]
  },
  {
   "cell_type": "code",
   "execution_count": 21,
   "metadata": {},
   "outputs": [
    {
     "data": {
      "text/html": [
       "<div>\n",
       "<style scoped>\n",
       "    .dataframe tbody tr th:only-of-type {\n",
       "        vertical-align: middle;\n",
       "    }\n",
       "\n",
       "    .dataframe tbody tr th {\n",
       "        vertical-align: top;\n",
       "    }\n",
       "\n",
       "    .dataframe thead th {\n",
       "        text-align: right;\n",
       "    }\n",
       "</style>\n",
       "<table border=\"1\" class=\"dataframe\">\n",
       "  <thead>\n",
       "    <tr style=\"text-align: right;\">\n",
       "      <th></th>\n",
       "      <th>img_id</th>\n",
       "      <th>feature_vec</th>\n",
       "      <th>caption_list</th>\n",
       "    </tr>\n",
       "  </thead>\n",
       "  <tbody>\n",
       "    <tr>\n",
       "      <th>0</th>\n",
       "      <td>2874876837_80d178ba9b.jpg</td>\n",
       "      <td>[0.1126818, 0.686543, 1.0468475, 1.2603095, 0....</td>\n",
       "      <td>[A boy bouncing on a trampoline ., A boy jumpi...</td>\n",
       "    </tr>\n",
       "    <tr>\n",
       "      <th>1</th>\n",
       "      <td>636503038_17ca82b50f.jpg</td>\n",
       "      <td>[0.355483, 0.13217871, 0.46460524, 0.25969782,...</td>\n",
       "      <td>[Three fishers walk over rocks toward water , ...</td>\n",
       "    </tr>\n",
       "    <tr>\n",
       "      <th>2</th>\n",
       "      <td>3163068926_d28ed3ef53.jpg</td>\n",
       "      <td>[0.22388093, 0.21593846, 0.37896097, 0.6084094...</td>\n",
       "      <td>[A man holding a cup rides down an elevator .,...</td>\n",
       "    </tr>\n",
       "    <tr>\n",
       "      <th>3</th>\n",
       "      <td>2599131872_65789d86d5.jpg</td>\n",
       "      <td>[0.35698634, 0.49836507, 0.14549352, 0.4853641...</td>\n",
       "      <td>[Two blond girls are playing together ., Two g...</td>\n",
       "    </tr>\n",
       "    <tr>\n",
       "      <th>4</th>\n",
       "      <td>2343879696_59a82f496f.jpg</td>\n",
       "      <td>[0.074033014, 0.47447067, 0.3719489, 0.1543737...</td>\n",
       "      <td>[A child feels like he 's flying as his mom th...</td>\n",
       "    </tr>\n",
       "  </tbody>\n",
       "</table>\n",
       "</div>"
      ],
      "text/plain": [
       "                      img_id  \\\n",
       "0  2874876837_80d178ba9b.jpg   \n",
       "1   636503038_17ca82b50f.jpg   \n",
       "2  3163068926_d28ed3ef53.jpg   \n",
       "3  2599131872_65789d86d5.jpg   \n",
       "4  2343879696_59a82f496f.jpg   \n",
       "\n",
       "                                         feature_vec  \\\n",
       "0  [0.1126818, 0.686543, 1.0468475, 1.2603095, 0....   \n",
       "1  [0.355483, 0.13217871, 0.46460524, 0.25969782,...   \n",
       "2  [0.22388093, 0.21593846, 0.37896097, 0.6084094...   \n",
       "3  [0.35698634, 0.49836507, 0.14549352, 0.4853641...   \n",
       "4  [0.074033014, 0.47447067, 0.3719489, 0.1543737...   \n",
       "\n",
       "                                        caption_list  \n",
       "0  [A boy bouncing on a trampoline ., A boy jumpi...  \n",
       "1  [Three fishers walk over rocks toward water , ...  \n",
       "2  [A man holding a cup rides down an elevator .,...  \n",
       "3  [Two blond girls are playing together ., Two g...  \n",
       "4  [A child feels like he 's flying as his mom th...  "
      ]
     },
     "execution_count": 21,
     "metadata": {},
     "output_type": "execute_result"
    }
   ],
   "source": [
    "import pandas as pd\n",
    "\n",
    "# Create DataFrame from features dictionary\n",
    "features_df = pd.DataFrame(list(train_image_features.items()), columns=['img_id', 'feature_vec'])\n",
    "\n",
    "# Create DataFrame from captions dictionary\n",
    "captions_df = pd.DataFrame(list(train_image_captions.items()), columns=['img_id', 'caption_list'])\n",
    "\n",
    "# Merge both DataFrames on 'img_id'\n",
    "combined_df = pd.merge(features_df, captions_df, on='img_id')\n",
    "\n",
    "# Display the combined DataFrame\n",
    "combined_df.head()"
   ]
  },
  {
   "cell_type": "code",
   "execution_count": 24,
   "metadata": {},
   "outputs": [
    {
     "data": {
      "text/html": [
       "<div>\n",
       "<style scoped>\n",
       "    .dataframe tbody tr th:only-of-type {\n",
       "        vertical-align: middle;\n",
       "    }\n",
       "\n",
       "    .dataframe tbody tr th {\n",
       "        vertical-align: top;\n",
       "    }\n",
       "\n",
       "    .dataframe thead th {\n",
       "        text-align: right;\n",
       "    }\n",
       "</style>\n",
       "<table border=\"1\" class=\"dataframe\">\n",
       "  <thead>\n",
       "    <tr style=\"text-align: right;\">\n",
       "      <th></th>\n",
       "      <th>input_text</th>\n",
       "      <th>target_text</th>\n",
       "    </tr>\n",
       "  </thead>\n",
       "  <tbody>\n",
       "    <tr>\n",
       "      <th>0</th>\n",
       "      <td>Image features: 0.1126818 0.686543 1.0468475 1...</td>\n",
       "      <td>A boy bouncing on a trampoline . A boy jumping...</td>\n",
       "    </tr>\n",
       "    <tr>\n",
       "      <th>1</th>\n",
       "      <td>Image features: 0.355483 0.13217871 0.46460524...</td>\n",
       "      <td>Three fishers walk over rocks toward water , l...</td>\n",
       "    </tr>\n",
       "    <tr>\n",
       "      <th>2</th>\n",
       "      <td>Image features: 0.22388093 0.21593846 0.378960...</td>\n",
       "      <td>A man holding a cup rides down an elevator . A...</td>\n",
       "    </tr>\n",
       "    <tr>\n",
       "      <th>3</th>\n",
       "      <td>Image features: 0.35698634 0.49836507 0.145493...</td>\n",
       "      <td>Two blond girls are playing together . Two gir...</td>\n",
       "    </tr>\n",
       "    <tr>\n",
       "      <th>4</th>\n",
       "      <td>Image features: 0.074033014 0.47447067 0.37194...</td>\n",
       "      <td>A child feels like he 's flying as his mom thr...</td>\n",
       "    </tr>\n",
       "  </tbody>\n",
       "</table>\n",
       "</div>"
      ],
      "text/plain": [
       "                                          input_text  \\\n",
       "0  Image features: 0.1126818 0.686543 1.0468475 1...   \n",
       "1  Image features: 0.355483 0.13217871 0.46460524...   \n",
       "2  Image features: 0.22388093 0.21593846 0.378960...   \n",
       "3  Image features: 0.35698634 0.49836507 0.145493...   \n",
       "4  Image features: 0.074033014 0.47447067 0.37194...   \n",
       "\n",
       "                                         target_text  \n",
       "0  A boy bouncing on a trampoline . A boy jumping...  \n",
       "1  Three fishers walk over rocks toward water , l...  \n",
       "2  A man holding a cup rides down an elevator . A...  \n",
       "3  Two blond girls are playing together . Two gir...  \n",
       "4  A child feels like he 's flying as his mom thr...  "
      ]
     },
     "execution_count": 24,
     "metadata": {},
     "output_type": "execute_result"
    }
   ],
   "source": [
    "import pandas as pd\n",
    "\n",
    "# Create DataFrame from `train_image_features`\n",
    "df_features = pd.DataFrame(list(train_image_features.items()), columns=[\"img_id\", \"feature_vec\"])\n",
    "\n",
    "# Create DataFrame from `train_image_captions`\n",
    "df_captions = pd.DataFrame(list(train_image_captions.items()), columns=[\"img_id\", \"caption_list\"])\n",
    "\n",
    "# Merge DataFrames on `img_id`\n",
    "train_df = pd.merge(df_features, df_captions, on=\"img_id\")\n",
    "\n",
    "# Convert `feature_vec` to a string format and combine it with captions\n",
    "train_df[\"feature_vec_str\"] = train_df[\"feature_vec\"].apply(lambda x: ' '.join(map(str, x)))\n",
    "train_df[\"input_text\"] = \"Image features: \" + train_df[\"feature_vec_str\"] + \" Caption:\"\n",
    "train_df[\"target_text\"] = train_df[\"caption_list\"].apply(lambda x: ' '.join(x))\n",
    "\n",
    "# For fine-tuning, only keep necessary columns\n",
    "train_df = train_df[[\"input_text\", \"target_text\"]]\n",
    "train_df.head()\n"
   ]
  },
  {
   "cell_type": "code",
   "execution_count": 207,
   "metadata": {},
   "outputs": [],
   "source": [
    "import numpy as np\n",
    "\n",
    "X_train = np.array(list(train_image_features.values()))\n",
    "X_test = np.array(list(test_image_features.values()))\n",
    "\n",
    "X_train = X_train.reshape((X_train.shape[0], 1, X_train.shape[1]))\n",
    "X_test = X_test.reshape((X_test.shape[0], 1, X_test.shape[1]))\n",
    "\n",
    "y_train = np.random.randint(0, 2, X_train.shape[0]) \n",
    "y_test = np.random.randint(0, 2, X_test.shape[0])"
   ]
  },
  {
   "cell_type": "code",
   "execution_count": 208,
   "metadata": {},
   "outputs": [
    {
     "name": "stderr",
     "output_type": "stream",
     "text": [
      "/Users/xupeihan/miniconda3/envs/pytorchCMM_Project_20240524/lib/python3.10/site-packages/keras/src/layers/rnn/rnn.py:204: UserWarning: Do not pass an `input_shape`/`input_dim` argument to a layer. When using Sequential models, prefer using an `Input(shape)` object as the first layer in the model instead.\n",
      "  super().__init__(**kwargs)\n"
     ]
    },
    {
     "name": "stdout",
     "output_type": "stream",
     "text": [
      "Epoch 1/20\n",
      "\u001b[1m203/203\u001b[0m \u001b[32m━━━━━━━━━━━━━━━━━━━━\u001b[0m\u001b[37m\u001b[0m \u001b[1m11s\u001b[0m 11ms/step - accuracy: 0.5027 - loss: 0.6949 - val_accuracy: 0.2500 - val_loss: 0.6954\n",
      "Epoch 2/20\n",
      "\u001b[1m203/203\u001b[0m \u001b[32m━━━━━━━━━━━━━━━━━━━━\u001b[0m\u001b[37m\u001b[0m \u001b[1m2s\u001b[0m 10ms/step - accuracy: 0.5142 - loss: 0.6932 - val_accuracy: 0.2500 - val_loss: 0.7088\n",
      "Epoch 3/20\n",
      "\u001b[1m203/203\u001b[0m \u001b[32m━━━━━━━━━━━━━━━━━━━━\u001b[0m\u001b[37m\u001b[0m \u001b[1m2s\u001b[0m 9ms/step - accuracy: 0.4962 - loss: 0.6941 - val_accuracy: 0.7500 - val_loss: 0.6905\n",
      "Epoch 4/20\n",
      "\u001b[1m203/203\u001b[0m \u001b[32m━━━━━━━━━━━━━━━━━━━━\u001b[0m\u001b[37m\u001b[0m \u001b[1m2s\u001b[0m 8ms/step - accuracy: 0.5020 - loss: 0.6935 - val_accuracy: 0.7500 - val_loss: 0.6779\n",
      "Epoch 5/20\n",
      "\u001b[1m203/203\u001b[0m \u001b[32m━━━━━━━━━━━━━━━━━━━━\u001b[0m\u001b[37m\u001b[0m \u001b[1m2s\u001b[0m 9ms/step - accuracy: 0.5069 - loss: 0.6936 - val_accuracy: 0.7500 - val_loss: 0.6883\n",
      "Epoch 6/20\n",
      "\u001b[1m203/203\u001b[0m \u001b[32m━━━━━━━━━━━━━━━━━━━━\u001b[0m\u001b[37m\u001b[0m \u001b[1m2s\u001b[0m 10ms/step - accuracy: 0.5290 - loss: 0.6922 - val_accuracy: 0.2500 - val_loss: 0.6971\n",
      "Epoch 7/20\n",
      "\u001b[1m203/203\u001b[0m \u001b[32m━━━━━━━━━━━━━━━━━━━━\u001b[0m\u001b[37m\u001b[0m \u001b[1m2s\u001b[0m 9ms/step - accuracy: 0.5449 - loss: 0.6899 - val_accuracy: 0.0000e+00 - val_loss: 0.7168\n",
      "Epoch 8/20\n",
      "\u001b[1m203/203\u001b[0m \u001b[32m━━━━━━━━━━━━━━━━━━━━\u001b[0m\u001b[37m\u001b[0m \u001b[1m2s\u001b[0m 9ms/step - accuracy: 0.5533 - loss: 0.6867 - val_accuracy: 0.5000 - val_loss: 0.7080\n",
      "Epoch 9/20\n",
      "\u001b[1m203/203\u001b[0m \u001b[32m━━━━━━━━━━━━━━━━━━━━\u001b[0m\u001b[37m\u001b[0m \u001b[1m2s\u001b[0m 8ms/step - accuracy: 0.5738 - loss: 0.6812 - val_accuracy: 0.2500 - val_loss: 0.7946\n",
      "Epoch 10/20\n",
      "\u001b[1m203/203\u001b[0m \u001b[32m━━━━━━━━━━━━━━━━━━━━\u001b[0m\u001b[37m\u001b[0m \u001b[1m2s\u001b[0m 9ms/step - accuracy: 0.5942 - loss: 0.6711 - val_accuracy: 0.2500 - val_loss: 0.8681\n",
      "Epoch 11/20\n",
      "\u001b[1m203/203\u001b[0m \u001b[32m━━━━━━━━━━━━━━━━━━━━\u001b[0m\u001b[37m\u001b[0m \u001b[1m2s\u001b[0m 9ms/step - accuracy: 0.6097 - loss: 0.6630 - val_accuracy: 0.7500 - val_loss: 0.6959\n",
      "Epoch 12/20\n",
      "\u001b[1m203/203\u001b[0m \u001b[32m━━━━━━━━━━━━━━━━━━━━\u001b[0m\u001b[37m\u001b[0m \u001b[1m2s\u001b[0m 9ms/step - accuracy: 0.6140 - loss: 0.6573 - val_accuracy: 0.7500 - val_loss: 0.6932\n",
      "Epoch 13/20\n",
      "\u001b[1m203/203\u001b[0m \u001b[32m━━━━━━━━━━━━━━━━━━━━\u001b[0m\u001b[37m\u001b[0m \u001b[1m2s\u001b[0m 8ms/step - accuracy: 0.6528 - loss: 0.6337 - val_accuracy: 0.7500 - val_loss: 0.6140\n",
      "Epoch 14/20\n",
      "\u001b[1m203/203\u001b[0m \u001b[32m━━━━━━━━━━━━━━━━━━━━\u001b[0m\u001b[37m\u001b[0m \u001b[1m2s\u001b[0m 8ms/step - accuracy: 0.6415 - loss: 0.6327 - val_accuracy: 0.7500 - val_loss: 0.6137\n",
      "Epoch 15/20\n",
      "\u001b[1m203/203\u001b[0m \u001b[32m━━━━━━━━━━━━━━━━━━━━\u001b[0m\u001b[37m\u001b[0m \u001b[1m2s\u001b[0m 8ms/step - accuracy: 0.6659 - loss: 0.6199 - val_accuracy: 0.5000 - val_loss: 0.8693\n",
      "Epoch 16/20\n",
      "\u001b[1m203/203\u001b[0m \u001b[32m━━━━━━━━━━━━━━━━━━━━\u001b[0m\u001b[37m\u001b[0m \u001b[1m2s\u001b[0m 9ms/step - accuracy: 0.6708 - loss: 0.6119 - val_accuracy: 0.7500 - val_loss: 0.6059\n",
      "Epoch 17/20\n",
      "\u001b[1m203/203\u001b[0m \u001b[32m━━━━━━━━━━━━━━━━━━━━\u001b[0m\u001b[37m\u001b[0m \u001b[1m2s\u001b[0m 8ms/step - accuracy: 0.6929 - loss: 0.5904 - val_accuracy: 0.7500 - val_loss: 0.6880\n",
      "Epoch 18/20\n",
      "\u001b[1m203/203\u001b[0m \u001b[32m━━━━━━━━━━━━━━━━━━━━\u001b[0m\u001b[37m\u001b[0m \u001b[1m2s\u001b[0m 8ms/step - accuracy: 0.7068 - loss: 0.5781 - val_accuracy: 0.7500 - val_loss: 0.6763\n",
      "Epoch 19/20\n",
      "\u001b[1m203/203\u001b[0m \u001b[32m━━━━━━━━━━━━━━━━━━━━\u001b[0m\u001b[37m\u001b[0m \u001b[1m2s\u001b[0m 8ms/step - accuracy: 0.7135 - loss: 0.5603 - val_accuracy: 0.7500 - val_loss: 0.6727\n",
      "Epoch 20/20\n",
      "\u001b[1m203/203\u001b[0m \u001b[32m━━━━━━━━━━━━━━━━━━━━\u001b[0m\u001b[37m\u001b[0m \u001b[1m2s\u001b[0m 9ms/step - accuracy: 0.7340 - loss: 0.5362 - val_accuracy: 0.7500 - val_loss: 0.6960\n",
      "\u001b[1m1/1\u001b[0m \u001b[32m━━━━━━━━━━━━━━━━━━━━\u001b[0m\u001b[37m\u001b[0m \u001b[1m0s\u001b[0m 30ms/step - accuracy: 0.7500 - loss: 0.6960\n"
     ]
    },
    {
     "name": "stderr",
     "output_type": "stream",
     "text": [
      "WARNING:absl:You are saving your model as an HDF5 file via `model.save()` or `keras.saving.save_model(model)`. This file format is considered legacy. We recommend using instead the native Keras format, e.g. `model.save('my_model.keras')` or `keras.saving.save_model(model, 'my_model.keras')`. \n"
     ]
    },
    {
     "name": "stdout",
     "output_type": "stream",
     "text": [
      "Test Loss: 0.6960, Test Accuracy: 0.7500\n",
      "Save to'lstm_model.h5'\n"
     ]
    },
    {
     "name": "stderr",
     "output_type": "stream",
     "text": [
      "WARNING:absl:Compiled the loaded model, but the compiled metrics have yet to be built. `model.compile_metrics` will be empty until you train or evaluate the model.\n"
     ]
    },
    {
     "name": "stdout",
     "output_type": "stream",
     "text": [
      "Success\n",
      "\u001b[1m1/1\u001b[0m \u001b[32m━━━━━━━━━━━━━━━━━━━━\u001b[0m\u001b[37m\u001b[0m \u001b[1m1s\u001b[0m 745ms/step - accuracy: 0.7500 - loss: 0.6960\n",
      "Loaded Model Test Loss: 0.6960, Test Accuracy: 0.7500\n"
     ]
    }
   ],
   "source": [
    "from tensorflow.keras.models import Sequential, load_model\n",
    "from tensorflow.keras.layers import LSTM, Dense, Dropout\n",
    "from tensorflow.keras.optimizers import Adam\n",
    "\n",
    "model = Sequential()\n",
    "model.add(LSTM(64, return_sequences=True, input_shape=(X_train.shape[1], X_train.shape[2])))\n",
    "model.add(LSTM(32, return_sequences=False))\n",
    "model.add(Dropout(0.5))\n",
    "model.add(Dense(1, activation='sigmoid'))\n",
    "\n",
    "model.compile(optimizer='adam', loss='binary_crossentropy', metrics=['accuracy'])\n",
    "\n",
    "model.fit(X_train, y_train, epochs=20, batch_size=32, validation_data=(X_test, y_test))\n",
    "\n",
    "loss, accuracy = model.evaluate(X_test, y_test)\n",
    "print(f'Test Loss: {loss:.4f}, Test Accuracy: {accuracy:.4f}')\n",
    "\n",
    "model.save('lstm_model.h5')\n",
    "print(\"Save to'lstm_model.h5'\")\n",
    "\n",
    "loaded_model = load_model('lstm_model.h5')\n",
    "print(\"Success\")\n",
    "\n",
    "loss, accuracy = loaded_model.evaluate(X_test, y_test)\n",
    "print(f'Loaded Model Test Loss: {loss:.4f}, Test Accuracy: {accuracy:.4f}')"
   ]
  },
  {
   "cell_type": "code",
   "execution_count": 167,
   "metadata": {},
   "outputs": [
    {
     "data": {
      "application/vnd.jupyter.widget-view+json": {
       "model_id": "bbf295cb4f004ecab9bd2453a0281026",
       "version_major": 2,
       "version_minor": 0
      },
      "text/plain": [
       "0epoch [00:00, ?epoch/s]"
      ]
     },
     "metadata": {},
     "output_type": "display_data"
    },
    {
     "data": {
      "application/vnd.jupyter.widget-view+json": {
       "model_id": "7b58a56d87de4f71929057e38d5e9ead",
       "version_major": 2,
       "version_minor": 0
      },
      "text/plain": [
       "0batch [00:00, ?batch/s]"
      ]
     },
     "metadata": {},
     "output_type": "display_data"
    },
    {
     "name": "stdout",
     "output_type": "stream",
     "text": [
      "Epoch 1/100\n",
      "\u001b[1m203/203\u001b[0m \u001b[32m━━━━━━━━━━━━━━━━━━━━\u001b[0m\u001b[37m\u001b[0m \u001b[1m6s\u001b[0m 13ms/step - accuracy: 0.6884 - loss: 0.5994 - val_accuracy: 0.2500 - val_loss: 0.8922\n",
      "Epoch 2/100\n",
      "\u001b[1m203/203\u001b[0m \u001b[32m━━━━━━━━━━━━━━━━━━━━\u001b[0m\u001b[37m\u001b[0m \u001b[1m3s\u001b[0m 12ms/step - accuracy: 0.7059 - loss: 0.5859 - val_accuracy: 0.2500 - val_loss: 0.8676\n",
      "Epoch 3/100\n",
      "\u001b[1m203/203\u001b[0m \u001b[32m━━━━━━━━━━━━━━━━━━━━\u001b[0m\u001b[37m\u001b[0m \u001b[1m3s\u001b[0m 12ms/step - accuracy: 0.6999 - loss: 0.5801 - val_accuracy: 0.5000 - val_loss: 0.8150\n",
      "Epoch 4/100\n",
      "\u001b[1m203/203\u001b[0m \u001b[32m━━━━━━━━━━━━━━━━━━━━\u001b[0m\u001b[37m\u001b[0m \u001b[1m3s\u001b[0m 12ms/step - accuracy: 0.7181 - loss: 0.5645 - val_accuracy: 0.2500 - val_loss: 0.9793\n",
      "Epoch 5/100\n",
      "\u001b[1m203/203\u001b[0m \u001b[32m━━━━━━━━━━━━━━━━━━━━\u001b[0m\u001b[37m\u001b[0m \u001b[1m3s\u001b[0m 13ms/step - accuracy: 0.7203 - loss: 0.5392 - val_accuracy: 0.5000 - val_loss: 0.7976\n",
      "Epoch 6/100\n",
      "\u001b[1m203/203\u001b[0m \u001b[32m━━━━━━━━━━━━━━━━━━━━\u001b[0m\u001b[37m\u001b[0m \u001b[1m3s\u001b[0m 13ms/step - accuracy: 0.7399 - loss: 0.5244 - val_accuracy: 0.2500 - val_loss: 1.0205\n",
      "Epoch 7/100\n",
      "\u001b[1m203/203\u001b[0m \u001b[32m━━━━━━━━━━━━━━━━━━━━\u001b[0m\u001b[37m\u001b[0m \u001b[1m3s\u001b[0m 14ms/step - accuracy: 0.7334 - loss: 0.5321 - val_accuracy: 0.5000 - val_loss: 0.6471\n",
      "Epoch 8/100\n",
      "\u001b[1m203/203\u001b[0m \u001b[32m━━━━━━━━━━━━━━━━━━━━\u001b[0m\u001b[37m\u001b[0m \u001b[1m3s\u001b[0m 14ms/step - accuracy: 0.7542 - loss: 0.5061 - val_accuracy: 0.2500 - val_loss: 1.0974\n",
      "Epoch 9/100\n",
      "\u001b[1m203/203\u001b[0m \u001b[32m━━━━━━━━━━━━━━━━━━━━\u001b[0m\u001b[37m\u001b[0m \u001b[1m3s\u001b[0m 13ms/step - accuracy: 0.7631 - loss: 0.4959 - val_accuracy: 0.2500 - val_loss: 1.1141\n",
      "Epoch 10/100\n",
      "\u001b[1m203/203\u001b[0m \u001b[32m━━━━━━━━━━━━━━━━━━━━\u001b[0m\u001b[37m\u001b[0m \u001b[1m3s\u001b[0m 13ms/step - accuracy: 0.7800 - loss: 0.4658 - val_accuracy: 0.5000 - val_loss: 1.1809\n",
      "Epoch 11/100\n",
      "\u001b[1m203/203\u001b[0m \u001b[32m━━━━━━━━━━━━━━━━━━━━\u001b[0m\u001b[37m\u001b[0m \u001b[1m3s\u001b[0m 13ms/step - accuracy: 0.7924 - loss: 0.4435 - val_accuracy: 0.5000 - val_loss: 1.2486\n",
      "Epoch 12/100\n",
      "\u001b[1m203/203\u001b[0m \u001b[32m━━━━━━━━━━━━━━━━━━━━\u001b[0m\u001b[37m\u001b[0m \u001b[1m3s\u001b[0m 13ms/step - accuracy: 0.7978 - loss: 0.4266 - val_accuracy: 0.5000 - val_loss: 1.1632\n",
      "Epoch 13/100\n",
      "\u001b[1m203/203\u001b[0m \u001b[32m━━━━━━━━━━━━━━━━━━━━\u001b[0m\u001b[37m\u001b[0m \u001b[1m3s\u001b[0m 12ms/step - accuracy: 0.8062 - loss: 0.4162 - val_accuracy: 0.2500 - val_loss: 1.2874\n",
      "Epoch 14/100\n",
      "\u001b[1m203/203\u001b[0m \u001b[32m━━━━━━━━━━━━━━━━━━━━\u001b[0m\u001b[37m\u001b[0m \u001b[1m2s\u001b[0m 11ms/step - accuracy: 0.8271 - loss: 0.3837 - val_accuracy: 0.2500 - val_loss: 1.5357\n",
      "Epoch 15/100\n",
      "\u001b[1m203/203\u001b[0m \u001b[32m━━━━━━━━━━━━━━━━━━━━\u001b[0m\u001b[37m\u001b[0m \u001b[1m2s\u001b[0m 11ms/step - accuracy: 0.8325 - loss: 0.3630 - val_accuracy: 0.5000 - val_loss: 1.5014\n",
      "Epoch 16/100\n",
      "\u001b[1m203/203\u001b[0m \u001b[32m━━━━━━━━━━━━━━━━━━━━\u001b[0m\u001b[37m\u001b[0m \u001b[1m2s\u001b[0m 11ms/step - accuracy: 0.8465 - loss: 0.3543 - val_accuracy: 0.5000 - val_loss: 1.4781\n",
      "Epoch 17/100\n",
      "\u001b[1m203/203\u001b[0m \u001b[32m━━━━━━━━━━━━━━━━━━━━\u001b[0m\u001b[37m\u001b[0m \u001b[1m2s\u001b[0m 11ms/step - accuracy: 0.8542 - loss: 0.3385 - val_accuracy: 0.5000 - val_loss: 1.1043\n",
      "Epoch 18/100\n",
      "\u001b[1m203/203\u001b[0m \u001b[32m━━━━━━━━━━━━━━━━━━━━\u001b[0m\u001b[37m\u001b[0m \u001b[1m2s\u001b[0m 11ms/step - accuracy: 0.8538 - loss: 0.3326 - val_accuracy: 0.5000 - val_loss: 1.6270\n",
      "Epoch 19/100\n",
      "\u001b[1m203/203\u001b[0m \u001b[32m━━━━━━━━━━━━━━━━━━━━\u001b[0m\u001b[37m\u001b[0m \u001b[1m2s\u001b[0m 11ms/step - accuracy: 0.8830 - loss: 0.2872 - val_accuracy: 0.5000 - val_loss: 1.9197\n",
      "Epoch 20/100\n",
      "\u001b[1m203/203\u001b[0m \u001b[32m━━━━━━━━━━━━━━━━━━━━\u001b[0m\u001b[37m\u001b[0m \u001b[1m2s\u001b[0m 11ms/step - accuracy: 0.8909 - loss: 0.2721 - val_accuracy: 0.5000 - val_loss: 1.8594\n",
      "Epoch 21/100\n",
      "\u001b[1m203/203\u001b[0m \u001b[32m━━━━━━━━━━━━━━━━━━━━\u001b[0m\u001b[37m\u001b[0m \u001b[1m2s\u001b[0m 12ms/step - accuracy: 0.9040 - loss: 0.2443 - val_accuracy: 0.5000 - val_loss: 1.4174\n",
      "Epoch 22/100\n",
      "\u001b[1m203/203\u001b[0m \u001b[32m━━━━━━━━━━━━━━━━━━━━\u001b[0m\u001b[37m\u001b[0m \u001b[1m2s\u001b[0m 11ms/step - accuracy: 0.9160 - loss: 0.2214 - val_accuracy: 0.5000 - val_loss: 1.8451\n",
      "Epoch 23/100\n",
      "\u001b[1m203/203\u001b[0m \u001b[32m━━━━━━━━━━━━━━━━━━━━\u001b[0m\u001b[37m\u001b[0m \u001b[1m2s\u001b[0m 11ms/step - accuracy: 0.9141 - loss: 0.2116 - val_accuracy: 0.5000 - val_loss: 1.3128\n",
      "Epoch 24/100\n",
      "\u001b[1m203/203\u001b[0m \u001b[32m━━━━━━━━━━━━━━━━━━━━\u001b[0m\u001b[37m\u001b[0m \u001b[1m2s\u001b[0m 11ms/step - accuracy: 0.9169 - loss: 0.2104 - val_accuracy: 0.2500 - val_loss: 2.6591\n",
      "Epoch 25/100\n",
      "\u001b[1m203/203\u001b[0m \u001b[32m━━━━━━━━━━━━━━━━━━━━\u001b[0m\u001b[37m\u001b[0m \u001b[1m2s\u001b[0m 11ms/step - accuracy: 0.9356 - loss: 0.1824 - val_accuracy: 0.5000 - val_loss: 1.0718\n",
      "Epoch 26/100\n",
      "\u001b[1m203/203\u001b[0m \u001b[32m━━━━━━━━━━━━━━━━━━━━\u001b[0m\u001b[37m\u001b[0m \u001b[1m2s\u001b[0m 11ms/step - accuracy: 0.9366 - loss: 0.1740 - val_accuracy: 0.2500 - val_loss: 3.0966\n",
      "Epoch 27/100\n",
      "\u001b[1m203/203\u001b[0m \u001b[32m━━━━━━━━━━━━━━━━━━━━\u001b[0m\u001b[37m\u001b[0m \u001b[1m2s\u001b[0m 11ms/step - accuracy: 0.9435 - loss: 0.1610 - val_accuracy: 0.5000 - val_loss: 1.8848\n",
      "Epoch 28/100\n",
      "\u001b[1m203/203\u001b[0m \u001b[32m━━━━━━━━━━━━━━━━━━━━\u001b[0m\u001b[37m\u001b[0m \u001b[1m2s\u001b[0m 11ms/step - accuracy: 0.9481 - loss: 0.1487 - val_accuracy: 0.5000 - val_loss: 2.7926\n",
      "Epoch 29/100\n",
      "\u001b[1m203/203\u001b[0m \u001b[32m━━━━━━━━━━━━━━━━━━━━\u001b[0m\u001b[37m\u001b[0m \u001b[1m2s\u001b[0m 11ms/step - accuracy: 0.9523 - loss: 0.1307 - val_accuracy: 0.5000 - val_loss: 1.5559\n",
      "Epoch 30/100\n",
      "\u001b[1m203/203\u001b[0m \u001b[32m━━━━━━━━━━━━━━━━━━━━\u001b[0m\u001b[37m\u001b[0m \u001b[1m2s\u001b[0m 11ms/step - accuracy: 0.9536 - loss: 0.1259 - val_accuracy: 0.5000 - val_loss: 2.6818\n",
      "Epoch 31/100\n",
      "\u001b[1m203/203\u001b[0m \u001b[32m━━━━━━━━━━━━━━━━━━━━\u001b[0m\u001b[37m\u001b[0m \u001b[1m2s\u001b[0m 11ms/step - accuracy: 0.9480 - loss: 0.1408 - val_accuracy: 0.2500 - val_loss: 4.0490\n",
      "Epoch 32/100\n",
      "\u001b[1m203/203\u001b[0m \u001b[32m━━━━━━━━━━━━━━━━━━━━\u001b[0m\u001b[37m\u001b[0m \u001b[1m2s\u001b[0m 11ms/step - accuracy: 0.9551 - loss: 0.1234 - val_accuracy: 0.5000 - val_loss: 3.0334\n",
      "Epoch 33/100\n",
      "\u001b[1m203/203\u001b[0m \u001b[32m━━━━━━━━━━━━━━━━━━━━\u001b[0m\u001b[37m\u001b[0m \u001b[1m2s\u001b[0m 11ms/step - accuracy: 0.9602 - loss: 0.1166 - val_accuracy: 0.5000 - val_loss: 3.2125\n",
      "Epoch 34/100\n",
      "\u001b[1m203/203\u001b[0m \u001b[32m━━━━━━━━━━━━━━━━━━━━\u001b[0m\u001b[37m\u001b[0m \u001b[1m2s\u001b[0m 11ms/step - accuracy: 0.9707 - loss: 0.0896 - val_accuracy: 0.5000 - val_loss: 3.0634\n",
      "Epoch 35/100\n",
      "\u001b[1m203/203\u001b[0m \u001b[32m━━━━━━━━━━━━━━━━━━━━\u001b[0m\u001b[37m\u001b[0m \u001b[1m2s\u001b[0m 11ms/step - accuracy: 0.9838 - loss: 0.0658 - val_accuracy: 0.5000 - val_loss: 2.9375\n",
      "Epoch 36/100\n",
      "\u001b[1m203/203\u001b[0m \u001b[32m━━━━━━━━━━━━━━━━━━━━\u001b[0m\u001b[37m\u001b[0m \u001b[1m2s\u001b[0m 11ms/step - accuracy: 0.9841 - loss: 0.0631 - val_accuracy: 0.5000 - val_loss: 2.8764\n",
      "Epoch 37/100\n",
      "\u001b[1m203/203\u001b[0m \u001b[32m━━━━━━━━━━━━━━━━━━━━\u001b[0m\u001b[37m\u001b[0m \u001b[1m2s\u001b[0m 11ms/step - accuracy: 0.9842 - loss: 0.0580 - val_accuracy: 0.5000 - val_loss: 3.5263\n",
      "Epoch 38/100\n",
      "\u001b[1m203/203\u001b[0m \u001b[32m━━━━━━━━━━━━━━━━━━━━\u001b[0m\u001b[37m\u001b[0m \u001b[1m2s\u001b[0m 11ms/step - accuracy: 0.9613 - loss: 0.1148 - val_accuracy: 0.5000 - val_loss: 3.7509\n",
      "Epoch 39/100\n",
      "\u001b[1m203/203\u001b[0m \u001b[32m━━━━━━━━━━━━━━━━━━━━\u001b[0m\u001b[37m\u001b[0m \u001b[1m2s\u001b[0m 11ms/step - accuracy: 0.9782 - loss: 0.0714 - val_accuracy: 0.5000 - val_loss: 4.3032\n",
      "Epoch 40/100\n",
      "\u001b[1m203/203\u001b[0m \u001b[32m━━━━━━━━━━━━━━━━━━━━\u001b[0m\u001b[37m\u001b[0m \u001b[1m2s\u001b[0m 11ms/step - accuracy: 0.9658 - loss: 0.0953 - val_accuracy: 0.5000 - val_loss: 3.6962\n",
      "Epoch 41/100\n",
      "\u001b[1m203/203\u001b[0m \u001b[32m━━━━━━━━━━━━━━━━━━━━\u001b[0m\u001b[37m\u001b[0m \u001b[1m3s\u001b[0m 11ms/step - accuracy: 0.9815 - loss: 0.0596 - val_accuracy: 0.5000 - val_loss: 3.4236\n",
      "Epoch 42/100\n",
      "\u001b[1m203/203\u001b[0m \u001b[32m━━━━━━━━━━━━━━━━━━━━\u001b[0m\u001b[37m\u001b[0m \u001b[1m2s\u001b[0m 11ms/step - accuracy: 0.9852 - loss: 0.0500 - val_accuracy: 0.5000 - val_loss: 4.4476\n",
      "Epoch 43/100\n",
      "\u001b[1m203/203\u001b[0m \u001b[32m━━━━━━━━━━━━━━━━━━━━\u001b[0m\u001b[37m\u001b[0m \u001b[1m2s\u001b[0m 11ms/step - accuracy: 0.9884 - loss: 0.0476 - val_accuracy: 0.5000 - val_loss: 3.7916\n",
      "Epoch 44/100\n",
      "\u001b[1m203/203\u001b[0m \u001b[32m━━━━━━━━━━━━━━━━━━━━\u001b[0m\u001b[37m\u001b[0m \u001b[1m2s\u001b[0m 11ms/step - accuracy: 0.9910 - loss: 0.0384 - val_accuracy: 0.5000 - val_loss: 4.1095\n",
      "Epoch 45/100\n",
      "\u001b[1m203/203\u001b[0m \u001b[32m━━━━━━━━━━━━━━━━━━━━\u001b[0m\u001b[37m\u001b[0m \u001b[1m2s\u001b[0m 11ms/step - accuracy: 0.9968 - loss: 0.0230 - val_accuracy: 0.5000 - val_loss: 4.1894\n",
      "Epoch 46/100\n",
      "\u001b[1m203/203\u001b[0m \u001b[32m━━━━━━━━━━━━━━━━━━━━\u001b[0m\u001b[37m\u001b[0m \u001b[1m2s\u001b[0m 11ms/step - accuracy: 0.9929 - loss: 0.0317 - val_accuracy: 0.5000 - val_loss: 3.0848\n",
      "Epoch 47/100\n",
      "\u001b[1m203/203\u001b[0m \u001b[32m━━━━━━━━━━━━━━━━━━━━\u001b[0m\u001b[37m\u001b[0m \u001b[1m2s\u001b[0m 11ms/step - accuracy: 0.9921 - loss: 0.0340 - val_accuracy: 0.5000 - val_loss: 2.9775\n",
      "Epoch 48/100\n",
      "\u001b[1m203/203\u001b[0m \u001b[32m━━━━━━━━━━━━━━━━━━━━\u001b[0m\u001b[37m\u001b[0m \u001b[1m2s\u001b[0m 11ms/step - accuracy: 0.9764 - loss: 0.0804 - val_accuracy: 0.5000 - val_loss: 2.8300\n",
      "Epoch 49/100\n",
      "\u001b[1m203/203\u001b[0m \u001b[32m━━━━━━━━━━━━━━━━━━━━\u001b[0m\u001b[37m\u001b[0m \u001b[1m2s\u001b[0m 11ms/step - accuracy: 0.9649 - loss: 0.0925 - val_accuracy: 0.5000 - val_loss: 4.2463\n",
      "Epoch 50/100\n",
      "\u001b[1m203/203\u001b[0m \u001b[32m━━━━━━━━━━━━━━━━━━━━\u001b[0m\u001b[37m\u001b[0m \u001b[1m2s\u001b[0m 11ms/step - accuracy: 0.9804 - loss: 0.0687 - val_accuracy: 0.2500 - val_loss: 4.1212\n",
      "Epoch 51/100\n",
      "\u001b[1m203/203\u001b[0m \u001b[32m━━━━━━━━━━━━━━━━━━━━\u001b[0m\u001b[37m\u001b[0m \u001b[1m2s\u001b[0m 11ms/step - accuracy: 0.9901 - loss: 0.0364 - val_accuracy: 0.5000 - val_loss: 4.3704\n",
      "Epoch 52/100\n",
      "\u001b[1m203/203\u001b[0m \u001b[32m━━━━━━━━━━━━━━━━━━━━\u001b[0m\u001b[37m\u001b[0m \u001b[1m2s\u001b[0m 11ms/step - accuracy: 0.9915 - loss: 0.0330 - val_accuracy: 0.5000 - val_loss: 3.6512\n",
      "Epoch 53/100\n",
      "\u001b[1m203/203\u001b[0m \u001b[32m━━━━━━━━━━━━━━━━━━━━\u001b[0m\u001b[37m\u001b[0m \u001b[1m2s\u001b[0m 11ms/step - accuracy: 0.9967 - loss: 0.0241 - val_accuracy: 0.5000 - val_loss: 3.8895\n",
      "Epoch 54/100\n",
      "\u001b[1m203/203\u001b[0m \u001b[32m━━━━━━━━━━━━━━━━━━━━\u001b[0m\u001b[37m\u001b[0m \u001b[1m2s\u001b[0m 11ms/step - accuracy: 0.9969 - loss: 0.0201 - val_accuracy: 0.5000 - val_loss: 4.0441\n",
      "Epoch 55/100\n",
      "\u001b[1m203/203\u001b[0m \u001b[32m━━━━━━━━━━━━━━━━━━━━\u001b[0m\u001b[37m\u001b[0m \u001b[1m2s\u001b[0m 11ms/step - accuracy: 0.9979 - loss: 0.0142 - val_accuracy: 0.5000 - val_loss: 2.9204\n",
      "Epoch 56/100\n",
      "\u001b[1m203/203\u001b[0m \u001b[32m━━━━━━━━━━━━━━━━━━━━\u001b[0m\u001b[37m\u001b[0m \u001b[1m2s\u001b[0m 11ms/step - accuracy: 0.9795 - loss: 0.0667 - val_accuracy: 0.5000 - val_loss: 4.5832\n",
      "Epoch 57/100\n",
      "\u001b[1m203/203\u001b[0m \u001b[32m━━━━━━━━━━━━━━━━━━━━\u001b[0m\u001b[37m\u001b[0m \u001b[1m2s\u001b[0m 11ms/step - accuracy: 0.9485 - loss: 0.1700 - val_accuracy: 0.5000 - val_loss: 3.5526\n",
      "Epoch 58/100\n",
      "\u001b[1m203/203\u001b[0m \u001b[32m━━━━━━━━━━━━━━━━━━━━\u001b[0m\u001b[37m\u001b[0m \u001b[1m2s\u001b[0m 11ms/step - accuracy: 0.9885 - loss: 0.0448 - val_accuracy: 0.2500 - val_loss: 5.1116\n",
      "Epoch 59/100\n",
      "\u001b[1m203/203\u001b[0m \u001b[32m━━━━━━━━━━━━━━━━━━━━\u001b[0m\u001b[37m\u001b[0m \u001b[1m2s\u001b[0m 11ms/step - accuracy: 0.9961 - loss: 0.0201 - val_accuracy: 0.5000 - val_loss: 4.5030\n",
      "Epoch 60/100\n",
      "\u001b[1m203/203\u001b[0m \u001b[32m━━━━━━━━━━━━━━━━━━━━\u001b[0m\u001b[37m\u001b[0m \u001b[1m2s\u001b[0m 11ms/step - accuracy: 0.9982 - loss: 0.0129 - val_accuracy: 0.5000 - val_loss: 4.1628\n",
      "Epoch 61/100\n",
      "\u001b[1m203/203\u001b[0m \u001b[32m━━━━━━━━━━━━━━━━━━━━\u001b[0m\u001b[37m\u001b[0m \u001b[1m2s\u001b[0m 11ms/step - accuracy: 0.9990 - loss: 0.0116 - val_accuracy: 0.5000 - val_loss: 4.2446\n",
      "Epoch 62/100\n",
      "\u001b[1m203/203\u001b[0m \u001b[32m━━━━━━━━━━━━━━━━━━━━\u001b[0m\u001b[37m\u001b[0m \u001b[1m2s\u001b[0m 11ms/step - accuracy: 0.9990 - loss: 0.0098 - val_accuracy: 0.5000 - val_loss: 4.3752\n",
      "Epoch 63/100\n",
      "\u001b[1m203/203\u001b[0m \u001b[32m━━━━━━━━━━━━━━━━━━━━\u001b[0m\u001b[37m\u001b[0m \u001b[1m2s\u001b[0m 11ms/step - accuracy: 0.9875 - loss: 0.0436 - val_accuracy: 0.5000 - val_loss: 4.2873\n",
      "Epoch 64/100\n",
      "\u001b[1m203/203\u001b[0m \u001b[32m━━━━━━━━━━━━━━━━━━━━\u001b[0m\u001b[37m\u001b[0m \u001b[1m2s\u001b[0m 11ms/step - accuracy: 0.9777 - loss: 0.0866 - val_accuracy: 0.5000 - val_loss: 2.6547\n",
      "Epoch 65/100\n",
      "\u001b[1m203/203\u001b[0m \u001b[32m━━━━━━━━━━━━━━━━━━━━\u001b[0m\u001b[37m\u001b[0m \u001b[1m2s\u001b[0m 11ms/step - accuracy: 0.9553 - loss: 0.1190 - val_accuracy: 0.5000 - val_loss: 3.3408\n",
      "Epoch 66/100\n",
      "\u001b[1m203/203\u001b[0m \u001b[32m━━━━━━━━━━━━━━━━━━━━\u001b[0m\u001b[37m\u001b[0m \u001b[1m2s\u001b[0m 11ms/step - accuracy: 0.9915 - loss: 0.0298 - val_accuracy: 0.5000 - val_loss: 4.1437\n",
      "Epoch 67/100\n",
      "\u001b[1m203/203\u001b[0m \u001b[32m━━━━━━━━━━━━━━━━━━━━\u001b[0m\u001b[37m\u001b[0m \u001b[1m3s\u001b[0m 11ms/step - accuracy: 0.9987 - loss: 0.0147 - val_accuracy: 0.5000 - val_loss: 3.8320\n",
      "Epoch 68/100\n",
      "\u001b[1m203/203\u001b[0m \u001b[32m━━━━━━━━━━━━━━━━━━━━\u001b[0m\u001b[37m\u001b[0m \u001b[1m2s\u001b[0m 11ms/step - accuracy: 0.9978 - loss: 0.0171 - val_accuracy: 0.5000 - val_loss: 3.9643\n",
      "Epoch 69/100\n",
      "\u001b[1m203/203\u001b[0m \u001b[32m━━━━━━━━━━━━━━━━━━━━\u001b[0m\u001b[37m\u001b[0m \u001b[1m2s\u001b[0m 11ms/step - accuracy: 0.9990 - loss: 0.0109 - val_accuracy: 0.5000 - val_loss: 4.1617\n",
      "Epoch 70/100\n",
      "\u001b[1m203/203\u001b[0m \u001b[32m━━━━━━━━━━━━━━━━━━━━\u001b[0m\u001b[37m\u001b[0m \u001b[1m2s\u001b[0m 11ms/step - accuracy: 0.9986 - loss: 0.0163 - val_accuracy: 0.5000 - val_loss: 4.2663\n",
      "Epoch 71/100\n",
      "\u001b[1m203/203\u001b[0m \u001b[32m━━━━━━━━━━━━━━━━━━━━\u001b[0m\u001b[37m\u001b[0m \u001b[1m2s\u001b[0m 11ms/step - accuracy: 0.9987 - loss: 0.0107 - val_accuracy: 0.5000 - val_loss: 4.7628\n",
      "Epoch 72/100\n",
      "\u001b[1m203/203\u001b[0m \u001b[32m━━━━━━━━━━━━━━━━━━━━\u001b[0m\u001b[37m\u001b[0m \u001b[1m2s\u001b[0m 11ms/step - accuracy: 0.9994 - loss: 0.0063 - val_accuracy: 0.5000 - val_loss: 4.4811\n",
      "Epoch 73/100\n",
      "\u001b[1m203/203\u001b[0m \u001b[32m━━━━━━━━━━━━━━━━━━━━\u001b[0m\u001b[37m\u001b[0m \u001b[1m2s\u001b[0m 11ms/step - accuracy: 0.9986 - loss: 0.0090 - val_accuracy: 0.5000 - val_loss: 4.7306\n",
      "Epoch 74/100\n",
      "\u001b[1m203/203\u001b[0m \u001b[32m━━━━━━━━━━━━━━━━━━━━\u001b[0m\u001b[37m\u001b[0m \u001b[1m2s\u001b[0m 11ms/step - accuracy: 0.9993 - loss: 0.0071 - val_accuracy: 0.5000 - val_loss: 5.0776\n",
      "Epoch 75/100\n",
      "\u001b[1m203/203\u001b[0m \u001b[32m━━━━━━━━━━━━━━━━━━━━\u001b[0m\u001b[37m\u001b[0m \u001b[1m2s\u001b[0m 11ms/step - accuracy: 0.9995 - loss: 0.0071 - val_accuracy: 0.5000 - val_loss: 4.7230\n",
      "Epoch 76/100\n",
      "\u001b[1m203/203\u001b[0m \u001b[32m━━━━━━━━━━━━━━━━━━━━\u001b[0m\u001b[37m\u001b[0m \u001b[1m2s\u001b[0m 11ms/step - accuracy: 0.9992 - loss: 0.0060 - val_accuracy: 0.2500 - val_loss: 5.8002\n",
      "Epoch 77/100\n",
      "\u001b[1m203/203\u001b[0m \u001b[32m━━━━━━━━━━━━━━━━━━━━\u001b[0m\u001b[37m\u001b[0m \u001b[1m2s\u001b[0m 11ms/step - accuracy: 0.9118 - loss: 0.3593 - val_accuracy: 0.2500 - val_loss: 4.4654\n",
      "Epoch 78/100\n",
      "\u001b[1m203/203\u001b[0m \u001b[32m━━━━━━━━━━━━━━━━━━━━\u001b[0m\u001b[37m\u001b[0m \u001b[1m2s\u001b[0m 11ms/step - accuracy: 0.9724 - loss: 0.0854 - val_accuracy: 0.2500 - val_loss: 4.5003\n",
      "Epoch 79/100\n",
      "\u001b[1m203/203\u001b[0m \u001b[32m━━━━━━━━━━━━━━━━━━━━\u001b[0m\u001b[37m\u001b[0m \u001b[1m2s\u001b[0m 11ms/step - accuracy: 0.9865 - loss: 0.0445 - val_accuracy: 0.5000 - val_loss: 3.8262\n",
      "Epoch 80/100\n",
      "\u001b[1m203/203\u001b[0m \u001b[32m━━━━━━━━━━━━━━━━━━━━\u001b[0m\u001b[37m\u001b[0m \u001b[1m2s\u001b[0m 11ms/step - accuracy: 0.9989 - loss: 0.0121 - val_accuracy: 0.5000 - val_loss: 3.7508\n",
      "Epoch 81/100\n",
      "\u001b[1m203/203\u001b[0m \u001b[32m━━━━━━━━━━━━━━━━━━━━\u001b[0m\u001b[37m\u001b[0m \u001b[1m2s\u001b[0m 11ms/step - accuracy: 0.9990 - loss: 0.0102 - val_accuracy: 0.5000 - val_loss: 3.8814\n",
      "Epoch 82/100\n",
      "\u001b[1m203/203\u001b[0m \u001b[32m━━━━━━━━━━━━━━━━━━━━\u001b[0m\u001b[37m\u001b[0m \u001b[1m2s\u001b[0m 11ms/step - accuracy: 0.9992 - loss: 0.0092 - val_accuracy: 0.5000 - val_loss: 3.9238\n",
      "Epoch 83/100\n",
      "\u001b[1m203/203\u001b[0m \u001b[32m━━━━━━━━━━━━━━━━━━━━\u001b[0m\u001b[37m\u001b[0m \u001b[1m2s\u001b[0m 11ms/step - accuracy: 0.9990 - loss: 0.0080 - val_accuracy: 0.5000 - val_loss: 3.9330\n",
      "Epoch 84/100\n",
      "\u001b[1m203/203\u001b[0m \u001b[32m━━━━━━━━━━━━━━━━━━━━\u001b[0m\u001b[37m\u001b[0m \u001b[1m2s\u001b[0m 11ms/step - accuracy: 0.9990 - loss: 0.0085 - val_accuracy: 0.5000 - val_loss: 4.1622\n",
      "Epoch 85/100\n",
      "\u001b[1m203/203\u001b[0m \u001b[32m━━━━━━━━━━━━━━━━━━━━\u001b[0m\u001b[37m\u001b[0m \u001b[1m2s\u001b[0m 11ms/step - accuracy: 0.9993 - loss: 0.0061 - val_accuracy: 0.5000 - val_loss: 4.5487\n",
      "Epoch 86/100\n",
      "\u001b[1m203/203\u001b[0m \u001b[32m━━━━━━━━━━━━━━━━━━━━\u001b[0m\u001b[37m\u001b[0m \u001b[1m2s\u001b[0m 11ms/step - accuracy: 0.9993 - loss: 0.0073 - val_accuracy: 0.5000 - val_loss: 4.2955\n",
      "Epoch 87/100\n",
      "\u001b[1m203/203\u001b[0m \u001b[32m━━━━━━━━━━━━━━━━━━━━\u001b[0m\u001b[37m\u001b[0m \u001b[1m2s\u001b[0m 11ms/step - accuracy: 0.9996 - loss: 0.0050 - val_accuracy: 0.5000 - val_loss: 4.3595\n",
      "Epoch 88/100\n",
      "\u001b[1m203/203\u001b[0m \u001b[32m━━━━━━━━━━━━━━━━━━━━\u001b[0m\u001b[37m\u001b[0m \u001b[1m2s\u001b[0m 11ms/step - accuracy: 0.9993 - loss: 0.0056 - val_accuracy: 0.5000 - val_loss: 4.3101\n",
      "Epoch 89/100\n",
      "\u001b[1m203/203\u001b[0m \u001b[32m━━━━━━━━━━━━━━━━━━━━\u001b[0m\u001b[37m\u001b[0m \u001b[1m2s\u001b[0m 11ms/step - accuracy: 0.9995 - loss: 0.0045 - val_accuracy: 0.5000 - val_loss: 4.5781\n",
      "Epoch 90/100\n",
      "\u001b[1m203/203\u001b[0m \u001b[32m━━━━━━━━━━━━━━━━━━━━\u001b[0m\u001b[37m\u001b[0m \u001b[1m2s\u001b[0m 11ms/step - accuracy: 0.9993 - loss: 0.0057 - val_accuracy: 0.5000 - val_loss: 4.4364\n",
      "Epoch 91/100\n",
      "\u001b[1m203/203\u001b[0m \u001b[32m━━━━━━━━━━━━━━━━━━━━\u001b[0m\u001b[37m\u001b[0m \u001b[1m2s\u001b[0m 11ms/step - accuracy: 0.9995 - loss: 0.0043 - val_accuracy: 0.5000 - val_loss: 4.5134\n",
      "Epoch 92/100\n",
      "\u001b[1m203/203\u001b[0m \u001b[32m━━━━━━━━━━━━━━━━━━━━\u001b[0m\u001b[37m\u001b[0m \u001b[1m2s\u001b[0m 11ms/step - accuracy: 0.9995 - loss: 0.0044 - val_accuracy: 0.5000 - val_loss: 3.3651\n",
      "Epoch 93/100\n",
      "\u001b[1m203/203\u001b[0m \u001b[32m━━━━━━━━━━━━━━━━━━━━\u001b[0m\u001b[37m\u001b[0m \u001b[1m2s\u001b[0m 11ms/step - accuracy: 0.9991 - loss: 0.0075 - val_accuracy: 0.5000 - val_loss: 5.1556\n",
      "Epoch 94/100\n",
      "\u001b[1m203/203\u001b[0m \u001b[32m━━━━━━━━━━━━━━━━━━━━\u001b[0m\u001b[37m\u001b[0m \u001b[1m2s\u001b[0m 11ms/step - accuracy: 0.9995 - loss: 0.0042 - val_accuracy: 0.5000 - val_loss: 5.3148\n",
      "Epoch 95/100\n",
      "\u001b[1m203/203\u001b[0m \u001b[32m━━━━━━━━━━━━━━━━━━━━\u001b[0m\u001b[37m\u001b[0m \u001b[1m2s\u001b[0m 11ms/step - accuracy: 0.9994 - loss: 0.0045 - val_accuracy: 0.5000 - val_loss: 5.5094\n",
      "Epoch 96/100\n",
      "\u001b[1m203/203\u001b[0m \u001b[32m━━━━━━━━━━━━━━━━━━━━\u001b[0m\u001b[37m\u001b[0m \u001b[1m2s\u001b[0m 11ms/step - accuracy: 0.9990 - loss: 0.0062 - val_accuracy: 0.2500 - val_loss: 8.5333\n",
      "Epoch 97/100\n",
      "\u001b[1m203/203\u001b[0m \u001b[32m━━━━━━━━━━━━━━━━━━━━\u001b[0m\u001b[37m\u001b[0m \u001b[1m2s\u001b[0m 11ms/step - accuracy: 0.8708 - loss: 0.5151 - val_accuracy: 0.2500 - val_loss: 4.9242\n",
      "Epoch 98/100\n",
      "\u001b[1m203/203\u001b[0m \u001b[32m━━━━━━━━━━━━━━━━━━━━\u001b[0m\u001b[37m\u001b[0m \u001b[1m2s\u001b[0m 11ms/step - accuracy: 0.9673 - loss: 0.0868 - val_accuracy: 0.2500 - val_loss: 4.1370\n",
      "Epoch 99/100\n",
      "\u001b[1m203/203\u001b[0m \u001b[32m━━━━━━━━━━━━━━━━━━━━\u001b[0m\u001b[37m\u001b[0m \u001b[1m2s\u001b[0m 11ms/step - accuracy: 0.9917 - loss: 0.0339 - val_accuracy: 0.2500 - val_loss: 4.3440\n",
      "Epoch 100/100\n",
      "\u001b[1m203/203\u001b[0m \u001b[32m━━━━━━━━━━━━━━━━━━━━\u001b[0m\u001b[37m\u001b[0m \u001b[1m2s\u001b[0m 11ms/step - accuracy: 0.9953 - loss: 0.0218 - val_accuracy: 0.5000 - val_loss: 3.9608\n"
     ]
    },
    {
     "data": {
      "text/plain": [
       "<keras.src.callbacks.history.History at 0x7fdfebfdcc70>"
      ]
     },
     "execution_count": 167,
     "metadata": {},
     "output_type": "execute_result"
    }
   ],
   "source": [
    "from tqdm.keras import TqdmCallback\n",
    "from sklearn.utils.class_weight import compute_class_weight\n",
    "\n",
    "class_weights = compute_class_weight('balanced', classes=np.unique(y_train), y=y_train)\n",
    "class_weights = dict(enumerate(class_weights))\n",
    "\n",
    "model.fit(X_train, y_train, epochs=100, batch_size=32, validation_data=(X_test, y_test),\n",
    "          class_weight=class_weights, callbacks=[TqdmCallback()])\n"
   ]
  },
  {
   "cell_type": "code",
   "execution_count": 199,
   "metadata": {},
   "outputs": [],
   "source": [
    "def load_reference_dict(file_path):\n",
    "    reference_dict = {}\n",
    "    with open(file_path, 'r') as f:\n",
    "        for line in f:\n",
    "            image_id, caption = line.strip().split(',', 1)\n",
    "            if image_id in reference_dict:\n",
    "                reference_dict[image_id].append(caption)\n",
    "            else:\n",
    "                reference_dict[image_id] = [caption]\n",
    "    return reference_dict\n",
    "\n",
    "reference_dict = load_reference_dict('captions.txt')"
   ]
  },
  {
   "cell_type": "code",
   "execution_count": 200,
   "metadata": {},
   "outputs": [],
   "source": [
    "import numpy as np\n",
    "from nltk.translate.bleu_score import sentence_bleu, SmoothingFunction\n",
    "\n",
    "def calculate_bleu(generated_caption, reference_captions):\n",
    "    reference_captions = [caption.split() for caption in reference_captions]\n",
    "    generated_tokens = generated_caption.split()\n",
    "\n",
    "    weights = (0.5, 0.5)\n",
    "\n",
    "    chencherry = SmoothingFunction()\n",
    "    score = sentence_bleu(\n",
    "        reference_captions,\n",
    "        generated_tokens,\n",
    "        weights=weights,\n",
    "        smoothing_function=chencherry.method1\n",
    "    )\n",
    "    return score"
   ]
  },
  {
   "cell_type": "code",
   "execution_count": 201,
   "metadata": {},
   "outputs": [
    {
     "name": "stdout",
     "output_type": "stream",
     "text": [
      "Save to 'generated_captions_LSTM.txt'\n"
     ]
    }
   ],
   "source": [
    "def generate_caption_lstm(feature, max_length=20):\n",
    "    input_text = ['startseq']\n",
    "    input_sequence = np.zeros((1, max_length, feature.shape[0]))\n",
    "\n",
    "    input_sequence[0, 0, :] = feature \n",
    "\n",
    "    for i in range(1, max_length):\n",
    "        y_pred = model.predict(input_sequence[:, :i, :], verbose=0)\n",
    "        next_word_index = np.argmax(y_pred)\n",
    "\n",
    "        next_word = decode_index_to_word(next_word_index)\n",
    "        if next_word == 'endseq':\n",
    "            break\n",
    "\n",
    "        input_text.append(next_word)\n",
    "        input_sequence[0, i, :] = encode_text(next_word)\n",
    "\n",
    "    return ' '.join(input_text[1:])\n",
    "\n",
    "\n",
    "with open('generated_captions_LSTM.txt', 'w') as f:\n",
    "    for image_id in reference_dict.keys():\n",
    "        generated_caption = generate_caption(image_id)\n",
    "        f.write(f\"{image_id}|{generated_caption}\\n\")\n",
    "\n",
    "print(\"Save to 'generated_captions_LSTM.txt'\")"
   ]
  },
  {
   "cell_type": "code",
   "execution_count": 220,
   "metadata": {},
   "outputs": [],
   "source": [
    "generated_dict = {}\n",
    "with open('generated_captions_LSTM.txt', 'r') as f:\n",
    "    for line in f:\n",
    "        image_id, caption = line.strip().split('|', 1)\n",
    "        generated_dict[image_id] = caption\n",
    "\n",
    "\n",
    "bleu_scores = []\n",
    "\n",
    "for image_id, generated_caption in generated_dict.items():\n",
    "    if image_id in reference_dict:\n",
    "        reference_captions = reference_dict[image_id]\n",
    "        score = calculate_bleu(generated_caption, reference_captions)\n",
    "        bleu_scores.append({'Image ID': image_id, 'BLEU Score': score})\n",
    "    else:\n",
    "        bleu_scores.append({'Image ID': image_id, 'BLEU Score': None})\n",
    "\n",
    "df = pd.DataFrame(bleu_scores)\n",
    "#print(df)"
   ]
  },
  {
   "cell_type": "code",
   "execution_count": 221,
   "metadata": {},
   "outputs": [
    {
     "name": "stdout",
     "output_type": "stream",
     "text": [
      "                       Image ID  BLEU Score   Category\n",
      "0                         image    0.316228   Moderate\n",
      "1     1000268201_693b08cb0e.jpg    0.942809  Excellent\n",
      "2     1001773457_577c3a7d70.jpg    0.942809  Excellent\n",
      "3     1002674143_1b742ab4b8.jpg    1.000000  Excellent\n",
      "4     1003163366_44323f5815.jpg    0.853089  Excellent\n",
      "...                         ...         ...        ...\n",
      "8087   990890291_afc72be141.jpg    1.000000  Excellent\n",
      "8088    99171998_7cc800ceef.jpg    0.942809  Excellent\n",
      "8089    99679241_adc853a5c0.jpg    0.942809  Excellent\n",
      "8090   997338199_7343367d7f.jpg    0.942809  Excellent\n",
      "8091   997722733_0cb5439472.jpg    0.942809  Excellent\n",
      "\n",
      "[8092 rows x 3 columns]\n"
     ]
    }
   ],
   "source": [
    "def categorize_bleu(score):\n",
    "    if score is None:\n",
    "        return 'No Score'\n",
    "    elif score >= 0.7:\n",
    "        return 'Excellent'\n",
    "    elif score >= 0.5:\n",
    "        return 'Good'\n",
    "    elif score >= 0.3:\n",
    "        return 'Moderate'\n",
    "    else:\n",
    "        return 'Poor'\n",
    "\n",
    "df['Category'] = df['BLEU Score'].apply(categorize_bleu)\n",
    "print(df)"
   ]
  },
  {
   "cell_type": "code",
   "execution_count": 222,
   "metadata": {},
   "outputs": [
    {
     "data": {
      "image/png": "[encoded data removed]",
      "text/plain": [
       "<Figure size 640x480 with 1 Axes>"
      ]
     },
     "metadata": {},
     "output_type": "display_data"
    }
   ],
   "source": [
    "df['BLEU Score'].dropna().plot(kind='hist', bins=12, alpha=0.8, color= 'g')\n",
    "plt.xlabel('BLEU Score')\n",
    "plt.ylabel('Frequency')\n",
    "plt.title('Distribution of BLEU Scores on LSTM')\n",
    "plt.show()"
   ]
  },
  {
   "cell_type": "code",
   "execution_count": null,
   "metadata": {},
   "outputs": [],
   "source": []
  },
  {
   "cell_type": "code",
   "execution_count": 216,
   "metadata": {},
   "outputs": [
    {
     "name": "stderr",
     "output_type": "stream",
     "text": [
      "Processing Captions: 100%|██████████| 8092/8092 [19:05<00:00,  7.06caption/s] \n"
     ]
    }
   ],
   "source": [
    "import pandas as pd\n",
    "from sklearn.metrics.pairwise import cosine_similarity\n",
    "from sentence_transformers import SentenceTransformer, util\n",
    "from tqdm import tqdm\n",
    "\n",
    "model = SentenceTransformer('all-MiniLM-L6-v2')\n",
    "\n",
    "generated_dict = {}\n",
    "with open('generated_captions_LSTM.txt', 'r') as f:\n",
    "    for line in f:\n",
    "        image_id, caption = line.strip().split('|', 1)\n",
    "        generated_dict[image_id] = caption\n",
    "\n",
    "semantic_scores = []\n",
    "\n",
    "for image_id, generated_caption in tqdm(generated_dict.items(), desc=\"Processing Captions\", unit=\"caption\"):\n",
    "    if image_id in reference_dict and reference_dict[image_id]:\n",
    "        reference_captions = reference_dict[image_id]\n",
    "\n",
    "        gen_embedding = model.encode([generated_caption], convert_to_tensor=True)\n",
    "        ref_embeddings = model.encode(reference_captions, convert_to_tensor=True)\n",
    "\n",
    "        similarities = util.cos_sim(gen_embedding, ref_embeddings).squeeze(0).tolist()\n",
    "        max_similarity = max(similarities)\n",
    "\n",
    "        semantic_scores.append({\n",
    "            'Image ID': image_id,\n",
    "            'Semantic Similarity': max_similarity,\n",
    "            'All Similarities': similarities  \n",
    "        })\n",
    "    else:\n",
    "        semantic_scores.append({'Image ID': image_id, 'Semantic Similarity': None})\n",
    "\n",
    "df_semantic = pd.DataFrame(semantic_scores)\n",
    "#print(df_semantic)"
   ]
  },
  {
   "cell_type": "code",
   "execution_count": 217,
   "metadata": {},
   "outputs": [
    {
     "data": {
      "text/html": [
       "<div>\n",
       "<style scoped>\n",
       "    .dataframe tbody tr th:only-of-type {\n",
       "        vertical-align: middle;\n",
       "    }\n",
       "\n",
       "    .dataframe tbody tr th {\n",
       "        vertical-align: top;\n",
       "    }\n",
       "\n",
       "    .dataframe thead th {\n",
       "        text-align: right;\n",
       "    }\n",
       "</style>\n",
       "<table border=\"1\" class=\"dataframe\">\n",
       "  <thead>\n",
       "    <tr style=\"text-align: right;\">\n",
       "      <th></th>\n",
       "      <th>Image ID</th>\n",
       "      <th>Semantic Similarity</th>\n",
       "      <th>All Similarities</th>\n",
       "    </tr>\n",
       "  </thead>\n",
       "  <tbody>\n",
       "    <tr>\n",
       "      <th>0</th>\n",
       "      <td>image</td>\n",
       "      <td>1.000000</td>\n",
       "      <td>[1.0]</td>\n",
       "    </tr>\n",
       "    <tr>\n",
       "      <th>1</th>\n",
       "      <td>1000268201_693b08cb0e.jpg</td>\n",
       "      <td>0.647778</td>\n",
       "      <td>[0.5697086453437805, 0.647777795791626, 0.5306...</td>\n",
       "    </tr>\n",
       "    <tr>\n",
       "      <th>2</th>\n",
       "      <td>1001773457_577c3a7d70.jpg</td>\n",
       "      <td>0.832560</td>\n",
       "      <td>[0.5399105548858643, 0.8325604200363159, 0.630...</td>\n",
       "    </tr>\n",
       "    <tr>\n",
       "      <th>3</th>\n",
       "      <td>1002674143_1b742ab4b8.jpg</td>\n",
       "      <td>0.863295</td>\n",
       "      <td>[0.803830087184906, 0.8632951974868774, 0.6234...</td>\n",
       "    </tr>\n",
       "    <tr>\n",
       "      <th>4</th>\n",
       "      <td>1003163366_44323f5815.jpg</td>\n",
       "      <td>0.842080</td>\n",
       "      <td>[0.7331840395927429, 0.8420799374580383, 0.542...</td>\n",
       "    </tr>\n",
       "    <tr>\n",
       "      <th>...</th>\n",
       "      <td>...</td>\n",
       "      <td>...</td>\n",
       "      <td>...</td>\n",
       "    </tr>\n",
       "    <tr>\n",
       "      <th>8087</th>\n",
       "      <td>990890291_afc72be141.jpg</td>\n",
       "      <td>0.982548</td>\n",
       "      <td>[0.7597371935844421, 0.9825478792190552, 0.642...</td>\n",
       "    </tr>\n",
       "    <tr>\n",
       "      <th>8088</th>\n",
       "      <td>99171998_7cc800ceef.jpg</td>\n",
       "      <td>0.957000</td>\n",
       "      <td>[0.7951617240905762, 0.9569998979568481, 0.850...</td>\n",
       "    </tr>\n",
       "    <tr>\n",
       "      <th>8089</th>\n",
       "      <td>99679241_adc853a5c0.jpg</td>\n",
       "      <td>0.918090</td>\n",
       "      <td>[0.9180898666381836, 0.7521243095397949, 0.700...</td>\n",
       "    </tr>\n",
       "    <tr>\n",
       "      <th>8090</th>\n",
       "      <td>997338199_7343367d7f.jpg</td>\n",
       "      <td>0.784364</td>\n",
       "      <td>[0.7843636274337769, 0.7094491720199585, 0.692...</td>\n",
       "    </tr>\n",
       "    <tr>\n",
       "      <th>8091</th>\n",
       "      <td>997722733_0cb5439472.jpg</td>\n",
       "      <td>0.600945</td>\n",
       "      <td>[0.5699892640113831, 0.6009448170661926, 0.260...</td>\n",
       "    </tr>\n",
       "  </tbody>\n",
       "</table>\n",
       "<p>8092 rows × 3 columns</p>\n",
       "</div>"
      ],
      "text/plain": [
       "                       Image ID  Semantic Similarity  \\\n",
       "0                         image             1.000000   \n",
       "1     1000268201_693b08cb0e.jpg             0.647778   \n",
       "2     1001773457_577c3a7d70.jpg             0.832560   \n",
       "3     1002674143_1b742ab4b8.jpg             0.863295   \n",
       "4     1003163366_44323f5815.jpg             0.842080   \n",
       "...                         ...                  ...   \n",
       "8087   990890291_afc72be141.jpg             0.982548   \n",
       "8088    99171998_7cc800ceef.jpg             0.957000   \n",
       "8089    99679241_adc853a5c0.jpg             0.918090   \n",
       "8090   997338199_7343367d7f.jpg             0.784364   \n",
       "8091   997722733_0cb5439472.jpg             0.600945   \n",
       "\n",
       "                                       All Similarities  \n",
       "0                                                 [1.0]  \n",
       "1     [0.5697086453437805, 0.647777795791626, 0.5306...  \n",
       "2     [0.5399105548858643, 0.8325604200363159, 0.630...  \n",
       "3     [0.803830087184906, 0.8632951974868774, 0.6234...  \n",
       "4     [0.7331840395927429, 0.8420799374580383, 0.542...  \n",
       "...                                                 ...  \n",
       "8087  [0.7597371935844421, 0.9825478792190552, 0.642...  \n",
       "8088  [0.7951617240905762, 0.9569998979568481, 0.850...  \n",
       "8089  [0.9180898666381836, 0.7521243095397949, 0.700...  \n",
       "8090  [0.7843636274337769, 0.7094491720199585, 0.692...  \n",
       "8091  [0.5699892640113831, 0.6009448170661926, 0.260...  \n",
       "\n",
       "[8092 rows x 3 columns]"
      ]
     },
     "execution_count": 217,
     "metadata": {},
     "output_type": "execute_result"
    }
   ],
   "source": [
    "df = pd.DataFrame(semantic_scores)\n",
    "df"
   ]
  },
  {
   "cell_type": "code",
   "execution_count": 225,
   "metadata": {},
   "outputs": [
    {
     "data": {
      "image/png": "[encoded data removed]",
      "text/plain": [
       "<Figure size 640x480 with 1 Axes>"
      ]
     },
     "metadata": {},
     "output_type": "display_data"
    }
   ],
   "source": [
    "\n",
    "plt.hist(df_semantic['Semantic Similarity'], bins=10, color='b')\n",
    "plt.title('Distribution of Semantic Similarity on LSTM')\n",
    "plt.xlabel('Semantic Similarity')\n",
    "plt.ylabel('Frequency')\n",
    "plt.grid(axis='y', linestyle='--', alpha=0.7)\n",
    "\n",
    "plt.show()"
   ]
  },
  {
   "cell_type": "code",
   "execution_count": null,
   "metadata": {},
   "outputs": [],
   "source": []
  }
 ],
 "metadata": {
  "kernelspec": {
   "display_name": "Python 3",
   "language": "python",
   "name": "python3"
  },
  "language_info": {
   "codemirror_mode": {
    "name": "ipython",
    "version": 3
   },
   "file_extension": ".py",
   "mimetype": "text/x-python",
   "name": "python",
   "nbconvert_exporter": "python",
   "pygments_lexer": "ipython3",
   "version": "3.10.13"
  }
 },
 "nbformat": 4,
 "nbformat_minor": 2
}
