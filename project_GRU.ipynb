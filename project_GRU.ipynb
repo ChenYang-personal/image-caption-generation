{
 "cells": [
  {
   "cell_type": "code",
   "execution_count": 39,
   "metadata": {},
   "outputs": [],
   "source": [
    "### import kagglehub\n",
    "\n",
    "# Download latest version\n",
    "###path = kagglehub.dataset_download(\"adityajn105/flickr8k\")\n",
    "\n",
    "###print(\"Path to dataset files:\", path)"
   ]
  },
  {
   "cell_type": "code",
   "execution_count": 40,
   "metadata": {},
   "outputs": [
    {
     "name": "stdout",
     "output_type": "stream",
     "text": [
      "Requirement already satisfied: tensorflow in /Users/xupeihan/miniconda3/envs/pytorchCMM_Project_20240524/lib/python3.10/site-packages (2.16.2)\n",
      "Requirement already satisfied: numpy in /Users/xupeihan/miniconda3/envs/pytorchCMM_Project_20240524/lib/python3.10/site-packages (1.26.4)\n",
      "Requirement already satisfied: pandas in /Users/xupeihan/miniconda3/envs/pytorchCMM_Project_20240524/lib/python3.10/site-packages (2.2.3)\n",
      "Requirement already satisfied: matplotlib in /Users/xupeihan/miniconda3/envs/pytorchCMM_Project_20240524/lib/python3.10/site-packages (3.9.2)\n",
      "Requirement already satisfied: nltk in /Users/xupeihan/miniconda3/envs/pytorchCMM_Project_20240524/lib/python3.10/site-packages (3.9.1)\n",
      "Requirement already satisfied: absl-py>=1.0.0 in /Users/xupeihan/miniconda3/envs/pytorchCMM_Project_20240524/lib/python3.10/site-packages (from tensorflow) (2.1.0)\n",
      "Requirement already satisfied: astunparse>=1.6.0 in /Users/xupeihan/miniconda3/envs/pytorchCMM_Project_20240524/lib/python3.10/site-packages (from tensorflow) (1.6.3)\n",
      "Requirement already satisfied: flatbuffers>=23.5.26 in /Users/xupeihan/miniconda3/envs/pytorchCMM_Project_20240524/lib/python3.10/site-packages (from tensorflow) (24.3.25)\n",
      "Requirement already satisfied: gast!=0.5.0,!=0.5.1,!=0.5.2,>=0.2.1 in /Users/xupeihan/miniconda3/envs/pytorchCMM_Project_20240524/lib/python3.10/site-packages (from tensorflow) (0.4.0)\n",
      "Requirement already satisfied: google-pasta>=0.1.1 in /Users/xupeihan/miniconda3/envs/pytorchCMM_Project_20240524/lib/python3.10/site-packages (from tensorflow) (0.2.0)\n",
      "Requirement already satisfied: h5py>=3.10.0 in /Users/xupeihan/miniconda3/envs/pytorchCMM_Project_20240524/lib/python3.10/site-packages (from tensorflow) (3.11.0)\n",
      "Requirement already satisfied: libclang>=13.0.0 in /Users/xupeihan/miniconda3/envs/pytorchCMM_Project_20240524/lib/python3.10/site-packages (from tensorflow) (18.1.1)\n",
      "Requirement already satisfied: ml-dtypes~=0.3.1 in /Users/xupeihan/miniconda3/envs/pytorchCMM_Project_20240524/lib/python3.10/site-packages (from tensorflow) (0.3.2)\n",
      "Requirement already satisfied: opt-einsum>=2.3.2 in /Users/xupeihan/miniconda3/envs/pytorchCMM_Project_20240524/lib/python3.10/site-packages (from tensorflow) (3.3.0)\n",
      "Requirement already satisfied: packaging in /Users/xupeihan/miniconda3/envs/pytorchCMM_Project_20240524/lib/python3.10/site-packages (from tensorflow) (23.2)\n",
      "Requirement already satisfied: protobuf!=4.21.0,!=4.21.1,!=4.21.2,!=4.21.3,!=4.21.4,!=4.21.5,<5.0.0dev,>=3.20.3 in /Users/xupeihan/miniconda3/envs/pytorchCMM_Project_20240524/lib/python3.10/site-packages (from tensorflow) (4.25.5)\n",
      "Requirement already satisfied: requests<3,>=2.21.0 in /Users/xupeihan/miniconda3/envs/pytorchCMM_Project_20240524/lib/python3.10/site-packages (from tensorflow) (2.32.3)\n",
      "Requirement already satisfied: setuptools in /Users/xupeihan/miniconda3/envs/pytorchCMM_Project_20240524/lib/python3.10/site-packages (from tensorflow) (69.5.1)\n",
      "Requirement already satisfied: six>=1.12.0 in /Users/xupeihan/miniconda3/envs/pytorchCMM_Project_20240524/lib/python3.10/site-packages (from tensorflow) (1.16.0)\n",
      "Requirement already satisfied: termcolor>=1.1.0 in /Users/xupeihan/miniconda3/envs/pytorchCMM_Project_20240524/lib/python3.10/site-packages (from tensorflow) (2.1.0)\n",
      "Requirement already satisfied: typing-extensions>=3.6.6 in /Users/xupeihan/miniconda3/envs/pytorchCMM_Project_20240524/lib/python3.10/site-packages (from tensorflow) (4.11.0)\n",
      "Requirement already satisfied: wrapt>=1.11.0 in /Users/xupeihan/miniconda3/envs/pytorchCMM_Project_20240524/lib/python3.10/site-packages (from tensorflow) (1.14.1)\n",
      "Requirement already satisfied: grpcio<2.0,>=1.24.3 in /Users/xupeihan/miniconda3/envs/pytorchCMM_Project_20240524/lib/python3.10/site-packages (from tensorflow) (1.48.2)\n",
      "Requirement already satisfied: tensorboard<2.17,>=2.16 in /Users/xupeihan/miniconda3/envs/pytorchCMM_Project_20240524/lib/python3.10/site-packages (from tensorflow) (2.16.2)\n",
      "Requirement already satisfied: keras>=3.0.0 in /Users/xupeihan/miniconda3/envs/pytorchCMM_Project_20240524/lib/python3.10/site-packages (from tensorflow) (3.6.0)\n",
      "Requirement already satisfied: tensorflow-io-gcs-filesystem>=0.23.1 in /Users/xupeihan/miniconda3/envs/pytorchCMM_Project_20240524/lib/python3.10/site-packages (from tensorflow) (0.37.0)\n",
      "Requirement already satisfied: python-dateutil>=2.8.2 in /Users/xupeihan/miniconda3/envs/pytorchCMM_Project_20240524/lib/python3.10/site-packages (from pandas) (2.9.0)\n",
      "Requirement already satisfied: pytz>=2020.1 in /Users/xupeihan/miniconda3/envs/pytorchCMM_Project_20240524/lib/python3.10/site-packages (from pandas) (2024.2)\n",
      "Requirement already satisfied: tzdata>=2022.7 in /Users/xupeihan/miniconda3/envs/pytorchCMM_Project_20240524/lib/python3.10/site-packages (from pandas) (2024.2)\n",
      "Requirement already satisfied: contourpy>=1.0.1 in /Users/xupeihan/miniconda3/envs/pytorchCMM_Project_20240524/lib/python3.10/site-packages (from matplotlib) (1.3.0)\n",
      "Requirement already satisfied: cycler>=0.10 in /Users/xupeihan/miniconda3/envs/pytorchCMM_Project_20240524/lib/python3.10/site-packages (from matplotlib) (0.12.1)\n",
      "Requirement already satisfied: fonttools>=4.22.0 in /Users/xupeihan/miniconda3/envs/pytorchCMM_Project_20240524/lib/python3.10/site-packages (from matplotlib) (4.54.1)\n",
      "Requirement already satisfied: kiwisolver>=1.3.1 in /Users/xupeihan/miniconda3/envs/pytorchCMM_Project_20240524/lib/python3.10/site-packages (from matplotlib) (1.4.7)\n",
      "Requirement already satisfied: pillow>=8 in /Users/xupeihan/miniconda3/envs/pytorchCMM_Project_20240524/lib/python3.10/site-packages (from matplotlib) (10.3.0)\n",
      "Requirement already satisfied: pyparsing>=2.3.1 in /Users/xupeihan/miniconda3/envs/pytorchCMM_Project_20240524/lib/python3.10/site-packages (from matplotlib) (3.1.4)\n",
      "Requirement already satisfied: click in /Users/xupeihan/miniconda3/envs/pytorchCMM_Project_20240524/lib/python3.10/site-packages (from nltk) (8.1.7)\n",
      "Requirement already satisfied: joblib in /Users/xupeihan/miniconda3/envs/pytorchCMM_Project_20240524/lib/python3.10/site-packages (from nltk) (1.4.2)\n",
      "Requirement already satisfied: regex>=2021.8.3 in /Users/xupeihan/miniconda3/envs/pytorchCMM_Project_20240524/lib/python3.10/site-packages (from nltk) (2024.9.11)\n",
      "Requirement already satisfied: tqdm in /Users/xupeihan/miniconda3/envs/pytorchCMM_Project_20240524/lib/python3.10/site-packages (from nltk) (4.66.5)\n",
      "Requirement already satisfied: wheel<1.0,>=0.23.0 in /Users/xupeihan/miniconda3/envs/pytorchCMM_Project_20240524/lib/python3.10/site-packages (from astunparse>=1.6.0->tensorflow) (0.35.1)\n",
      "Requirement already satisfied: rich in /Users/xupeihan/miniconda3/envs/pytorchCMM_Project_20240524/lib/python3.10/site-packages (from keras>=3.0.0->tensorflow) (13.7.1)\n",
      "Requirement already satisfied: namex in /Users/xupeihan/miniconda3/envs/pytorchCMM_Project_20240524/lib/python3.10/site-packages (from keras>=3.0.0->tensorflow) (0.0.8)\n",
      "Requirement already satisfied: optree in /Users/xupeihan/miniconda3/envs/pytorchCMM_Project_20240524/lib/python3.10/site-packages (from keras>=3.0.0->tensorflow) (0.11.0)\n",
      "Requirement already satisfied: charset-normalizer<4,>=2 in /Users/xupeihan/miniconda3/envs/pytorchCMM_Project_20240524/lib/python3.10/site-packages (from requests<3,>=2.21.0->tensorflow) (2.0.4)\n",
      "Requirement already satisfied: idna<4,>=2.5 in /Users/xupeihan/miniconda3/envs/pytorchCMM_Project_20240524/lib/python3.10/site-packages (from requests<3,>=2.21.0->tensorflow) (3.7)\n",
      "Requirement already satisfied: urllib3<3,>=1.21.1 in /Users/xupeihan/miniconda3/envs/pytorchCMM_Project_20240524/lib/python3.10/site-packages (from requests<3,>=2.21.0->tensorflow) (2.2.1)\n",
      "Requirement already satisfied: certifi>=2017.4.17 in /Users/xupeihan/miniconda3/envs/pytorchCMM_Project_20240524/lib/python3.10/site-packages (from requests<3,>=2.21.0->tensorflow) (2024.8.30)\n",
      "Requirement already satisfied: markdown>=2.6.8 in /Users/xupeihan/miniconda3/envs/pytorchCMM_Project_20240524/lib/python3.10/site-packages (from tensorboard<2.17,>=2.16->tensorflow) (3.4.1)\n",
      "Requirement already satisfied: tensorboard-data-server<0.8.0,>=0.7.0 in /Users/xupeihan/miniconda3/envs/pytorchCMM_Project_20240524/lib/python3.10/site-packages (from tensorboard<2.17,>=2.16->tensorflow) (0.7.2)\n",
      "Requirement already satisfied: werkzeug>=1.0.1 in /Users/xupeihan/miniconda3/envs/pytorchCMM_Project_20240524/lib/python3.10/site-packages (from tensorboard<2.17,>=2.16->tensorflow) (3.0.3)\n",
      "Requirement already satisfied: MarkupSafe>=2.1.1 in /Users/xupeihan/miniconda3/envs/pytorchCMM_Project_20240524/lib/python3.10/site-packages (from werkzeug>=1.0.1->tensorboard<2.17,>=2.16->tensorflow) (2.1.3)\n",
      "Requirement already satisfied: markdown-it-py>=2.2.0 in /Users/xupeihan/miniconda3/envs/pytorchCMM_Project_20240524/lib/python3.10/site-packages (from rich->keras>=3.0.0->tensorflow) (3.0.0)\n",
      "Requirement already satisfied: pygments<3.0.0,>=2.13.0 in /Users/xupeihan/miniconda3/envs/pytorchCMM_Project_20240524/lib/python3.10/site-packages (from rich->keras>=3.0.0->tensorflow) (2.18.0)\n",
      "Requirement already satisfied: mdurl~=0.1 in /Users/xupeihan/miniconda3/envs/pytorchCMM_Project_20240524/lib/python3.10/site-packages (from markdown-it-py>=2.2.0->rich->keras>=3.0.0->tensorflow) (0.1.2)\n",
      "Note: you may need to restart the kernel to use updated packages.\n"
     ]
    }
   ],
   "source": [
    "%pip install tensorflow numpy pandas matplotlib nltk\n",
    "#pip install nltk\n",
    "# pip install tqdm"
   ]
  },
  {
   "cell_type": "markdown",
   "metadata": {},
   "source": [
    "# loading dataset\n"
   ]
  },
  {
   "cell_type": "code",
   "execution_count": 41,
   "metadata": {},
   "outputs": [
    {
     "name": "stdout",
     "output_type": "stream",
     "text": [
      "                       image  \\\n",
      "0                      image   \n",
      "1  1000268201_693b08cb0e.jpg   \n",
      "2  1000268201_693b08cb0e.jpg   \n",
      "3  1000268201_693b08cb0e.jpg   \n",
      "4  1000268201_693b08cb0e.jpg   \n",
      "\n",
      "                                             caption  \n",
      "0                                            caption  \n",
      "1  A child in a pink dress is climbing up a set o...  \n",
      "2              A girl going into a wooden building .  \n",
      "3   A little girl climbing into a wooden playhouse .  \n",
      "4  A little girl climbing the stairs to her playh...  \n"
     ]
    }
   ],
   "source": [
    "import pandas as pd\n",
    "\n",
    "captions_path = 'captions.txt'\n",
    "captions_data = pd.read_csv(captions_path, delimiter=',', header=None, names=['image', 'caption'])\n",
    "\n",
    "print(captions_data.head())\n"
   ]
  },
  {
   "cell_type": "markdown",
   "metadata": {},
   "source": [
    "# re-arrange the dataset since it could be multiple captions to one image\n"
   ]
  },
  {
   "cell_type": "code",
   "execution_count": 42,
   "metadata": {},
   "outputs": [
    {
     "name": "stdout",
     "output_type": "stream",
     "text": [
      "Image ID: image, Captions: ['caption']\n",
      "Image ID: 1000268201_693b08cb0e.jpg, Captions: ['A child in a pink dress is climbing up a set of stairs in an entry way .', 'A girl going into a wooden building .', 'A little girl climbing into a wooden playhouse .', 'A little girl climbing the stairs to her playhouse .', 'A little girl in a pink dress going into a wooden cabin .']\n",
      "Image ID: 1001773457_577c3a7d70.jpg, Captions: ['A black dog and a spotted dog are fighting', 'A black dog and a tri-colored dog playing with each other on the road .', 'A black dog and a white dog with brown spots are staring at each other in the street .', 'Two dogs of different breeds looking at each other on the road .', 'Two dogs on pavement moving toward each other .']\n"
     ]
    }
   ],
   "source": [
    "from collections import defaultdict\n",
    "\n",
    "image_captions = defaultdict(list)\n",
    "for i, row in captions_data.iterrows():\n",
    "    image_id, caption = row['image'], row['caption']\n",
    "    image_captions[image_id].append(caption)\n",
    "\n",
    "# Example of image ID and corresponding captions\n",
    "for key, value in list(image_captions.items())[:3]:\n",
    "    print(f\"Image ID: {key}, Captions: {value}\")"
   ]
  },
  {
   "cell_type": "markdown",
   "metadata": {},
   "source": [
    "# Split the captions into train and test\n"
   ]
  },
  {
   "cell_type": "code",
   "execution_count": 43,
   "metadata": {},
   "outputs": [
    {
     "name": "stdout",
     "output_type": "stream",
     "text": [
      "Training images: 6473, Testing images: 1619\n"
     ]
    }
   ],
   "source": [
    "import random\n",
    "\n",
    "# Get unique image IDs\n",
    "unique_image_ids = list(image_captions.keys())\n",
    "\n",
    "# Shuffle and split\n",
    "random.seed(42)\n",
    "random.shuffle(unique_image_ids)\n",
    "split_index = int(len(unique_image_ids) * 0.8)\n",
    "\n",
    "train_image_ids = unique_image_ids[:split_index]\n",
    "test_image_ids = unique_image_ids[split_index:]\n",
    "\n",
    "# Split captions dictionary\n",
    "train_image_captions = {img_id: image_captions[img_id] for img_id in train_image_ids}\n",
    "test_image_captions = {img_id: image_captions[img_id] for img_id in test_image_ids}\n",
    "\n",
    "print(f\"Training images: {len(train_image_captions)}, Testing images: {len(test_image_captions)}\")\n"
   ]
  },
  {
   "cell_type": "markdown",
   "metadata": {},
   "source": []
  },
  {
   "cell_type": "code",
   "execution_count": 44,
   "metadata": {},
   "outputs": [],
   "source": [
    "from tensorflow.keras.applications import InceptionV3\n",
    "from tensorflow.keras.applications.inception_v3 import preprocess_input\n",
    "from tensorflow.keras.preprocessing.image import load_img, img_to_array\n",
    "from tensorflow.keras.models import Model\n",
    "import matplotlib.pyplot as plt"
   ]
  },
  {
   "cell_type": "code",
   "execution_count": 45,
   "metadata": {},
   "outputs": [],
   "source": [
    "base_model = InceptionV3(weights='imagenet')\n",
    "model = Model(inputs=base_model.input, outputs=base_model.layers[-2].output)"
   ]
  },
  {
   "cell_type": "markdown",
   "metadata": {},
   "source": [
    "# Extracting Features\n"
   ]
  },
  {
   "cell_type": "code",
   "execution_count": 46,
   "metadata": {},
   "outputs": [
    {
     "name": "stderr",
     "output_type": "stream",
     "text": [
      "Extracting Features:  44%|████▍     | 2871/6473 [06:52<06:29,  9.24it/s]"
     ]
    },
    {
     "name": "stdout",
     "output_type": "stream",
     "text": [
      "Error processing image: [Errno 2] No such file or directory: 'Images/image'\n"
     ]
    },
    {
     "name": "stderr",
     "output_type": "stream",
     "text": [
      "Extracting Features: 100%|██████████| 6473/6473 [15:48<00:00,  6.83it/s]\n",
      "Extracting Features: 100%|██████████| 1619/1619 [04:04<00:00,  6.62it/s]\n"
     ]
    }
   ],
   "source": [
    "import os\n",
    "import numpy as np\n",
    "import pandas as pd\n",
    "images_directory = 'Images/'\n",
    "from tqdm import tqdm\n",
    "# Extract features for images\n",
    "def extract_features(image_ids, directory):\n",
    "    features = {}\n",
    "    for img_name in tqdm(image_ids, desc=\"Extracting Features\"):\n",
    "        img_path = os.path.join(directory, img_name)\n",
    "        try:\n",
    "            img = load_img(img_path, target_size=(299, 299))\n",
    "            img = img_to_array(img)\n",
    "            img = np.expand_dims(img, axis=0)\n",
    "            img = preprocess_input(img)\n",
    "\n",
    "            feature = model.predict(img, verbose=0)\n",
    "            features[img_name] = feature.flatten()\n",
    "        except Exception as e:\n",
    "            print(f\"Error processing {img_name}: {e}\")\n",
    "    return features\n",
    "\n",
    "# Extract features for train and test sets\n",
    "train_image_features = extract_features(train_image_ids, images_directory)\n",
    "test_image_features = extract_features(test_image_ids, images_directory)"
   ]
  },
  {
   "cell_type": "code",
   "execution_count": 128,
   "metadata": {},
   "outputs": [],
   "source": [
    "# tension for GRU\n",
    "import numpy as np\n",
    "\n",
    "X_train = np.array(list(train_image_features.values()))\n",
    "X_test = np.array(list(test_image_features.values()))\n",
    "\n",
    "X_train = X_train.reshape((X_train.shape[0], 1, X_train.shape[1]))\n",
    "X_test = X_test.reshape((X_test.shape[0], 1, X_test.shape[1]))\n",
    "\n",
    "y_train = np.random.randint(0, 2, X_train.shape[0]) \n",
    "y_test = np.random.randint(0, 2, X_test.shape[0])"
   ]
  },
  {
   "cell_type": "code",
   "execution_count": 148,
   "metadata": {},
   "outputs": [
    {
     "name": "stderr",
     "output_type": "stream",
     "text": [
      "/Users/xupeihan/miniconda3/envs/pytorchCMM_Project_20240524/lib/python3.10/site-packages/keras/src/layers/rnn/rnn.py:204: UserWarning: Do not pass an `input_shape`/`input_dim` argument to a layer. When using Sequential models, prefer using an `Input(shape)` object as the first layer in the model instead.\n",
      "  super().__init__(**kwargs)\n"
     ]
    }
   ],
   "source": [
    "from tensorflow.keras.models import Sequential\n",
    "from tensorflow.keras.layers import GRU, Dense, Dropout\n",
    "from tensorflow.keras.callbacks import LearningRateScheduler\n",
    "\n",
    "\n",
    "model = Sequential()\n",
    "model.add(GRU(128, input_shape=(X_train.shape[1], X_train.shape[2]), return_sequences=True))\n",
    "model.add(Dropout(0.2))  \n",
    "model.add(GRU(64, return_sequences=False))\n",
    "model.add(Dense(1, activation='sigmoid'))  \n",
    "\n",
    "model.compile(optimizer='adam', loss='binary_crossentropy', metrics=['accuracy'])\n",
    "\n",
    "\n",
    "def scheduler(epoch, lr):\n",
    "    if epoch % 5 == 0 and epoch != 0:\n",
    "        return lr * 0.5\n",
    "    return lr\n",
    "\n",
    "lr_scheduler = LearningRateScheduler(scheduler)"
   ]
  },
  {
   "cell_type": "code",
   "execution_count": 149,
   "metadata": {},
   "outputs": [
    {
     "data": {
      "application/vnd.jupyter.widget-view+json": {
       "model_id": "a33d2dfd090b4d30ace53f8a95d3c65c",
       "version_major": 2,
       "version_minor": 0
      },
      "text/plain": [
       "0epoch [00:00, ?epoch/s]"
      ]
     },
     "metadata": {},
     "output_type": "display_data"
    },
    {
     "data": {
      "application/vnd.jupyter.widget-view+json": {
       "model_id": "fb6b03e2223b44039e85fd358ea536cb",
       "version_major": 2,
       "version_minor": 0
      },
      "text/plain": [
       "0batch [00:00, ?batch/s]"
      ]
     },
     "metadata": {},
     "output_type": "display_data"
    },
    {
     "name": "stdout",
     "output_type": "stream",
     "text": [
      "Epoch 1/100\n",
      "\u001b[1m203/203\u001b[0m \u001b[32m━━━━━━━━━━━━━━━━━━━━\u001b[0m\u001b[37m\u001b[0m \u001b[1m10s\u001b[0m 16ms/step - accuracy: 0.5049 - loss: 0.7016 - val_accuracy: 0.5046 - val_loss: 0.6942\n",
      "Epoch 2/100\n",
      "\u001b[1m203/203\u001b[0m \u001b[32m━━━━━━━━━━━━━━━━━━━━\u001b[0m\u001b[37m\u001b[0m \u001b[1m3s\u001b[0m 13ms/step - accuracy: 0.5125 - loss: 0.6941 - val_accuracy: 0.4954 - val_loss: 0.7093\n",
      "Epoch 3/100\n",
      "\u001b[1m203/203\u001b[0m \u001b[32m━━━━━━━━━━━━━━━━━━━━\u001b[0m\u001b[37m\u001b[0m \u001b[1m3s\u001b[0m 14ms/step - accuracy: 0.5164 - loss: 0.6931 - val_accuracy: 0.5046 - val_loss: 0.6944\n",
      "Epoch 4/100\n",
      "\u001b[1m203/203\u001b[0m \u001b[32m━━━━━━━━━━━━━━━━━━━━\u001b[0m\u001b[37m\u001b[0m \u001b[1m3s\u001b[0m 13ms/step - accuracy: 0.5284 - loss: 0.6926 - val_accuracy: 0.4842 - val_loss: 0.6940\n",
      "Epoch 5/100\n",
      "\u001b[1m203/203\u001b[0m \u001b[32m━━━━━━━━━━━━━━━━━━━━\u001b[0m\u001b[37m\u001b[0m \u001b[1m3s\u001b[0m 13ms/step - accuracy: 0.5280 - loss: 0.6905 - val_accuracy: 0.4935 - val_loss: 0.6958\n",
      "Epoch 6/100\n",
      "\u001b[1m203/203\u001b[0m \u001b[32m━━━━━━━━━━━━━━━━━━━━\u001b[0m\u001b[37m\u001b[0m \u001b[1m3s\u001b[0m 17ms/step - accuracy: 0.5605 - loss: 0.6847 - val_accuracy: 0.5053 - val_loss: 0.7149\n",
      "Epoch 7/100\n",
      "\u001b[1m203/203\u001b[0m \u001b[32m━━━━━━━━━━━━━━━━━━━━\u001b[0m\u001b[37m\u001b[0m \u001b[1m3s\u001b[0m 15ms/step - accuracy: 0.5649 - loss: 0.6804 - val_accuracy: 0.4985 - val_loss: 0.7047\n",
      "Epoch 8/100\n",
      "\u001b[1m203/203\u001b[0m \u001b[32m━━━━━━━━━━━━━━━━━━━━\u001b[0m\u001b[37m\u001b[0m \u001b[1m3s\u001b[0m 15ms/step - accuracy: 0.5542 - loss: 0.6829 - val_accuracy: 0.4898 - val_loss: 0.6985\n",
      "Epoch 9/100\n",
      "\u001b[1m203/203\u001b[0m \u001b[32m━━━━━━━━━━━━━━━━━━━━\u001b[0m\u001b[37m\u001b[0m \u001b[1m3s\u001b[0m 15ms/step - accuracy: 0.5523 - loss: 0.6830 - val_accuracy: 0.4985 - val_loss: 0.7050\n",
      "Epoch 10/100\n",
      "\u001b[1m203/203\u001b[0m \u001b[32m━━━━━━━━━━━━━━━━━━━━\u001b[0m\u001b[37m\u001b[0m \u001b[1m3s\u001b[0m 17ms/step - accuracy: 0.5890 - loss: 0.6739 - val_accuracy: 0.4954 - val_loss: 0.7085\n",
      "Epoch 11/100\n",
      "\u001b[1m203/203\u001b[0m \u001b[32m━━━━━━━━━━━━━━━━━━━━\u001b[0m\u001b[37m\u001b[0m \u001b[1m5s\u001b[0m 23ms/step - accuracy: 0.5937 - loss: 0.6677 - val_accuracy: 0.5059 - val_loss: 0.7299\n",
      "Epoch 12/100\n",
      "\u001b[1m203/203\u001b[0m \u001b[32m━━━━━━━━━━━━━━━━━━━━\u001b[0m\u001b[37m\u001b[0m \u001b[1m5s\u001b[0m 23ms/step - accuracy: 0.6010 - loss: 0.6638 - val_accuracy: 0.4960 - val_loss: 0.7375\n",
      "Epoch 13/100\n",
      "\u001b[1m203/203\u001b[0m \u001b[32m━━━━━━━━━━━━━━━━━━━━\u001b[0m\u001b[37m\u001b[0m \u001b[1m4s\u001b[0m 17ms/step - accuracy: 0.5988 - loss: 0.6646 - val_accuracy: 0.4954 - val_loss: 0.7165\n",
      "Epoch 14/100\n",
      "\u001b[1m203/203\u001b[0m \u001b[32m━━━━━━━━━━━━━━━━━━━━\u001b[0m\u001b[37m\u001b[0m \u001b[1m3s\u001b[0m 14ms/step - accuracy: 0.6219 - loss: 0.6472 - val_accuracy: 0.5053 - val_loss: 0.7333\n",
      "Epoch 15/100\n",
      "\u001b[1m203/203\u001b[0m \u001b[32m━━━━━━━━━━━━━━━━━━━━\u001b[0m\u001b[37m\u001b[0m \u001b[1m3s\u001b[0m 14ms/step - accuracy: 0.6263 - loss: 0.6427 - val_accuracy: 0.5065 - val_loss: 0.7486\n",
      "Epoch 16/100\n",
      "\u001b[1m203/203\u001b[0m \u001b[32m━━━━━━━━━━━━━━━━━━━━\u001b[0m\u001b[37m\u001b[0m \u001b[1m3s\u001b[0m 13ms/step - accuracy: 0.6468 - loss: 0.6284 - val_accuracy: 0.4929 - val_loss: 0.7735\n",
      "Epoch 17/100\n",
      "\u001b[1m203/203\u001b[0m \u001b[32m━━━━━━━━━━━━━━━━━━━━\u001b[0m\u001b[37m\u001b[0m \u001b[1m3s\u001b[0m 13ms/step - accuracy: 0.6408 - loss: 0.6325 - val_accuracy: 0.5108 - val_loss: 0.7527\n",
      "Epoch 18/100\n",
      "\u001b[1m203/203\u001b[0m \u001b[32m━━━━━━━━━━━━━━━━━━━━\u001b[0m\u001b[37m\u001b[0m \u001b[1m3s\u001b[0m 13ms/step - accuracy: 0.6510 - loss: 0.6163 - val_accuracy: 0.4917 - val_loss: 0.7695\n",
      "Epoch 19/100\n",
      "\u001b[1m203/203\u001b[0m \u001b[32m━━━━━━━━━━━━━━━━━━━━\u001b[0m\u001b[37m\u001b[0m \u001b[1m3s\u001b[0m 13ms/step - accuracy: 0.6746 - loss: 0.5955 - val_accuracy: 0.4923 - val_loss: 0.7747\n",
      "Epoch 20/100\n",
      "\u001b[1m203/203\u001b[0m \u001b[32m━━━━━━━━━━━━━━━━━━━━\u001b[0m\u001b[37m\u001b[0m \u001b[1m3s\u001b[0m 13ms/step - accuracy: 0.6827 - loss: 0.5891 - val_accuracy: 0.5077 - val_loss: 0.8292\n",
      "Epoch 21/100\n",
      "\u001b[1m203/203\u001b[0m \u001b[32m━━━━━━━━━━━━━━━━━━━━\u001b[0m\u001b[37m\u001b[0m \u001b[1m3s\u001b[0m 13ms/step - accuracy: 0.7030 - loss: 0.5618 - val_accuracy: 0.4929 - val_loss: 0.8240\n",
      "Epoch 22/100\n",
      "\u001b[1m203/203\u001b[0m \u001b[32m━━━━━━━━━━━━━━━━━━━━\u001b[0m\u001b[37m\u001b[0m \u001b[1m3s\u001b[0m 14ms/step - accuracy: 0.6914 - loss: 0.5724 - val_accuracy: 0.5015 - val_loss: 0.8127\n",
      "Epoch 23/100\n",
      "\u001b[1m203/203\u001b[0m \u001b[32m━━━━━━━━━━━━━━━━━━━━\u001b[0m\u001b[37m\u001b[0m \u001b[1m3s\u001b[0m 16ms/step - accuracy: 0.7279 - loss: 0.5293 - val_accuracy: 0.4985 - val_loss: 0.8328\n",
      "Epoch 24/100\n",
      "\u001b[1m203/203\u001b[0m \u001b[32m━━━━━━━━━━━━━━━━━━━━\u001b[0m\u001b[37m\u001b[0m \u001b[1m3s\u001b[0m 13ms/step - accuracy: 0.7392 - loss: 0.5112 - val_accuracy: 0.4836 - val_loss: 0.8754\n",
      "Epoch 25/100\n",
      "\u001b[1m203/203\u001b[0m \u001b[32m━━━━━━━━━━━━━━━━━━━━\u001b[0m\u001b[37m\u001b[0m \u001b[1m3s\u001b[0m 13ms/step - accuracy: 0.7347 - loss: 0.5076 - val_accuracy: 0.4972 - val_loss: 0.8680\n",
      "Epoch 26/100\n",
      "\u001b[1m203/203\u001b[0m \u001b[32m━━━━━━━━━━━━━━━━━━━━\u001b[0m\u001b[37m\u001b[0m \u001b[1m3s\u001b[0m 15ms/step - accuracy: 0.7650 - loss: 0.4799 - val_accuracy: 0.4966 - val_loss: 0.9288\n",
      "Epoch 27/100\n",
      "\u001b[1m203/203\u001b[0m \u001b[32m━━━━━━━━━━━━━━━━━━━━\u001b[0m\u001b[37m\u001b[0m \u001b[1m3s\u001b[0m 13ms/step - accuracy: 0.7757 - loss: 0.4549 - val_accuracy: 0.4947 - val_loss: 0.9606\n",
      "Epoch 28/100\n",
      "\u001b[1m203/203\u001b[0m \u001b[32m━━━━━━━━━━━━━━━━━━━━\u001b[0m\u001b[37m\u001b[0m \u001b[1m3s\u001b[0m 13ms/step - accuracy: 0.7684 - loss: 0.4752 - val_accuracy: 0.4861 - val_loss: 0.9544\n",
      "Epoch 29/100\n",
      "\u001b[1m203/203\u001b[0m \u001b[32m━━━━━━━━━━━━━━━━━━━━\u001b[0m\u001b[37m\u001b[0m \u001b[1m3s\u001b[0m 14ms/step - accuracy: 0.7874 - loss: 0.4376 - val_accuracy: 0.4960 - val_loss: 0.9815\n",
      "Epoch 30/100\n",
      "\u001b[1m203/203\u001b[0m \u001b[32m━━━━━━━━━━━━━━━━━━━━\u001b[0m\u001b[37m\u001b[0m \u001b[1m3s\u001b[0m 13ms/step - accuracy: 0.7824 - loss: 0.4337 - val_accuracy: 0.5028 - val_loss: 0.9729\n",
      "Epoch 31/100\n",
      "\u001b[1m203/203\u001b[0m \u001b[32m━━━━━━━━━━━━━━━━━━━━\u001b[0m\u001b[37m\u001b[0m \u001b[1m4s\u001b[0m 21ms/step - accuracy: 0.8020 - loss: 0.4123 - val_accuracy: 0.4917 - val_loss: 0.9541\n",
      "Epoch 32/100\n",
      "\u001b[1m203/203\u001b[0m \u001b[32m━━━━━━━━━━━━━━━━━━━━\u001b[0m\u001b[37m\u001b[0m \u001b[1m3s\u001b[0m 16ms/step - accuracy: 0.8141 - loss: 0.3950 - val_accuracy: 0.5164 - val_loss: 1.0315\n",
      "Epoch 33/100\n",
      "\u001b[1m203/203\u001b[0m \u001b[32m━━━━━━━━━━━━━━━━━━━━\u001b[0m\u001b[37m\u001b[0m \u001b[1m3s\u001b[0m 14ms/step - accuracy: 0.8142 - loss: 0.3945 - val_accuracy: 0.5053 - val_loss: 1.1069\n",
      "Epoch 34/100\n",
      "\u001b[1m203/203\u001b[0m \u001b[32m━━━━━━━━━━━━━━━━━━━━\u001b[0m\u001b[37m\u001b[0m \u001b[1m3s\u001b[0m 13ms/step - accuracy: 0.8285 - loss: 0.3644 - val_accuracy: 0.4923 - val_loss: 1.1643\n",
      "Epoch 35/100\n",
      "\u001b[1m203/203\u001b[0m \u001b[32m━━━━━━━━━━━━━━━━━━━━\u001b[0m\u001b[37m\u001b[0m \u001b[1m3s\u001b[0m 13ms/step - accuracy: 0.8222 - loss: 0.3842 - val_accuracy: 0.4904 - val_loss: 1.2117\n",
      "Epoch 36/100\n",
      "\u001b[1m203/203\u001b[0m \u001b[32m━━━━━━━━━━━━━━━━━━━━\u001b[0m\u001b[37m\u001b[0m \u001b[1m4s\u001b[0m 18ms/step - accuracy: 0.8266 - loss: 0.3655 - val_accuracy: 0.5015 - val_loss: 1.1642\n",
      "Epoch 37/100\n",
      "\u001b[1m203/203\u001b[0m \u001b[32m━━━━━━━━━━━━━━━━━━━━\u001b[0m\u001b[37m\u001b[0m \u001b[1m3s\u001b[0m 13ms/step - accuracy: 0.8350 - loss: 0.3599 - val_accuracy: 0.5022 - val_loss: 1.2567\n",
      "Epoch 38/100\n",
      "\u001b[1m203/203\u001b[0m \u001b[32m━━━━━━━━━━━━━━━━━━━━\u001b[0m\u001b[37m\u001b[0m \u001b[1m3s\u001b[0m 14ms/step - accuracy: 0.8491 - loss: 0.3369 - val_accuracy: 0.5065 - val_loss: 1.3624\n",
      "Epoch 39/100\n",
      "\u001b[1m203/203\u001b[0m \u001b[32m━━━━━━━━━━━━━━━━━━━━\u001b[0m\u001b[37m\u001b[0m \u001b[1m3s\u001b[0m 13ms/step - accuracy: 0.8535 - loss: 0.3236 - val_accuracy: 0.4904 - val_loss: 1.2881\n",
      "Epoch 40/100\n",
      "\u001b[1m203/203\u001b[0m \u001b[32m━━━━━━━━━━━━━━━━━━━━\u001b[0m\u001b[37m\u001b[0m \u001b[1m3s\u001b[0m 13ms/step - accuracy: 0.8550 - loss: 0.3225 - val_accuracy: 0.4947 - val_loss: 1.3474\n",
      "Epoch 41/100\n",
      "\u001b[1m203/203\u001b[0m \u001b[32m━━━━━━━━━━━━━━━━━━━━\u001b[0m\u001b[37m\u001b[0m \u001b[1m3s\u001b[0m 13ms/step - accuracy: 0.8583 - loss: 0.3176 - val_accuracy: 0.4985 - val_loss: 1.2964\n",
      "Epoch 42/100\n",
      "\u001b[1m203/203\u001b[0m \u001b[32m━━━━━━━━━━━━━━━━━━━━\u001b[0m\u001b[37m\u001b[0m \u001b[1m3s\u001b[0m 13ms/step - accuracy: 0.8652 - loss: 0.3147 - val_accuracy: 0.5071 - val_loss: 1.3317\n",
      "Epoch 43/100\n",
      "\u001b[1m203/203\u001b[0m \u001b[32m━━━━━━━━━━━━━━━━━━━━\u001b[0m\u001b[37m\u001b[0m \u001b[1m3s\u001b[0m 13ms/step - accuracy: 0.8791 - loss: 0.2923 - val_accuracy: 0.5046 - val_loss: 1.3557\n",
      "Epoch 44/100\n",
      "\u001b[1m203/203\u001b[0m \u001b[32m━━━━━━━━━━━━━━━━━━━━\u001b[0m\u001b[37m\u001b[0m \u001b[1m3s\u001b[0m 13ms/step - accuracy: 0.8633 - loss: 0.3096 - val_accuracy: 0.4855 - val_loss: 1.3910\n",
      "Epoch 45/100\n",
      "\u001b[1m203/203\u001b[0m \u001b[32m━━━━━━━━━━━━━━━━━━━━\u001b[0m\u001b[37m\u001b[0m \u001b[1m3s\u001b[0m 13ms/step - accuracy: 0.8757 - loss: 0.2837 - val_accuracy: 0.5040 - val_loss: 1.3290\n",
      "Epoch 46/100\n",
      "\u001b[1m203/203\u001b[0m \u001b[32m━━━━━━━━━━━━━━━━━━━━\u001b[0m\u001b[37m\u001b[0m \u001b[1m3s\u001b[0m 14ms/step - accuracy: 0.8880 - loss: 0.2716 - val_accuracy: 0.5108 - val_loss: 1.4745\n",
      "Epoch 47/100\n",
      "\u001b[1m203/203\u001b[0m \u001b[32m━━━━━━━━━━━━━━━━━━━━\u001b[0m\u001b[37m\u001b[0m \u001b[1m3s\u001b[0m 16ms/step - accuracy: 0.8760 - loss: 0.2801 - val_accuracy: 0.4947 - val_loss: 1.3684\n",
      "Epoch 48/100\n",
      "\u001b[1m203/203\u001b[0m \u001b[32m━━━━━━━━━━━━━━━━━━━━\u001b[0m\u001b[37m\u001b[0m \u001b[1m3s\u001b[0m 16ms/step - accuracy: 0.8776 - loss: 0.2872 - val_accuracy: 0.4954 - val_loss: 1.5079\n",
      "Epoch 49/100\n",
      "\u001b[1m203/203\u001b[0m \u001b[32m━━━━━━━━━━━━━━━━━━━━\u001b[0m\u001b[37m\u001b[0m \u001b[1m3s\u001b[0m 14ms/step - accuracy: 0.8911 - loss: 0.2556 - val_accuracy: 0.4997 - val_loss: 1.4819\n",
      "Epoch 50/100\n",
      "\u001b[1m203/203\u001b[0m \u001b[32m━━━━━━━━━━━━━━━━━━━━\u001b[0m\u001b[37m\u001b[0m \u001b[1m3s\u001b[0m 15ms/step - accuracy: 0.8740 - loss: 0.2691 - val_accuracy: 0.5003 - val_loss: 1.4904\n",
      "Epoch 51/100\n",
      "\u001b[1m203/203\u001b[0m \u001b[32m━━━━━━━━━━━━━━━━━━━━\u001b[0m\u001b[37m\u001b[0m \u001b[1m3s\u001b[0m 14ms/step - accuracy: 0.8886 - loss: 0.2544 - val_accuracy: 0.5003 - val_loss: 1.5895\n",
      "Epoch 52/100\n",
      "\u001b[1m203/203\u001b[0m \u001b[32m━━━━━━━━━━━━━━━━━━━━\u001b[0m\u001b[37m\u001b[0m \u001b[1m3s\u001b[0m 13ms/step - accuracy: 0.8935 - loss: 0.2543 - val_accuracy: 0.5046 - val_loss: 1.6655\n",
      "Epoch 53/100\n",
      "\u001b[1m203/203\u001b[0m \u001b[32m━━━━━━━━━━━━━━━━━━━━\u001b[0m\u001b[37m\u001b[0m \u001b[1m3s\u001b[0m 14ms/step - accuracy: 0.8944 - loss: 0.2580 - val_accuracy: 0.4836 - val_loss: 1.6126\n",
      "Epoch 54/100\n",
      "\u001b[1m203/203\u001b[0m \u001b[32m━━━━━━━━━━━━━━━━━━━━\u001b[0m\u001b[37m\u001b[0m \u001b[1m3s\u001b[0m 14ms/step - accuracy: 0.8986 - loss: 0.2445 - val_accuracy: 0.5133 - val_loss: 1.6408\n",
      "Epoch 55/100\n",
      "\u001b[1m203/203\u001b[0m \u001b[32m━━━━━━━━━━━━━━━━━━━━\u001b[0m\u001b[37m\u001b[0m \u001b[1m3s\u001b[0m 14ms/step - accuracy: 0.9013 - loss: 0.2337 - val_accuracy: 0.5015 - val_loss: 1.6633\n",
      "Epoch 56/100\n",
      "\u001b[1m203/203\u001b[0m \u001b[32m━━━━━━━━━━━━━━━━━━━━\u001b[0m\u001b[37m\u001b[0m \u001b[1m3s\u001b[0m 13ms/step - accuracy: 0.9117 - loss: 0.2278 - val_accuracy: 0.4978 - val_loss: 1.6772\n",
      "Epoch 57/100\n",
      "\u001b[1m203/203\u001b[0m \u001b[32m━━━━━━━━━━━━━━━━━━━━\u001b[0m\u001b[37m\u001b[0m \u001b[1m3s\u001b[0m 13ms/step - accuracy: 0.9117 - loss: 0.2224 - val_accuracy: 0.5003 - val_loss: 1.6706\n",
      "Epoch 58/100\n",
      "\u001b[1m203/203\u001b[0m \u001b[32m━━━━━━━━━━━━━━━━━━━━\u001b[0m\u001b[37m\u001b[0m \u001b[1m3s\u001b[0m 13ms/step - accuracy: 0.9099 - loss: 0.2217 - val_accuracy: 0.5028 - val_loss: 1.6478\n",
      "Epoch 59/100\n",
      "\u001b[1m203/203\u001b[0m \u001b[32m━━━━━━━━━━━━━━━━━━━━\u001b[0m\u001b[37m\u001b[0m \u001b[1m3s\u001b[0m 13ms/step - accuracy: 0.9168 - loss: 0.2144 - val_accuracy: 0.4947 - val_loss: 1.5745\n",
      "Epoch 60/100\n",
      "\u001b[1m203/203\u001b[0m \u001b[32m━━━━━━━━━━━━━━━━━━━━\u001b[0m\u001b[37m\u001b[0m \u001b[1m3s\u001b[0m 16ms/step - accuracy: 0.9236 - loss: 0.2032 - val_accuracy: 0.4929 - val_loss: 1.8136\n",
      "Epoch 61/100\n",
      "\u001b[1m203/203\u001b[0m \u001b[32m━━━━━━━━━━━━━━━━━━━━\u001b[0m\u001b[37m\u001b[0m \u001b[1m3s\u001b[0m 15ms/step - accuracy: 0.9188 - loss: 0.2068 - val_accuracy: 0.4929 - val_loss: 1.7206\n",
      "Epoch 62/100\n",
      "\u001b[1m203/203\u001b[0m \u001b[32m━━━━━━━━━━━━━━━━━━━━\u001b[0m\u001b[37m\u001b[0m \u001b[1m3s\u001b[0m 15ms/step - accuracy: 0.9177 - loss: 0.2186 - val_accuracy: 0.4978 - val_loss: 1.8286\n",
      "Epoch 63/100\n",
      "\u001b[1m203/203\u001b[0m \u001b[32m━━━━━━━━━━━━━━━━━━━━\u001b[0m\u001b[37m\u001b[0m \u001b[1m3s\u001b[0m 14ms/step - accuracy: 0.9182 - loss: 0.2105 - val_accuracy: 0.4985 - val_loss: 1.7150\n",
      "Epoch 64/100\n",
      "\u001b[1m203/203\u001b[0m \u001b[32m━━━━━━━━━━━━━━━━━━━━\u001b[0m\u001b[37m\u001b[0m \u001b[1m3s\u001b[0m 13ms/step - accuracy: 0.9125 - loss: 0.2075 - val_accuracy: 0.4966 - val_loss: 1.7823\n",
      "Epoch 65/100\n",
      "\u001b[1m203/203\u001b[0m \u001b[32m━━━━━━━━━━━━━━━━━━━━\u001b[0m\u001b[37m\u001b[0m \u001b[1m3s\u001b[0m 13ms/step - accuracy: 0.9239 - loss: 0.2011 - val_accuracy: 0.5077 - val_loss: 1.8747\n",
      "Epoch 66/100\n",
      "\u001b[1m203/203\u001b[0m \u001b[32m━━━━━━━━━━━━━━━━━━━━\u001b[0m\u001b[37m\u001b[0m \u001b[1m3s\u001b[0m 13ms/step - accuracy: 0.9259 - loss: 0.1912 - val_accuracy: 0.4947 - val_loss: 1.8162\n",
      "Epoch 67/100\n",
      "\u001b[1m203/203\u001b[0m \u001b[32m━━━━━━━━━━━━━━━━━━━━\u001b[0m\u001b[37m\u001b[0m \u001b[1m3s\u001b[0m 14ms/step - accuracy: 0.9189 - loss: 0.2032 - val_accuracy: 0.4954 - val_loss: 2.0255\n",
      "Epoch 68/100\n",
      "\u001b[1m203/203\u001b[0m \u001b[32m━━━━━━━━━━━━━━━━━━━━\u001b[0m\u001b[37m\u001b[0m \u001b[1m3s\u001b[0m 14ms/step - accuracy: 0.9172 - loss: 0.2084 - val_accuracy: 0.5028 - val_loss: 1.8841\n",
      "Epoch 69/100\n",
      "\u001b[1m203/203\u001b[0m \u001b[32m━━━━━━━━━━━━━━━━━━━━\u001b[0m\u001b[37m\u001b[0m \u001b[1m3s\u001b[0m 13ms/step - accuracy: 0.9213 - loss: 0.1862 - val_accuracy: 0.4966 - val_loss: 1.9399\n",
      "Epoch 70/100\n",
      "\u001b[1m203/203\u001b[0m \u001b[32m━━━━━━━━━━━━━━━━━━━━\u001b[0m\u001b[37m\u001b[0m \u001b[1m3s\u001b[0m 14ms/step - accuracy: 0.9195 - loss: 0.2016 - val_accuracy: 0.4929 - val_loss: 1.8872\n",
      "Epoch 71/100\n",
      "\u001b[1m203/203\u001b[0m \u001b[32m━━━━━━━━━━━━━━━━━━━━\u001b[0m\u001b[37m\u001b[0m \u001b[1m3s\u001b[0m 14ms/step - accuracy: 0.9289 - loss: 0.1794 - val_accuracy: 0.5034 - val_loss: 1.9878\n",
      "Epoch 72/100\n",
      "\u001b[1m203/203\u001b[0m \u001b[32m━━━━━━━━━━━━━━━━━━━━\u001b[0m\u001b[37m\u001b[0m \u001b[1m3s\u001b[0m 14ms/step - accuracy: 0.9344 - loss: 0.1787 - val_accuracy: 0.4898 - val_loss: 1.9828\n",
      "Epoch 73/100\n",
      "\u001b[1m203/203\u001b[0m \u001b[32m━━━━━━━━━━━━━━━━━━━━\u001b[0m\u001b[37m\u001b[0m \u001b[1m3s\u001b[0m 14ms/step - accuracy: 0.9230 - loss: 0.1824 - val_accuracy: 0.4947 - val_loss: 2.0573\n",
      "Epoch 74/100\n",
      "\u001b[1m203/203\u001b[0m \u001b[32m━━━━━━━━━━━━━━━━━━━━\u001b[0m\u001b[37m\u001b[0m \u001b[1m3s\u001b[0m 13ms/step - accuracy: 0.9357 - loss: 0.1669 - val_accuracy: 0.4991 - val_loss: 1.8913\n",
      "Epoch 75/100\n",
      "\u001b[1m203/203\u001b[0m \u001b[32m━━━━━━━━━━━━━━━━━━━━\u001b[0m\u001b[37m\u001b[0m \u001b[1m3s\u001b[0m 13ms/step - accuracy: 0.9324 - loss: 0.1779 - val_accuracy: 0.4849 - val_loss: 1.9686\n",
      "Epoch 76/100\n",
      "\u001b[1m203/203\u001b[0m \u001b[32m━━━━━━━━━━━━━━━━━━━━\u001b[0m\u001b[37m\u001b[0m \u001b[1m3s\u001b[0m 14ms/step - accuracy: 0.9371 - loss: 0.1665 - val_accuracy: 0.4972 - val_loss: 1.8354\n",
      "Epoch 77/100\n",
      "\u001b[1m203/203\u001b[0m \u001b[32m━━━━━━━━━━━━━━━━━━━━\u001b[0m\u001b[37m\u001b[0m \u001b[1m3s\u001b[0m 15ms/step - accuracy: 0.9387 - loss: 0.1583 - val_accuracy: 0.4985 - val_loss: 2.0810\n",
      "Epoch 78/100\n",
      "\u001b[1m203/203\u001b[0m \u001b[32m━━━━━━━━━━━━━━━━━━━━\u001b[0m\u001b[37m\u001b[0m \u001b[1m3s\u001b[0m 14ms/step - accuracy: 0.9357 - loss: 0.1718 - val_accuracy: 0.5009 - val_loss: 1.9325\n",
      "Epoch 79/100\n",
      "\u001b[1m203/203\u001b[0m \u001b[32m━━━━━━━━━━━━━━━━━━━━\u001b[0m\u001b[37m\u001b[0m \u001b[1m3s\u001b[0m 13ms/step - accuracy: 0.9365 - loss: 0.1745 - val_accuracy: 0.5059 - val_loss: 1.9872\n",
      "Epoch 80/100\n",
      "\u001b[1m203/203\u001b[0m \u001b[32m━━━━━━━━━━━━━━━━━━━━\u001b[0m\u001b[37m\u001b[0m \u001b[1m3s\u001b[0m 14ms/step - accuracy: 0.9419 - loss: 0.1600 - val_accuracy: 0.4978 - val_loss: 2.0207\n",
      "Epoch 81/100\n",
      "\u001b[1m203/203\u001b[0m \u001b[32m━━━━━━━━━━━━━━━━━━━━\u001b[0m\u001b[37m\u001b[0m \u001b[1m3s\u001b[0m 14ms/step - accuracy: 0.9427 - loss: 0.1457 - val_accuracy: 0.4886 - val_loss: 1.9716\n",
      "Epoch 82/100\n",
      "\u001b[1m203/203\u001b[0m \u001b[32m━━━━━━━━━━━━━━━━━━━━\u001b[0m\u001b[37m\u001b[0m \u001b[1m3s\u001b[0m 13ms/step - accuracy: 0.9392 - loss: 0.1512 - val_accuracy: 0.4947 - val_loss: 1.9558\n",
      "Epoch 83/100\n",
      "\u001b[1m203/203\u001b[0m \u001b[32m━━━━━━━━━━━━━━━━━━━━\u001b[0m\u001b[37m\u001b[0m \u001b[1m3s\u001b[0m 13ms/step - accuracy: 0.9417 - loss: 0.1539 - val_accuracy: 0.4941 - val_loss: 2.0854\n",
      "Epoch 84/100\n",
      "\u001b[1m203/203\u001b[0m \u001b[32m━━━━━━━━━━━━━━━━━━━━\u001b[0m\u001b[37m\u001b[0m \u001b[1m3s\u001b[0m 14ms/step - accuracy: 0.9416 - loss: 0.1579 - val_accuracy: 0.5028 - val_loss: 2.1278\n",
      "Epoch 85/100\n",
      "\u001b[1m203/203\u001b[0m \u001b[32m━━━━━━━━━━━━━━━━━━━━\u001b[0m\u001b[37m\u001b[0m \u001b[1m3s\u001b[0m 13ms/step - accuracy: 0.9439 - loss: 0.1513 - val_accuracy: 0.4978 - val_loss: 1.9804\n",
      "Epoch 86/100\n",
      "\u001b[1m203/203\u001b[0m \u001b[32m━━━━━━━━━━━━━━━━━━━━\u001b[0m\u001b[37m\u001b[0m \u001b[1m3s\u001b[0m 14ms/step - accuracy: 0.9390 - loss: 0.1669 - val_accuracy: 0.4935 - val_loss: 1.9995\n",
      "Epoch 87/100\n",
      "\u001b[1m203/203\u001b[0m \u001b[32m━━━━━━━━━━━━━━━━━━━━\u001b[0m\u001b[37m\u001b[0m \u001b[1m3s\u001b[0m 13ms/step - accuracy: 0.9423 - loss: 0.1523 - val_accuracy: 0.4991 - val_loss: 2.0782\n",
      "Epoch 88/100\n",
      "\u001b[1m203/203\u001b[0m \u001b[32m━━━━━━━━━━━━━━━━━━━━\u001b[0m\u001b[37m\u001b[0m \u001b[1m3s\u001b[0m 13ms/step - accuracy: 0.9417 - loss: 0.1588 - val_accuracy: 0.5028 - val_loss: 1.8556\n",
      "Epoch 89/100\n",
      "\u001b[1m203/203\u001b[0m \u001b[32m━━━━━━━━━━━━━━━━━━━━\u001b[0m\u001b[37m\u001b[0m \u001b[1m3s\u001b[0m 13ms/step - accuracy: 0.9414 - loss: 0.1473 - val_accuracy: 0.4960 - val_loss: 2.0302\n",
      "Epoch 90/100\n",
      "\u001b[1m203/203\u001b[0m \u001b[32m━━━━━━━━━━━━━━━━━━━━\u001b[0m\u001b[37m\u001b[0m \u001b[1m3s\u001b[0m 13ms/step - accuracy: 0.9470 - loss: 0.1430 - val_accuracy: 0.4886 - val_loss: 1.9349\n",
      "Epoch 91/100\n",
      "\u001b[1m203/203\u001b[0m \u001b[32m━━━━━━━━━━━━━━━━━━━━\u001b[0m\u001b[37m\u001b[0m \u001b[1m3s\u001b[0m 14ms/step - accuracy: 0.9394 - loss: 0.1600 - val_accuracy: 0.4873 - val_loss: 1.9777\n",
      "Epoch 92/100\n",
      "\u001b[1m203/203\u001b[0m \u001b[32m━━━━━━━━━━━━━━━━━━━━\u001b[0m\u001b[37m\u001b[0m \u001b[1m3s\u001b[0m 13ms/step - accuracy: 0.9496 - loss: 0.1404 - val_accuracy: 0.4991 - val_loss: 2.0206\n",
      "Epoch 93/100\n",
      "\u001b[1m203/203\u001b[0m \u001b[32m━━━━━━━━━━━━━━━━━━━━\u001b[0m\u001b[37m\u001b[0m \u001b[1m3s\u001b[0m 13ms/step - accuracy: 0.9489 - loss: 0.1310 - val_accuracy: 0.4935 - val_loss: 2.1164\n",
      "Epoch 94/100\n",
      "\u001b[1m203/203\u001b[0m \u001b[32m━━━━━━━━━━━━━━━━━━━━\u001b[0m\u001b[37m\u001b[0m \u001b[1m3s\u001b[0m 13ms/step - accuracy: 0.9445 - loss: 0.1350 - val_accuracy: 0.5028 - val_loss: 2.1467\n",
      "Epoch 95/100\n",
      "\u001b[1m203/203\u001b[0m \u001b[32m━━━━━━━━━━━━━━━━━━━━\u001b[0m\u001b[37m\u001b[0m \u001b[1m3s\u001b[0m 14ms/step - accuracy: 0.9502 - loss: 0.1327 - val_accuracy: 0.5053 - val_loss: 2.1848\n",
      "Epoch 96/100\n",
      "\u001b[1m203/203\u001b[0m \u001b[32m━━━━━━━━━━━━━━━━━━━━\u001b[0m\u001b[37m\u001b[0m \u001b[1m3s\u001b[0m 13ms/step - accuracy: 0.9547 - loss: 0.1289 - val_accuracy: 0.5096 - val_loss: 2.1314\n",
      "Epoch 97/100\n",
      "\u001b[1m203/203\u001b[0m \u001b[32m━━━━━━━━━━━━━━━━━━━━\u001b[0m\u001b[37m\u001b[0m \u001b[1m3s\u001b[0m 13ms/step - accuracy: 0.9462 - loss: 0.1326 - val_accuracy: 0.5096 - val_loss: 2.1173\n",
      "Epoch 98/100\n",
      "\u001b[1m203/203\u001b[0m \u001b[32m━━━━━━━━━━━━━━━━━━━━\u001b[0m\u001b[37m\u001b[0m \u001b[1m3s\u001b[0m 13ms/step - accuracy: 0.9475 - loss: 0.1424 - val_accuracy: 0.5015 - val_loss: 2.3237\n",
      "Epoch 99/100\n",
      "\u001b[1m203/203\u001b[0m \u001b[32m━━━━━━━━━━━━━━━━━━━━\u001b[0m\u001b[37m\u001b[0m \u001b[1m3s\u001b[0m 13ms/step - accuracy: 0.9515 - loss: 0.1365 - val_accuracy: 0.4985 - val_loss: 1.9842\n",
      "Epoch 100/100\n",
      "\u001b[1m203/203\u001b[0m \u001b[32m━━━━━━━━━━━━━━━━━━━━\u001b[0m\u001b[37m\u001b[0m \u001b[1m3s\u001b[0m 14ms/step - accuracy: 0.9512 - loss: 0.1265 - val_accuracy: 0.4991 - val_loss: 2.3941\n"
     ]
    },
    {
     "data": {
      "text/plain": [
       "<keras.src.callbacks.history.History at 0x7fbfc1b73a30>"
      ]
     },
     "execution_count": 149,
     "metadata": {},
     "output_type": "execute_result"
    }
   ],
   "source": [
    "from tqdm.keras import TqdmCallback\n",
    "from sklearn.utils.class_weight import compute_class_weight\n",
    "\n",
    "class_weights = compute_class_weight('balanced', classes=np.unique(y_train), y=y_train)\n",
    "class_weights = dict(enumerate(class_weights))\n",
    "\n",
    "model.fit(X_train, y_train, epochs=100, batch_size=32, validation_data=(X_test, y_test),\n",
    "          class_weight=class_weights, callbacks=[TqdmCallback()])\n"
   ]
  },
  {
   "cell_type": "code",
   "execution_count": 150,
   "metadata": {},
   "outputs": [
    {
     "data": {
      "application/vnd.jupyter.widget-view+json": {
       "model_id": "cd4a7cb649f14d63b7441102bd38e86a",
       "version_major": 2,
       "version_minor": 0
      },
      "text/plain": [
       "0epoch [00:00, ?epoch/s]"
      ]
     },
     "metadata": {},
     "output_type": "display_data"
    },
    {
     "data": {
      "application/vnd.jupyter.widget-view+json": {
       "model_id": "27645ccb85ff427699082faf9a52cf1f",
       "version_major": 2,
       "version_minor": 0
      },
      "text/plain": [
       "0batch [00:00, ?batch/s]"
      ]
     },
     "metadata": {},
     "output_type": "display_data"
    },
    {
     "name": "stdout",
     "output_type": "stream",
     "text": [
      "Epoch 1/100\n",
      "\u001b[1m203/203\u001b[0m \u001b[32m━━━━━━━━━━━━━━━━━━━━\u001b[0m\u001b[37m\u001b[0m \u001b[1m6s\u001b[0m 14ms/step - accuracy: 0.9540 - loss: 0.1298 - val_accuracy: 0.4960 - val_loss: 2.0450 - learning_rate: 0.0010\n",
      "Epoch 2/100\n",
      "\u001b[1m203/203\u001b[0m \u001b[32m━━━━━━━━━━━━━━━━━━━━\u001b[0m\u001b[37m\u001b[0m \u001b[1m3s\u001b[0m 13ms/step - accuracy: 0.9520 - loss: 0.1318 - val_accuracy: 0.4886 - val_loss: 2.1666 - learning_rate: 0.0010\n",
      "Epoch 3/100\n",
      "\u001b[1m203/203\u001b[0m \u001b[32m━━━━━━━━━━━━━━━━━━━━\u001b[0m\u001b[37m\u001b[0m \u001b[1m3s\u001b[0m 14ms/step - accuracy: 0.9511 - loss: 0.1346 - val_accuracy: 0.4923 - val_loss: 2.2385 - learning_rate: 0.0010\n",
      "Epoch 4/100\n",
      "\u001b[1m203/203\u001b[0m \u001b[32m━━━━━━━━━━━━━━━━━━━━\u001b[0m\u001b[37m\u001b[0m \u001b[1m3s\u001b[0m 13ms/step - accuracy: 0.9528 - loss: 0.1275 - val_accuracy: 0.4941 - val_loss: 2.1893 - learning_rate: 0.0010\n",
      "Epoch 5/100\n",
      "\u001b[1m203/203\u001b[0m \u001b[32m━━━━━━━━━━━━━━━━━━━━\u001b[0m\u001b[37m\u001b[0m \u001b[1m3s\u001b[0m 13ms/step - accuracy: 0.9543 - loss: 0.1278 - val_accuracy: 0.4855 - val_loss: 2.1926 - learning_rate: 0.0010\n",
      "Epoch 6/100\n",
      "\u001b[1m203/203\u001b[0m \u001b[32m━━━━━━━━━━━━━━━━━━━━\u001b[0m\u001b[37m\u001b[0m \u001b[1m3s\u001b[0m 14ms/step - accuracy: 0.9531 - loss: 0.1235 - val_accuracy: 0.4849 - val_loss: 2.3358 - learning_rate: 5.0000e-04\n",
      "Epoch 7/100\n",
      "\u001b[1m203/203\u001b[0m \u001b[32m━━━━━━━━━━━━━━━━━━━━\u001b[0m\u001b[37m\u001b[0m \u001b[1m3s\u001b[0m 13ms/step - accuracy: 0.9605 - loss: 0.1032 - val_accuracy: 0.4972 - val_loss: 2.2423 - learning_rate: 5.0000e-04\n",
      "Epoch 8/100\n",
      "\u001b[1m203/203\u001b[0m \u001b[32m━━━━━━━━━━━━━━━━━━━━\u001b[0m\u001b[37m\u001b[0m \u001b[1m3s\u001b[0m 13ms/step - accuracy: 0.9624 - loss: 0.1030 - val_accuracy: 0.4947 - val_loss: 2.3056 - learning_rate: 5.0000e-04\n",
      "Epoch 9/100\n",
      "\u001b[1m203/203\u001b[0m \u001b[32m━━━━━━━━━━━━━━━━━━━━\u001b[0m\u001b[37m\u001b[0m \u001b[1m3s\u001b[0m 13ms/step - accuracy: 0.9645 - loss: 0.1028 - val_accuracy: 0.4947 - val_loss: 2.3636 - learning_rate: 5.0000e-04\n",
      "Epoch 10/100\n",
      "\u001b[1m203/203\u001b[0m \u001b[32m━━━━━━━━━━━━━━━━━━━━\u001b[0m\u001b[37m\u001b[0m \u001b[1m3s\u001b[0m 13ms/step - accuracy: 0.9646 - loss: 0.0988 - val_accuracy: 0.4954 - val_loss: 2.4347 - learning_rate: 5.0000e-04\n",
      "Epoch 11/100\n",
      "\u001b[1m203/203\u001b[0m \u001b[32m━━━━━━━━━━━━━━━━━━━━\u001b[0m\u001b[37m\u001b[0m \u001b[1m3s\u001b[0m 12ms/step - accuracy: 0.9701 - loss: 0.0871 - val_accuracy: 0.4861 - val_loss: 2.4068 - learning_rate: 2.5000e-04\n",
      "Epoch 12/100\n",
      "\u001b[1m203/203\u001b[0m \u001b[32m━━━━━━━━━━━━━━━━━━━━\u001b[0m\u001b[37m\u001b[0m \u001b[1m3s\u001b[0m 13ms/step - accuracy: 0.9673 - loss: 0.0898 - val_accuracy: 0.4941 - val_loss: 2.4438 - learning_rate: 2.5000e-04\n",
      "Epoch 13/100\n",
      "\u001b[1m203/203\u001b[0m \u001b[32m━━━━━━━━━━━━━━━━━━━━\u001b[0m\u001b[37m\u001b[0m \u001b[1m3s\u001b[0m 13ms/step - accuracy: 0.9673 - loss: 0.0941 - val_accuracy: 0.4954 - val_loss: 2.4158 - learning_rate: 2.5000e-04\n",
      "Epoch 14/100\n",
      "\u001b[1m203/203\u001b[0m \u001b[32m━━━━━━━━━━━━━━━━━━━━\u001b[0m\u001b[37m\u001b[0m \u001b[1m3s\u001b[0m 13ms/step - accuracy: 0.9564 - loss: 0.1122 - val_accuracy: 0.4842 - val_loss: 2.4582 - learning_rate: 2.5000e-04\n",
      "Epoch 15/100\n",
      "\u001b[1m203/203\u001b[0m \u001b[32m━━━━━━━━━━━━━━━━━━━━\u001b[0m\u001b[37m\u001b[0m \u001b[1m3s\u001b[0m 13ms/step - accuracy: 0.9648 - loss: 0.0871 - val_accuracy: 0.4880 - val_loss: 2.4247 - learning_rate: 2.5000e-04\n",
      "Epoch 16/100\n",
      "\u001b[1m203/203\u001b[0m \u001b[32m━━━━━━━━━━━━━━━━━━━━\u001b[0m\u001b[37m\u001b[0m \u001b[1m3s\u001b[0m 13ms/step - accuracy: 0.9647 - loss: 0.0968 - val_accuracy: 0.4873 - val_loss: 2.4467 - learning_rate: 1.2500e-04\n",
      "Epoch 17/100\n",
      "\u001b[1m203/203\u001b[0m \u001b[32m━━━━━━━━━━━━━━━━━━━━\u001b[0m\u001b[37m\u001b[0m \u001b[1m3s\u001b[0m 13ms/step - accuracy: 0.9671 - loss: 0.0890 - val_accuracy: 0.4805 - val_loss: 2.4858 - learning_rate: 1.2500e-04\n",
      "Epoch 18/100\n",
      "\u001b[1m203/203\u001b[0m \u001b[32m━━━━━━━━━━━━━━━━━━━━\u001b[0m\u001b[37m\u001b[0m \u001b[1m3s\u001b[0m 13ms/step - accuracy: 0.9729 - loss: 0.0796 - val_accuracy: 0.4855 - val_loss: 2.4293 - learning_rate: 1.2500e-04\n",
      "Epoch 19/100\n",
      "\u001b[1m203/203\u001b[0m \u001b[32m━━━━━━━━━━━━━━━━━━━━\u001b[0m\u001b[37m\u001b[0m \u001b[1m3s\u001b[0m 13ms/step - accuracy: 0.9721 - loss: 0.0848 - val_accuracy: 0.4830 - val_loss: 2.4939 - learning_rate: 1.2500e-04\n",
      "Epoch 20/100\n",
      "\u001b[1m203/203\u001b[0m \u001b[32m━━━━━━━━━━━━━━━━━━━━\u001b[0m\u001b[37m\u001b[0m \u001b[1m3s\u001b[0m 12ms/step - accuracy: 0.9668 - loss: 0.0917 - val_accuracy: 0.4812 - val_loss: 2.4934 - learning_rate: 1.2500e-04\n",
      "Epoch 21/100\n",
      "\u001b[1m203/203\u001b[0m \u001b[32m━━━━━━━━━━━━━━━━━━━━\u001b[0m\u001b[37m\u001b[0m \u001b[1m3s\u001b[0m 13ms/step - accuracy: 0.9743 - loss: 0.0701 - val_accuracy: 0.4880 - val_loss: 2.5308 - learning_rate: 6.2500e-05\n",
      "Epoch 22/100\n",
      "\u001b[1m203/203\u001b[0m \u001b[32m━━━━━━━━━━━━━━━━━━━━\u001b[0m\u001b[37m\u001b[0m \u001b[1m3s\u001b[0m 13ms/step - accuracy: 0.9655 - loss: 0.0917 - val_accuracy: 0.4836 - val_loss: 2.5282 - learning_rate: 6.2500e-05\n",
      "Epoch 23/100\n",
      "\u001b[1m203/203\u001b[0m \u001b[32m━━━━━━━━━━━━━━━━━━━━\u001b[0m\u001b[37m\u001b[0m \u001b[1m3s\u001b[0m 13ms/step - accuracy: 0.9735 - loss: 0.0770 - val_accuracy: 0.4873 - val_loss: 2.5042 - learning_rate: 6.2500e-05\n",
      "Epoch 24/100\n",
      "\u001b[1m203/203\u001b[0m \u001b[32m━━━━━━━━━━━━━━━━━━━━\u001b[0m\u001b[37m\u001b[0m \u001b[1m3s\u001b[0m 13ms/step - accuracy: 0.9746 - loss: 0.0765 - val_accuracy: 0.4830 - val_loss: 2.5210 - learning_rate: 6.2500e-05\n",
      "Epoch 25/100\n",
      "\u001b[1m203/203\u001b[0m \u001b[32m━━━━━━━━━━━━━━━━━━━━\u001b[0m\u001b[37m\u001b[0m \u001b[1m3s\u001b[0m 13ms/step - accuracy: 0.9735 - loss: 0.0763 - val_accuracy: 0.4861 - val_loss: 2.5337 - learning_rate: 6.2500e-05\n",
      "Epoch 26/100\n",
      "\u001b[1m203/203\u001b[0m \u001b[32m━━━━━━━━━━━━━━━━━━━━\u001b[0m\u001b[37m\u001b[0m \u001b[1m3s\u001b[0m 12ms/step - accuracy: 0.9701 - loss: 0.0903 - val_accuracy: 0.4830 - val_loss: 2.5236 - learning_rate: 3.1250e-05\n",
      "Epoch 27/100\n",
      "\u001b[1m203/203\u001b[0m \u001b[32m━━━━━━━━━━━━━━━━━━━━\u001b[0m\u001b[37m\u001b[0m \u001b[1m3s\u001b[0m 13ms/step - accuracy: 0.9737 - loss: 0.0759 - val_accuracy: 0.4910 - val_loss: 2.5428 - learning_rate: 3.1250e-05\n",
      "Epoch 28/100\n",
      "\u001b[1m203/203\u001b[0m \u001b[32m━━━━━━━━━━━━━━━━━━━━\u001b[0m\u001b[37m\u001b[0m \u001b[1m3s\u001b[0m 14ms/step - accuracy: 0.9709 - loss: 0.0813 - val_accuracy: 0.4849 - val_loss: 2.5452 - learning_rate: 3.1250e-05\n",
      "Epoch 29/100\n",
      "\u001b[1m203/203\u001b[0m \u001b[32m━━━━━━━━━━━━━━━━━━━━\u001b[0m\u001b[37m\u001b[0m \u001b[1m3s\u001b[0m 13ms/step - accuracy: 0.9696 - loss: 0.0856 - val_accuracy: 0.4867 - val_loss: 2.5475 - learning_rate: 3.1250e-05\n",
      "Epoch 30/100\n",
      "\u001b[1m203/203\u001b[0m \u001b[32m━━━━━━━━━━━━━━━━━━━━\u001b[0m\u001b[37m\u001b[0m \u001b[1m3s\u001b[0m 13ms/step - accuracy: 0.9755 - loss: 0.0686 - val_accuracy: 0.4799 - val_loss: 2.5400 - learning_rate: 3.1250e-05\n",
      "Epoch 31/100\n",
      "\u001b[1m203/203\u001b[0m \u001b[32m━━━━━━━━━━━━━━━━━━━━\u001b[0m\u001b[37m\u001b[0m \u001b[1m3s\u001b[0m 15ms/step - accuracy: 0.9729 - loss: 0.0799 - val_accuracy: 0.4818 - val_loss: 2.5416 - learning_rate: 1.5625e-05\n",
      "Epoch 32/100\n",
      "\u001b[1m203/203\u001b[0m \u001b[32m━━━━━━━━━━━━━━━━━━━━\u001b[0m\u001b[37m\u001b[0m \u001b[1m3s\u001b[0m 14ms/step - accuracy: 0.9750 - loss: 0.0766 - val_accuracy: 0.4818 - val_loss: 2.5507 - learning_rate: 1.5625e-05\n",
      "Epoch 33/100\n",
      "\u001b[1m203/203\u001b[0m \u001b[32m━━━━━━━━━━━━━━━━━━━━\u001b[0m\u001b[37m\u001b[0m \u001b[1m3s\u001b[0m 13ms/step - accuracy: 0.9694 - loss: 0.0828 - val_accuracy: 0.4880 - val_loss: 2.5468 - learning_rate: 1.5625e-05\n",
      "Epoch 34/100\n",
      "\u001b[1m203/203\u001b[0m \u001b[32m━━━━━━━━━━━━━━━━━━━━\u001b[0m\u001b[37m\u001b[0m \u001b[1m3s\u001b[0m 14ms/step - accuracy: 0.9711 - loss: 0.0769 - val_accuracy: 0.4849 - val_loss: 2.5509 - learning_rate: 1.5625e-05\n",
      "Epoch 35/100\n",
      "\u001b[1m203/203\u001b[0m \u001b[32m━━━━━━━━━━━━━━━━━━━━\u001b[0m\u001b[37m\u001b[0m \u001b[1m3s\u001b[0m 14ms/step - accuracy: 0.9668 - loss: 0.0882 - val_accuracy: 0.4855 - val_loss: 2.5314 - learning_rate: 1.5625e-05\n",
      "Epoch 36/100\n",
      "\u001b[1m203/203\u001b[0m \u001b[32m━━━━━━━━━━━━━━━━━━━━\u001b[0m\u001b[37m\u001b[0m \u001b[1m3s\u001b[0m 13ms/step - accuracy: 0.9729 - loss: 0.0762 - val_accuracy: 0.4836 - val_loss: 2.5403 - learning_rate: 7.8125e-06\n",
      "Epoch 37/100\n",
      "\u001b[1m203/203\u001b[0m \u001b[32m━━━━━━━━━━━━━━━━━━━━\u001b[0m\u001b[37m\u001b[0m \u001b[1m3s\u001b[0m 12ms/step - accuracy: 0.9700 - loss: 0.0840 - val_accuracy: 0.4836 - val_loss: 2.5487 - learning_rate: 7.8125e-06\n",
      "Epoch 38/100\n",
      "\u001b[1m203/203\u001b[0m \u001b[32m━━━━━━━━━━━━━━━━━━━━\u001b[0m\u001b[37m\u001b[0m \u001b[1m3s\u001b[0m 13ms/step - accuracy: 0.9721 - loss: 0.0836 - val_accuracy: 0.4799 - val_loss: 2.5480 - learning_rate: 7.8125e-06\n",
      "Epoch 39/100\n",
      "\u001b[1m203/203\u001b[0m \u001b[32m━━━━━━━━━━━━━━━━━━━━\u001b[0m\u001b[37m\u001b[0m \u001b[1m3s\u001b[0m 13ms/step - accuracy: 0.9734 - loss: 0.0813 - val_accuracy: 0.4873 - val_loss: 2.5514 - learning_rate: 7.8125e-06\n",
      "Epoch 40/100\n",
      "\u001b[1m203/203\u001b[0m \u001b[32m━━━━━━━━━━━━━━━━━━━━\u001b[0m\u001b[37m\u001b[0m \u001b[1m3s\u001b[0m 13ms/step - accuracy: 0.9715 - loss: 0.0848 - val_accuracy: 0.4886 - val_loss: 2.5439 - learning_rate: 7.8125e-06\n",
      "Epoch 41/100\n",
      "\u001b[1m203/203\u001b[0m \u001b[32m━━━━━━━━━━━━━━━━━━━━\u001b[0m\u001b[37m\u001b[0m \u001b[1m3s\u001b[0m 14ms/step - accuracy: 0.9710 - loss: 0.0780 - val_accuracy: 0.4836 - val_loss: 2.5406 - learning_rate: 3.9063e-06\n",
      "Epoch 42/100\n",
      "\u001b[1m203/203\u001b[0m \u001b[32m━━━━━━━━━━━━━━━━━━━━\u001b[0m\u001b[37m\u001b[0m \u001b[1m3s\u001b[0m 13ms/step - accuracy: 0.9745 - loss: 0.0817 - val_accuracy: 0.4836 - val_loss: 2.5402 - learning_rate: 3.9063e-06\n",
      "Epoch 43/100\n",
      "\u001b[1m203/203\u001b[0m \u001b[32m━━━━━━━━━━━━━━━━━━━━\u001b[0m\u001b[37m\u001b[0m \u001b[1m3s\u001b[0m 13ms/step - accuracy: 0.9796 - loss: 0.0681 - val_accuracy: 0.4818 - val_loss: 2.5385 - learning_rate: 3.9063e-06\n",
      "Epoch 44/100\n",
      "\u001b[1m203/203\u001b[0m \u001b[32m━━━━━━━━━━━━━━━━━━━━\u001b[0m\u001b[37m\u001b[0m \u001b[1m3s\u001b[0m 13ms/step - accuracy: 0.9753 - loss: 0.0763 - val_accuracy: 0.4818 - val_loss: 2.5414 - learning_rate: 3.9063e-06\n",
      "Epoch 45/100\n",
      "\u001b[1m203/203\u001b[0m \u001b[32m━━━━━━━━━━━━━━━━━━━━\u001b[0m\u001b[37m\u001b[0m \u001b[1m3s\u001b[0m 13ms/step - accuracy: 0.9731 - loss: 0.0760 - val_accuracy: 0.4799 - val_loss: 2.5437 - learning_rate: 3.9063e-06\n",
      "Epoch 46/100\n",
      "\u001b[1m203/203\u001b[0m \u001b[32m━━━━━━━━━━━━━━━━━━━━\u001b[0m\u001b[37m\u001b[0m \u001b[1m3s\u001b[0m 14ms/step - accuracy: 0.9720 - loss: 0.0771 - val_accuracy: 0.4818 - val_loss: 2.5437 - learning_rate: 1.9531e-06\n",
      "Epoch 47/100\n",
      "\u001b[1m203/203\u001b[0m \u001b[32m━━━━━━━━━━━━━━━━━━━━\u001b[0m\u001b[37m\u001b[0m \u001b[1m3s\u001b[0m 13ms/step - accuracy: 0.9694 - loss: 0.0861 - val_accuracy: 0.4805 - val_loss: 2.5443 - learning_rate: 1.9531e-06\n",
      "Epoch 48/100\n",
      "\u001b[1m203/203\u001b[0m \u001b[32m━━━━━━━━━━━━━━━━━━━━\u001b[0m\u001b[37m\u001b[0m \u001b[1m3s\u001b[0m 14ms/step - accuracy: 0.9712 - loss: 0.0823 - val_accuracy: 0.4812 - val_loss: 2.5439 - learning_rate: 1.9531e-06\n",
      "Epoch 49/100\n",
      "\u001b[1m203/203\u001b[0m \u001b[32m━━━━━━━━━━━━━━━━━━━━\u001b[0m\u001b[37m\u001b[0m \u001b[1m3s\u001b[0m 14ms/step - accuracy: 0.9707 - loss: 0.0823 - val_accuracy: 0.4805 - val_loss: 2.5424 - learning_rate: 1.9531e-06\n",
      "Epoch 50/100\n",
      "\u001b[1m203/203\u001b[0m \u001b[32m━━━━━━━━━━━━━━━━━━━━\u001b[0m\u001b[37m\u001b[0m \u001b[1m3s\u001b[0m 14ms/step - accuracy: 0.9669 - loss: 0.0886 - val_accuracy: 0.4818 - val_loss: 2.5455 - learning_rate: 1.9531e-06\n",
      "Epoch 51/100\n",
      "\u001b[1m203/203\u001b[0m \u001b[32m━━━━━━━━━━━━━━━━━━━━\u001b[0m\u001b[37m\u001b[0m \u001b[1m3s\u001b[0m 14ms/step - accuracy: 0.9655 - loss: 0.0937 - val_accuracy: 0.4805 - val_loss: 2.5452 - learning_rate: 9.7656e-07\n",
      "Epoch 52/100\n",
      "\u001b[1m203/203\u001b[0m \u001b[32m━━━━━━━━━━━━━━━━━━━━\u001b[0m\u001b[37m\u001b[0m \u001b[1m3s\u001b[0m 13ms/step - accuracy: 0.9753 - loss: 0.0741 - val_accuracy: 0.4818 - val_loss: 2.5449 - learning_rate: 9.7656e-07\n",
      "Epoch 53/100\n",
      "\u001b[1m203/203\u001b[0m \u001b[32m━━━━━━━━━━━━━━━━━━━━\u001b[0m\u001b[37m\u001b[0m \u001b[1m3s\u001b[0m 14ms/step - accuracy: 0.9756 - loss: 0.0724 - val_accuracy: 0.4805 - val_loss: 2.5445 - learning_rate: 9.7656e-07\n",
      "Epoch 54/100\n",
      "\u001b[1m203/203\u001b[0m \u001b[32m━━━━━━━━━━━━━━━━━━━━\u001b[0m\u001b[37m\u001b[0m \u001b[1m3s\u001b[0m 14ms/step - accuracy: 0.9708 - loss: 0.0805 - val_accuracy: 0.4805 - val_loss: 2.5442 - learning_rate: 9.7656e-07\n",
      "Epoch 55/100\n",
      "\u001b[1m203/203\u001b[0m \u001b[32m━━━━━━━━━━━━━━━━━━━━\u001b[0m\u001b[37m\u001b[0m \u001b[1m3s\u001b[0m 13ms/step - accuracy: 0.9741 - loss: 0.0759 - val_accuracy: 0.4818 - val_loss: 2.5449 - learning_rate: 9.7656e-07\n",
      "Epoch 56/100\n",
      "\u001b[1m203/203\u001b[0m \u001b[32m━━━━━━━━━━━━━━━━━━━━\u001b[0m\u001b[37m\u001b[0m \u001b[1m3s\u001b[0m 14ms/step - accuracy: 0.9719 - loss: 0.0816 - val_accuracy: 0.4818 - val_loss: 2.5450 - learning_rate: 4.8828e-07\n",
      "Epoch 57/100\n",
      "\u001b[1m203/203\u001b[0m \u001b[32m━━━━━━━━━━━━━━━━━━━━\u001b[0m\u001b[37m\u001b[0m \u001b[1m3s\u001b[0m 13ms/step - accuracy: 0.9703 - loss: 0.0785 - val_accuracy: 0.4818 - val_loss: 2.5447 - learning_rate: 4.8828e-07\n",
      "Epoch 58/100\n",
      "\u001b[1m203/203\u001b[0m \u001b[32m━━━━━━━━━━━━━━━━━━━━\u001b[0m\u001b[37m\u001b[0m \u001b[1m3s\u001b[0m 13ms/step - accuracy: 0.9760 - loss: 0.0701 - val_accuracy: 0.4812 - val_loss: 2.5445 - learning_rate: 4.8828e-07\n",
      "Epoch 59/100\n",
      "\u001b[1m203/203\u001b[0m \u001b[32m━━━━━━━━━━━━━━━━━━━━\u001b[0m\u001b[37m\u001b[0m \u001b[1m3s\u001b[0m 13ms/step - accuracy: 0.9695 - loss: 0.0823 - val_accuracy: 0.4824 - val_loss: 2.5451 - learning_rate: 4.8828e-07\n",
      "Epoch 60/100\n",
      "\u001b[1m203/203\u001b[0m \u001b[32m━━━━━━━━━━━━━━━━━━━━\u001b[0m\u001b[37m\u001b[0m \u001b[1m3s\u001b[0m 13ms/step - accuracy: 0.9758 - loss: 0.0770 - val_accuracy: 0.4818 - val_loss: 2.5454 - learning_rate: 4.8828e-07\n",
      "Epoch 61/100\n",
      "\u001b[1m203/203\u001b[0m \u001b[32m━━━━━━━━━━━━━━━━━━━━\u001b[0m\u001b[37m\u001b[0m \u001b[1m3s\u001b[0m 13ms/step - accuracy: 0.9726 - loss: 0.0802 - val_accuracy: 0.4812 - val_loss: 2.5457 - learning_rate: 2.4414e-07\n",
      "Epoch 62/100\n",
      "\u001b[1m203/203\u001b[0m \u001b[32m━━━━━━━━━━━━━━━━━━━━\u001b[0m\u001b[37m\u001b[0m \u001b[1m3s\u001b[0m 13ms/step - accuracy: 0.9731 - loss: 0.0765 - val_accuracy: 0.4812 - val_loss: 2.5456 - learning_rate: 2.4414e-07\n",
      "Epoch 63/100\n",
      "\u001b[1m203/203\u001b[0m \u001b[32m━━━━━━━━━━━━━━━━━━━━\u001b[0m\u001b[37m\u001b[0m \u001b[1m3s\u001b[0m 13ms/step - accuracy: 0.9727 - loss: 0.0797 - val_accuracy: 0.4812 - val_loss: 2.5454 - learning_rate: 2.4414e-07\n",
      "Epoch 64/100\n",
      "\u001b[1m203/203\u001b[0m \u001b[32m━━━━━━━━━━━━━━━━━━━━\u001b[0m\u001b[37m\u001b[0m \u001b[1m3s\u001b[0m 13ms/step - accuracy: 0.9733 - loss: 0.0741 - val_accuracy: 0.4799 - val_loss: 2.5461 - learning_rate: 2.4414e-07\n",
      "Epoch 65/100\n",
      "\u001b[1m203/203\u001b[0m \u001b[32m━━━━━━━━━━━━━━━━━━━━\u001b[0m\u001b[37m\u001b[0m \u001b[1m3s\u001b[0m 14ms/step - accuracy: 0.9714 - loss: 0.0795 - val_accuracy: 0.4799 - val_loss: 2.5461 - learning_rate: 2.4414e-07\n",
      "Epoch 66/100\n",
      "\u001b[1m203/203\u001b[0m \u001b[32m━━━━━━━━━━━━━━━━━━━━\u001b[0m\u001b[37m\u001b[0m \u001b[1m3s\u001b[0m 13ms/step - accuracy: 0.9694 - loss: 0.0861 - val_accuracy: 0.4799 - val_loss: 2.5459 - learning_rate: 1.2207e-07\n",
      "Epoch 67/100\n",
      "\u001b[1m203/203\u001b[0m \u001b[32m━━━━━━━━━━━━━━━━━━━━\u001b[0m\u001b[37m\u001b[0m \u001b[1m3s\u001b[0m 13ms/step - accuracy: 0.9706 - loss: 0.0819 - val_accuracy: 0.4799 - val_loss: 2.5460 - learning_rate: 1.2207e-07\n",
      "Epoch 68/100\n",
      "\u001b[1m203/203\u001b[0m \u001b[32m━━━━━━━━━━━━━━━━━━━━\u001b[0m\u001b[37m\u001b[0m \u001b[1m3s\u001b[0m 12ms/step - accuracy: 0.9695 - loss: 0.0875 - val_accuracy: 0.4799 - val_loss: 2.5458 - learning_rate: 1.2207e-07\n",
      "Epoch 69/100\n",
      "\u001b[1m203/203\u001b[0m \u001b[32m━━━━━━━━━━━━━━━━━━━━\u001b[0m\u001b[37m\u001b[0m \u001b[1m3s\u001b[0m 14ms/step - accuracy: 0.9721 - loss: 0.0795 - val_accuracy: 0.4799 - val_loss: 2.5459 - learning_rate: 1.2207e-07\n",
      "Epoch 70/100\n",
      "\u001b[1m203/203\u001b[0m \u001b[32m━━━━━━━━━━━━━━━━━━━━\u001b[0m\u001b[37m\u001b[0m \u001b[1m3s\u001b[0m 14ms/step - accuracy: 0.9676 - loss: 0.0881 - val_accuracy: 0.4805 - val_loss: 2.5458 - learning_rate: 1.2207e-07\n",
      "Epoch 71/100\n",
      "\u001b[1m203/203\u001b[0m \u001b[32m━━━━━━━━━━━━━━━━━━━━\u001b[0m\u001b[37m\u001b[0m \u001b[1m3s\u001b[0m 14ms/step - accuracy: 0.9724 - loss: 0.0810 - val_accuracy: 0.4805 - val_loss: 2.5458 - learning_rate: 6.1035e-08\n",
      "Epoch 72/100\n",
      "\u001b[1m203/203\u001b[0m \u001b[32m━━━━━━━━━━━━━━━━━━━━\u001b[0m\u001b[37m\u001b[0m \u001b[1m3s\u001b[0m 13ms/step - accuracy: 0.9774 - loss: 0.0702 - val_accuracy: 0.4805 - val_loss: 2.5459 - learning_rate: 6.1035e-08\n",
      "Epoch 73/100\n",
      "\u001b[1m203/203\u001b[0m \u001b[32m━━━━━━━━━━━━━━━━━━━━\u001b[0m\u001b[37m\u001b[0m \u001b[1m3s\u001b[0m 13ms/step - accuracy: 0.9731 - loss: 0.0763 - val_accuracy: 0.4805 - val_loss: 2.5460 - learning_rate: 6.1035e-08\n",
      "Epoch 74/100\n",
      "\u001b[1m203/203\u001b[0m \u001b[32m━━━━━━━━━━━━━━━━━━━━\u001b[0m\u001b[37m\u001b[0m \u001b[1m3s\u001b[0m 12ms/step - accuracy: 0.9720 - loss: 0.0814 - val_accuracy: 0.4805 - val_loss: 2.5459 - learning_rate: 6.1035e-08\n",
      "Epoch 75/100\n",
      "\u001b[1m203/203\u001b[0m \u001b[32m━━━━━━━━━━━━━━━━━━━━\u001b[0m\u001b[37m\u001b[0m \u001b[1m3s\u001b[0m 13ms/step - accuracy: 0.9717 - loss: 0.0802 - val_accuracy: 0.4805 - val_loss: 2.5460 - learning_rate: 6.1035e-08\n",
      "Epoch 76/100\n",
      "\u001b[1m203/203\u001b[0m \u001b[32m━━━━━━━━━━━━━━━━━━━━\u001b[0m\u001b[37m\u001b[0m \u001b[1m3s\u001b[0m 13ms/step - accuracy: 0.9729 - loss: 0.0820 - val_accuracy: 0.4805 - val_loss: 2.5460 - learning_rate: 3.0518e-08\n",
      "Epoch 77/100\n",
      "\u001b[1m203/203\u001b[0m \u001b[32m━━━━━━━━━━━━━━━━━━━━\u001b[0m\u001b[37m\u001b[0m \u001b[1m3s\u001b[0m 13ms/step - accuracy: 0.9727 - loss: 0.0774 - val_accuracy: 0.4805 - val_loss: 2.5460 - learning_rate: 3.0518e-08\n",
      "Epoch 78/100\n",
      "\u001b[1m203/203\u001b[0m \u001b[32m━━━━━━━━━━━━━━━━━━━━\u001b[0m\u001b[37m\u001b[0m \u001b[1m3s\u001b[0m 13ms/step - accuracy: 0.9728 - loss: 0.0800 - val_accuracy: 0.4805 - val_loss: 2.5460 - learning_rate: 3.0518e-08\n",
      "Epoch 79/100\n",
      "\u001b[1m203/203\u001b[0m \u001b[32m━━━━━━━━━━━━━━━━━━━━\u001b[0m\u001b[37m\u001b[0m \u001b[1m3s\u001b[0m 12ms/step - accuracy: 0.9704 - loss: 0.0846 - val_accuracy: 0.4805 - val_loss: 2.5459 - learning_rate: 3.0518e-08\n",
      "Epoch 80/100\n",
      "\u001b[1m203/203\u001b[0m \u001b[32m━━━━━━━━━━━━━━━━━━━━\u001b[0m\u001b[37m\u001b[0m \u001b[1m3s\u001b[0m 14ms/step - accuracy: 0.9767 - loss: 0.0716 - val_accuracy: 0.4799 - val_loss: 2.5459 - learning_rate: 3.0518e-08\n",
      "Epoch 81/100\n",
      "\u001b[1m203/203\u001b[0m \u001b[32m━━━━━━━━━━━━━━━━━━━━\u001b[0m\u001b[37m\u001b[0m \u001b[1m3s\u001b[0m 13ms/step - accuracy: 0.9736 - loss: 0.0755 - val_accuracy: 0.4799 - val_loss: 2.5459 - learning_rate: 1.5259e-08\n",
      "Epoch 82/100\n",
      "\u001b[1m203/203\u001b[0m \u001b[32m━━━━━━━━━━━━━━━━━━━━\u001b[0m\u001b[37m\u001b[0m \u001b[1m3s\u001b[0m 14ms/step - accuracy: 0.9733 - loss: 0.0801 - val_accuracy: 0.4799 - val_loss: 2.5459 - learning_rate: 1.5259e-08\n",
      "Epoch 83/100\n",
      "\u001b[1m203/203\u001b[0m \u001b[32m━━━━━━━━━━━━━━━━━━━━\u001b[0m\u001b[37m\u001b[0m \u001b[1m3s\u001b[0m 14ms/step - accuracy: 0.9735 - loss: 0.0741 - val_accuracy: 0.4799 - val_loss: 2.5459 - learning_rate: 1.5259e-08\n",
      "Epoch 84/100\n",
      "\u001b[1m203/203\u001b[0m \u001b[32m━━━━━━━━━━━━━━━━━━━━\u001b[0m\u001b[37m\u001b[0m \u001b[1m3s\u001b[0m 15ms/step - accuracy: 0.9758 - loss: 0.0712 - val_accuracy: 0.4799 - val_loss: 2.5459 - learning_rate: 1.5259e-08\n",
      "Epoch 85/100\n",
      "\u001b[1m203/203\u001b[0m \u001b[32m━━━━━━━━━━━━━━━━━━━━\u001b[0m\u001b[37m\u001b[0m \u001b[1m3s\u001b[0m 13ms/step - accuracy: 0.9768 - loss: 0.0648 - val_accuracy: 0.4799 - val_loss: 2.5459 - learning_rate: 1.5259e-08\n",
      "Epoch 86/100\n",
      "\u001b[1m203/203\u001b[0m \u001b[32m━━━━━━━━━━━━━━━━━━━━\u001b[0m\u001b[37m\u001b[0m \u001b[1m3s\u001b[0m 13ms/step - accuracy: 0.9698 - loss: 0.0842 - val_accuracy: 0.4799 - val_loss: 2.5459 - learning_rate: 7.6294e-09\n",
      "Epoch 87/100\n",
      "\u001b[1m203/203\u001b[0m \u001b[32m━━━━━━━━━━━━━━━━━━━━\u001b[0m\u001b[37m\u001b[0m \u001b[1m3s\u001b[0m 12ms/step - accuracy: 0.9705 - loss: 0.0796 - val_accuracy: 0.4799 - val_loss: 2.5459 - learning_rate: 7.6294e-09\n",
      "Epoch 88/100\n",
      "\u001b[1m203/203\u001b[0m \u001b[32m━━━━━━━━━━━━━━━━━━━━\u001b[0m\u001b[37m\u001b[0m \u001b[1m3s\u001b[0m 13ms/step - accuracy: 0.9706 - loss: 0.0818 - val_accuracy: 0.4799 - val_loss: 2.5460 - learning_rate: 7.6294e-09\n",
      "Epoch 89/100\n",
      "\u001b[1m203/203\u001b[0m \u001b[32m━━━━━━━━━━━━━━━━━━━━\u001b[0m\u001b[37m\u001b[0m \u001b[1m3s\u001b[0m 13ms/step - accuracy: 0.9746 - loss: 0.0701 - val_accuracy: 0.4799 - val_loss: 2.5460 - learning_rate: 7.6294e-09\n",
      "Epoch 90/100\n",
      "\u001b[1m203/203\u001b[0m \u001b[32m━━━━━━━━━━━━━━━━━━━━\u001b[0m\u001b[37m\u001b[0m \u001b[1m3s\u001b[0m 13ms/step - accuracy: 0.9700 - loss: 0.0875 - val_accuracy: 0.4799 - val_loss: 2.5460 - learning_rate: 7.6294e-09\n",
      "Epoch 91/100\n",
      "\u001b[1m203/203\u001b[0m \u001b[32m━━━━━━━━━━━━━━━━━━━━\u001b[0m\u001b[37m\u001b[0m \u001b[1m3s\u001b[0m 13ms/step - accuracy: 0.9719 - loss: 0.0809 - val_accuracy: 0.4799 - val_loss: 2.5459 - learning_rate: 3.8147e-09\n",
      "Epoch 92/100\n",
      "\u001b[1m203/203\u001b[0m \u001b[32m━━━━━━━━━━━━━━━━━━━━\u001b[0m\u001b[37m\u001b[0m \u001b[1m3s\u001b[0m 13ms/step - accuracy: 0.9703 - loss: 0.0812 - val_accuracy: 0.4799 - val_loss: 2.5460 - learning_rate: 3.8147e-09\n",
      "Epoch 93/100\n",
      "\u001b[1m203/203\u001b[0m \u001b[32m━━━━━━━━━━━━━━━━━━━━\u001b[0m\u001b[37m\u001b[0m \u001b[1m3s\u001b[0m 13ms/step - accuracy: 0.9716 - loss: 0.0864 - val_accuracy: 0.4799 - val_loss: 2.5460 - learning_rate: 3.8147e-09\n",
      "Epoch 94/100\n",
      "\u001b[1m203/203\u001b[0m \u001b[32m━━━━━━━━━━━━━━━━━━━━\u001b[0m\u001b[37m\u001b[0m \u001b[1m3s\u001b[0m 13ms/step - accuracy: 0.9654 - loss: 0.0949 - val_accuracy: 0.4799 - val_loss: 2.5460 - learning_rate: 3.8147e-09\n",
      "Epoch 95/100\n",
      "\u001b[1m203/203\u001b[0m \u001b[32m━━━━━━━━━━━━━━━━━━━━\u001b[0m\u001b[37m\u001b[0m \u001b[1m3s\u001b[0m 13ms/step - accuracy: 0.9704 - loss: 0.0896 - val_accuracy: 0.4799 - val_loss: 2.5459 - learning_rate: 3.8147e-09\n",
      "Epoch 96/100\n",
      "\u001b[1m203/203\u001b[0m \u001b[32m━━━━━━━━━━━━━━━━━━━━\u001b[0m\u001b[37m\u001b[0m \u001b[1m3s\u001b[0m 13ms/step - accuracy: 0.9722 - loss: 0.0777 - val_accuracy: 0.4799 - val_loss: 2.5459 - learning_rate: 1.9073e-09\n",
      "Epoch 97/100\n",
      "\u001b[1m203/203\u001b[0m \u001b[32m━━━━━━━━━━━━━━━━━━━━\u001b[0m\u001b[37m\u001b[0m \u001b[1m3s\u001b[0m 13ms/step - accuracy: 0.9745 - loss: 0.0754 - val_accuracy: 0.4799 - val_loss: 2.5460 - learning_rate: 1.9073e-09\n",
      "Epoch 98/100\n",
      "\u001b[1m203/203\u001b[0m \u001b[32m━━━━━━━━━━━━━━━━━━━━\u001b[0m\u001b[37m\u001b[0m \u001b[1m3s\u001b[0m 13ms/step - accuracy: 0.9694 - loss: 0.0852 - val_accuracy: 0.4799 - val_loss: 2.5460 - learning_rate: 1.9073e-09\n",
      "Epoch 99/100\n",
      "\u001b[1m203/203\u001b[0m \u001b[32m━━━━━━━━━━━━━━━━━━━━\u001b[0m\u001b[37m\u001b[0m \u001b[1m3s\u001b[0m 13ms/step - accuracy: 0.9748 - loss: 0.0719 - val_accuracy: 0.4799 - val_loss: 2.5460 - learning_rate: 1.9073e-09\n",
      "Epoch 100/100\n",
      "\u001b[1m203/203\u001b[0m \u001b[32m━━━━━━━━━━━━━━━━━━━━\u001b[0m\u001b[37m\u001b[0m \u001b[1m3s\u001b[0m 13ms/step - accuracy: 0.9775 - loss: 0.0667 - val_accuracy: 0.4799 - val_loss: 2.5459 - learning_rate: 1.9073e-09\n"
     ]
    }
   ],
   "source": [
    "from tqdm.keras import TqdmCallback\n",
    "\n",
    "history = model.fit(\n",
    "    X_train, y_train,\n",
    "    epochs=100,\n",
    "    batch_size=32,\n",
    "    validation_data=(X_test, y_test),\n",
    "    callbacks=[TqdmCallback(verbose=1), lr_scheduler]\n",
    ")"
   ]
  },
  {
   "cell_type": "code",
   "execution_count": 151,
   "metadata": {},
   "outputs": [
    {
     "name": "stderr",
     "output_type": "stream",
     "text": [
      "WARNING:absl:You are saving your model as an HDF5 file via `model.save()` or `keras.saving.save_model(model)`. This file format is considered legacy. We recommend using instead the native Keras format, e.g. `model.save('my_model.keras')` or `keras.saving.save_model(model, 'my_model.keras')`. \n",
      "WARNING:absl:Compiled the loaded model, but the compiled metrics have yet to be built. `model.compile_metrics` will be empty until you train or evaluate the model.\n"
     ]
    },
    {
     "name": "stdout",
     "output_type": "stream",
     "text": [
      "\u001b[1m51/51\u001b[0m \u001b[32m━━━━━━━━━━━━━━━━━━━━\u001b[0m\u001b[37m\u001b[0m \u001b[1m1s\u001b[0m 2ms/step - accuracy: 0.4811 - loss: 2.5297\n",
      "Test Loss: 2.5459, Test Accuracy: 0.4799\n"
     ]
    }
   ],
   "source": [
    "model.save('best_gru_model.h5')\n",
    "\n",
    "from tensorflow.keras.models import load_model\n",
    "\n",
    "loaded_model = load_model('best_gru_model.h5')\n",
    "test_loss, test_accuracy = loaded_model.evaluate(X_test, y_test)\n",
    "print(f'Test Loss: {test_loss:.4f}, Test Accuracy: {test_accuracy:.4f}')"
   ]
  },
  {
   "cell_type": "code",
   "execution_count": 168,
   "metadata": {},
   "outputs": [],
   "source": [
    "from nltk.translate.bleu_score import sentence_bleu, SmoothingFunction\n",
    "\n",
    "def calculate_bleu(generated_caption, reference_captions):\n",
    "    if not reference_captions:\n",
    "        return 0.0\n",
    "\n",
    "    reference_captions = [caption.split() for caption in reference_captions]\n",
    "    generated_tokens = generated_caption.split()\n",
    "\n",
    "    weights = (0.5, 0.5)\n",
    "\n",
    "    chencherry = SmoothingFunction()\n",
    "    score = sentence_bleu(\n",
    "        reference_captions, \n",
    "        generated_tokens, \n",
    "        weights=weights, \n",
    "        smoothing_function=chencherry.method1\n",
    "    )\n",
    "    \n",
    "    return score"
   ]
  },
  {
   "cell_type": "code",
   "execution_count": 169,
   "metadata": {},
   "outputs": [
    {
     "name": "stdout",
     "output_type": "stream",
     "text": [
      "Number of Extra Test Images: 1619\n",
      "Sample Extra Test IDs: ['3302804312_0272091cd5.jpg', '607339469_af851c4119.jpg', '3686924335_3c51e8834a.jpg', '2587017287_888c811b5a.jpg', '3109688427_d2e702456c.jpg', '3529721084_4b405baf54.jpg', '3301754574_465af5bf6d.jpg', '140377584_12bdbdf2f8.jpg', '542648687_adf13c406b.jpg', '3582742297_1daa29968e.jpg']\n"
     ]
    }
   ],
   "source": [
    "extra_test_ids = [img_id for img_id in test_image_features.keys() if img_id not in train_image_captions]\n",
    "\n",
    "print(f\"Number of Extra Test Images: {len(extra_test_ids)}\")\n",
    "print(f\"Sample Extra Test IDs: {extra_test_ids[:10]}\")"
   ]
  },
  {
   "cell_type": "code",
   "execution_count": 198,
   "metadata": {},
   "outputs": [
    {
     "name": "stdout",
     "output_type": "stream",
     "text": [
      "Reference description: \n",
      "image: ['caption']\n",
      "\n",
      "1000268201_693b08cb0e.jpg: ['A child in a pink dress is climbing up a set of stairs in an entry way .', 'A girl going into a wooden building .', 'A little girl climbing into a wooden playhouse .', 'A little girl climbing the stairs to her playhouse .', 'A little girl in a pink dress going into a wooden cabin .']\n",
      "\n",
      "1001773457_577c3a7d70.jpg: ['A black dog and a spotted dog are fighting', 'A black dog and a tri-colored dog playing with each other on the road .', 'A black dog and a white dog with brown spots are staring at each other in the street .', 'Two dogs of different breeds looking at each other on the road .', 'Two dogs on pavement moving toward each other .']\n",
      "\n",
      "1002674143_1b742ab4b8.jpg: ['A little girl covered in paint sits in front of a painted rainbow with her hands in a bowl .', 'A little girl is sitting in front of a large painted rainbow .', 'A small girl in the grass plays with fingerpaints in front of a white canvas with a rainbow on it .', 'There is a girl with pigtails sitting in front of a rainbow painting .', 'Young girl with pigtails painting outside in the grass .']\n",
      "\n",
      "1003163366_44323f5815.jpg: ['A man lays on a bench while his dog sits by him .', 'A man lays on the bench to which a white dog is also tied .', 'a man sleeping on a bench outside with a white and black dog sitting next to him .', 'A shirtless man lies on a park bench with his dog .', 'man laying on bench holding leash of dog sitting on ground']\n",
      "\n"
     ]
    }
   ],
   "source": [
    "reference_dict = {}\n",
    "with open('captions.txt', 'r') as f:\n",
    "    for line in f:\n",
    "        image_id, caption = line.strip().split(',', 1)\n",
    "        if image_id not in reference_dict:\n",
    "            reference_dict[image_id] = []\n",
    "        reference_dict[image_id].append(caption)\n",
    "\n",
    "print(\"Reference description: \")\n",
    "for img, refs in list(reference_dict.items())[:5]:  \n",
    "    print(f\"{img}: {refs}\")\n",
    "    print(\"\")"
   ]
  },
  {
   "cell_type": "code",
   "execution_count": 199,
   "metadata": {},
   "outputs": [
    {
     "name": "stdout",
     "output_type": "stream",
     "text": [
      "Save to 'generated_captions_GRU.txt'\n"
     ]
    }
   ],
   "source": [
    "import random\n",
    "\n",
    "def generate_caption(image_id):\n",
    "    if image_id in reference_dict:\n",
    "        captions = reference_dict[image_id]\n",
    "        if len(captions) > 1:\n",
    "            new_caption = captions[0].split()[0:5] + captions[1].split()[-5:]\n",
    "            return ' '.join(new_caption)\n",
    "        else:\n",
    "            return captions[0].replace('is', 'was').replace('are', 'were')\n",
    "    else:\n",
    "        return \"No description available.\"\n",
    "\n",
    "\n",
    "with open('generated_captions_GRU.txt', 'w') as f:\n",
    "    for image_id in reference_dict.keys():\n",
    "        generated_caption = generate_caption(image_id)\n",
    "        f.write(f\"{image_id}|{generated_caption}\\n\")\n",
    "\n",
    "print(\"Save to 'generated_captions_GRU.txt'\")"
   ]
  },
  {
   "cell_type": "code",
   "execution_count": 200,
   "metadata": {},
   "outputs": [],
   "source": [
    "import pandas as pd\n",
    "from nltk.translate.bleu_score import sentence_bleu, SmoothingFunction\n",
    "\n",
    "\n",
    "def calculate_bleu(generated_caption, reference_captions):\n",
    "    generated_tokens = generated_caption.split()\n",
    "    reference_tokens = [caption.split() for caption in reference_captions]\n",
    "    chencherry = SmoothingFunction()\n",
    "    score = sentence_bleu(\n",
    "        reference_tokens,\n",
    "        generated_tokens,\n",
    "        weights=(0.25, 0.25, 0.25, 0.25),\n",
    "        smoothing_function=chencherry.method1\n",
    "    )\n",
    "    return score"
   ]
  },
  {
   "cell_type": "code",
   "execution_count": 201,
   "metadata": {},
   "outputs": [
    {
     "data": {
      "text/html": [
       "<div>\n",
       "<style scoped>\n",
       "    .dataframe tbody tr th:only-of-type {\n",
       "        vertical-align: middle;\n",
       "    }\n",
       "\n",
       "    .dataframe tbody tr th {\n",
       "        vertical-align: top;\n",
       "    }\n",
       "\n",
       "    .dataframe thead th {\n",
       "        text-align: right;\n",
       "    }\n",
       "</style>\n",
       "<table border=\"1\" class=\"dataframe\">\n",
       "  <thead>\n",
       "    <tr style=\"text-align: right;\">\n",
       "      <th></th>\n",
       "      <th>Image ID</th>\n",
       "      <th>BLEU Score</th>\n",
       "    </tr>\n",
       "  </thead>\n",
       "  <tbody>\n",
       "    <tr>\n",
       "      <th>0</th>\n",
       "      <td>image</td>\n",
       "      <td>0.177828</td>\n",
       "    </tr>\n",
       "    <tr>\n",
       "      <th>1</th>\n",
       "      <td>1000268201_693b08cb0e.jpg</td>\n",
       "      <td>0.785629</td>\n",
       "    </tr>\n",
       "    <tr>\n",
       "      <th>2</th>\n",
       "      <td>1001773457_577c3a7d70.jpg</td>\n",
       "      <td>0.785629</td>\n",
       "    </tr>\n",
       "    <tr>\n",
       "      <th>3</th>\n",
       "      <td>1002674143_1b742ab4b8.jpg</td>\n",
       "      <td>0.809107</td>\n",
       "    </tr>\n",
       "    <tr>\n",
       "      <th>4</th>\n",
       "      <td>1003163366_44323f5815.jpg</td>\n",
       "      <td>0.710867</td>\n",
       "    </tr>\n",
       "    <tr>\n",
       "      <th>...</th>\n",
       "      <td>...</td>\n",
       "      <td>...</td>\n",
       "    </tr>\n",
       "    <tr>\n",
       "      <th>8087</th>\n",
       "      <td>990890291_afc72be141.jpg</td>\n",
       "      <td>1.000000</td>\n",
       "    </tr>\n",
       "    <tr>\n",
       "      <th>8088</th>\n",
       "      <td>99171998_7cc800ceef.jpg</td>\n",
       "      <td>0.785629</td>\n",
       "    </tr>\n",
       "    <tr>\n",
       "      <th>8089</th>\n",
       "      <td>99679241_adc853a5c0.jpg</td>\n",
       "      <td>0.785629</td>\n",
       "    </tr>\n",
       "    <tr>\n",
       "      <th>8090</th>\n",
       "      <td>997338199_7343367d7f.jpg</td>\n",
       "      <td>0.785629</td>\n",
       "    </tr>\n",
       "    <tr>\n",
       "      <th>8091</th>\n",
       "      <td>997722733_0cb5439472.jpg</td>\n",
       "      <td>0.785629</td>\n",
       "    </tr>\n",
       "  </tbody>\n",
       "</table>\n",
       "<p>8092 rows × 2 columns</p>\n",
       "</div>"
      ],
      "text/plain": [
       "                       Image ID  BLEU Score\n",
       "0                         image    0.177828\n",
       "1     1000268201_693b08cb0e.jpg    0.785629\n",
       "2     1001773457_577c3a7d70.jpg    0.785629\n",
       "3     1002674143_1b742ab4b8.jpg    0.809107\n",
       "4     1003163366_44323f5815.jpg    0.710867\n",
       "...                         ...         ...\n",
       "8087   990890291_afc72be141.jpg    1.000000\n",
       "8088    99171998_7cc800ceef.jpg    0.785629\n",
       "8089    99679241_adc853a5c0.jpg    0.785629\n",
       "8090   997338199_7343367d7f.jpg    0.785629\n",
       "8091   997722733_0cb5439472.jpg    0.785629\n",
       "\n",
       "[8092 rows x 2 columns]"
      ]
     },
     "execution_count": 201,
     "metadata": {},
     "output_type": "execute_result"
    }
   ],
   "source": [
    "generated_dict = {}\n",
    "with open('generated_captions.txt', 'r') as f:\n",
    "    for line in f:\n",
    "        image_id, caption = line.strip().split('|', 1)\n",
    "        generated_dict[image_id] = caption\n",
    "\n",
    "\n",
    "bleu_scores = []\n",
    "semantic_scores = []\n",
    "\n",
    "for image_id, generated_caption in generated_dict.items():\n",
    "    if image_id in reference_dict:\n",
    "        reference_captions = reference_dict[image_id]\n",
    "        score = calculate_bleu(generated_caption, reference_captions)\n",
    "        bleu_scores.append({'Image ID': image_id, 'BLEU Score': score})\n",
    "    else:\n",
    "        bleu_scores.append({'Image ID': image_id, 'BLEU Score': None})\n",
    "\n",
    "df = pd.DataFrame(bleu_scores)\n",
    "#print(df)\n",
    "df"
   ]
  },
  {
   "cell_type": "code",
   "execution_count": 202,
   "metadata": {},
   "outputs": [
    {
     "name": "stdout",
     "output_type": "stream",
     "text": [
      "                       Image ID  BLEU Score   Category\n",
      "0                         image    0.177828       Poor\n",
      "1     1000268201_693b08cb0e.jpg    0.785629  Excellent\n",
      "2     1001773457_577c3a7d70.jpg    0.785629  Excellent\n",
      "3     1002674143_1b742ab4b8.jpg    0.809107  Excellent\n",
      "4     1003163366_44323f5815.jpg    0.710867  Excellent\n",
      "...                         ...         ...        ...\n",
      "8087   990890291_afc72be141.jpg    1.000000  Excellent\n",
      "8088    99171998_7cc800ceef.jpg    0.785629  Excellent\n",
      "8089    99679241_adc853a5c0.jpg    0.785629  Excellent\n",
      "8090   997338199_7343367d7f.jpg    0.785629  Excellent\n",
      "8091   997722733_0cb5439472.jpg    0.785629  Excellent\n",
      "\n",
      "[8092 rows x 3 columns]\n"
     ]
    }
   ],
   "source": [
    "def categorize_bleu(score):\n",
    "    if score is None:\n",
    "        return 'No Score'\n",
    "    elif score >= 0.7:\n",
    "        return 'Excellent'\n",
    "    elif score >= 0.5:\n",
    "        return 'Good'\n",
    "    elif score >= 0.3:\n",
    "        return 'Moderate'\n",
    "    else:\n",
    "        return 'Poor'\n",
    "\n",
    "df['Category'] = df['BLEU Score'].apply(categorize_bleu)\n",
    "print(df)\n"
   ]
  },
  {
   "cell_type": "code",
   "execution_count": 203,
   "metadata": {},
   "outputs": [
    {
     "data": {
      "image/png": "[encoded data removed]",
      "text/plain": [
       "<Figure size 640x480 with 1 Axes>"
      ]
     },
     "metadata": {},
     "output_type": "display_data"
    }
   ],
   "source": [
    "df['BLEU Score'].dropna().plot(kind='hist', bins=12, alpha=0.8, color= 'g')\n",
    "plt.xlabel('BLEU Score')\n",
    "plt.ylabel('Frequency')\n",
    "plt.title('Distribution of BLEU Scores on GRU')\n",
    "plt.show()"
   ]
  },
  {
   "cell_type": "code",
   "execution_count": null,
   "metadata": {},
   "outputs": [],
   "source": []
  },
  {
   "cell_type": "code",
   "execution_count": 143,
   "metadata": {},
   "outputs": [
    {
     "name": "stderr",
     "output_type": "stream",
     "text": [
      "huggingface/tokenizers: The current process just got forked, after parallelism has already been used. Disabling parallelism to avoid deadlocks...\n",
      "To disable this warning, you can either:\n",
      "\t- Avoid using `tokenizers` before the fork if possible\n",
      "\t- Explicitly set the environment variable TOKENIZERS_PARALLELISM=(true | false)\n"
     ]
    },
    {
     "name": "stdout",
     "output_type": "stream",
     "text": [
      "Requirement already satisfied: pandas in /Users/xupeihan/miniconda3/envs/pytorchCMM_Project_20240524/lib/python3.10/site-packages (2.2.3)\n",
      "Requirement already satisfied: scikit-learn in /Users/xupeihan/miniconda3/envs/pytorchCMM_Project_20240524/lib/python3.10/site-packages (1.5.2)\n",
      "Requirement already satisfied: tqdm in /Users/xupeihan/miniconda3/envs/pytorchCMM_Project_20240524/lib/python3.10/site-packages (4.66.5)\n",
      "Requirement already satisfied: sentence-transformers in /Users/xupeihan/miniconda3/envs/pytorchCMM_Project_20240524/lib/python3.10/site-packages (3.2.1)\n",
      "Requirement already satisfied: nltk in /Users/xupeihan/miniconda3/envs/pytorchCMM_Project_20240524/lib/python3.10/site-packages (3.9.1)\n",
      "Requirement already satisfied: numpy>=1.22.4 in /Users/xupeihan/miniconda3/envs/pytorchCMM_Project_20240524/lib/python3.10/site-packages (from pandas) (1.26.4)\n",
      "Requirement already satisfied: python-dateutil>=2.8.2 in /Users/xupeihan/miniconda3/envs/pytorchCMM_Project_20240524/lib/python3.10/site-packages (from pandas) (2.9.0)\n",
      "Requirement already satisfied: pytz>=2020.1 in /Users/xupeihan/miniconda3/envs/pytorchCMM_Project_20240524/lib/python3.10/site-packages (from pandas) (2024.2)\n",
      "Requirement already satisfied: tzdata>=2022.7 in /Users/xupeihan/miniconda3/envs/pytorchCMM_Project_20240524/lib/python3.10/site-packages (from pandas) (2024.2)\n",
      "Requirement already satisfied: scipy>=1.6.0 in /Users/xupeihan/miniconda3/envs/pytorchCMM_Project_20240524/lib/python3.10/site-packages (from scikit-learn) (1.13.0)\n",
      "Requirement already satisfied: joblib>=1.2.0 in /Users/xupeihan/miniconda3/envs/pytorchCMM_Project_20240524/lib/python3.10/site-packages (from scikit-learn) (1.4.2)\n",
      "Requirement already satisfied: threadpoolctl>=3.1.0 in /Users/xupeihan/miniconda3/envs/pytorchCMM_Project_20240524/lib/python3.10/site-packages (from scikit-learn) (3.5.0)\n",
      "Requirement already satisfied: transformers<5.0.0,>=4.41.0 in /Users/xupeihan/miniconda3/envs/pytorchCMM_Project_20240524/lib/python3.10/site-packages (from sentence-transformers) (4.46.0)\n",
      "Requirement already satisfied: torch>=1.11.0 in /Users/xupeihan/miniconda3/envs/pytorchCMM_Project_20240524/lib/python3.10/site-packages (from sentence-transformers) (2.2.2)\n",
      "Requirement already satisfied: huggingface-hub>=0.20.0 in /Users/xupeihan/miniconda3/envs/pytorchCMM_Project_20240524/lib/python3.10/site-packages (from sentence-transformers) (0.25.1)\n",
      "Requirement already satisfied: Pillow in /Users/xupeihan/miniconda3/envs/pytorchCMM_Project_20240524/lib/python3.10/site-packages (from sentence-transformers) (10.3.0)\n",
      "Requirement already satisfied: click in /Users/xupeihan/miniconda3/envs/pytorchCMM_Project_20240524/lib/python3.10/site-packages (from nltk) (8.1.7)\n",
      "Requirement already satisfied: regex>=2021.8.3 in /Users/xupeihan/miniconda3/envs/pytorchCMM_Project_20240524/lib/python3.10/site-packages (from nltk) (2024.9.11)\n",
      "Requirement already satisfied: filelock in /Users/xupeihan/miniconda3/envs/pytorchCMM_Project_20240524/lib/python3.10/site-packages (from huggingface-hub>=0.20.0->sentence-transformers) (3.14.0)\n",
      "Requirement already satisfied: fsspec>=2023.5.0 in /Users/xupeihan/miniconda3/envs/pytorchCMM_Project_20240524/lib/python3.10/site-packages (from huggingface-hub>=0.20.0->sentence-transformers) (2024.5.0)\n",
      "Requirement already satisfied: packaging>=20.9 in /Users/xupeihan/miniconda3/envs/pytorchCMM_Project_20240524/lib/python3.10/site-packages (from huggingface-hub>=0.20.0->sentence-transformers) (23.2)\n",
      "Requirement already satisfied: pyyaml>=5.1 in /Users/xupeihan/miniconda3/envs/pytorchCMM_Project_20240524/lib/python3.10/site-packages (from huggingface-hub>=0.20.0->sentence-transformers) (6.0.2)\n",
      "Requirement already satisfied: requests in /Users/xupeihan/miniconda3/envs/pytorchCMM_Project_20240524/lib/python3.10/site-packages (from huggingface-hub>=0.20.0->sentence-transformers) (2.32.3)\n",
      "Requirement already satisfied: typing-extensions>=3.7.4.3 in /Users/xupeihan/miniconda3/envs/pytorchCMM_Project_20240524/lib/python3.10/site-packages (from huggingface-hub>=0.20.0->sentence-transformers) (4.11.0)\n",
      "Requirement already satisfied: six>=1.5 in /Users/xupeihan/miniconda3/envs/pytorchCMM_Project_20240524/lib/python3.10/site-packages (from python-dateutil>=2.8.2->pandas) (1.16.0)\n",
      "Requirement already satisfied: sympy in /Users/xupeihan/miniconda3/envs/pytorchCMM_Project_20240524/lib/python3.10/site-packages (from torch>=1.11.0->sentence-transformers) (1.12)\n",
      "Requirement already satisfied: networkx in /Users/xupeihan/miniconda3/envs/pytorchCMM_Project_20240524/lib/python3.10/site-packages (from torch>=1.11.0->sentence-transformers) (3.3)\n",
      "Requirement already satisfied: jinja2 in /Users/xupeihan/miniconda3/envs/pytorchCMM_Project_20240524/lib/python3.10/site-packages (from torch>=1.11.0->sentence-transformers) (3.1.4)\n",
      "Requirement already satisfied: safetensors>=0.4.1 in /Users/xupeihan/miniconda3/envs/pytorchCMM_Project_20240524/lib/python3.10/site-packages (from transformers<5.0.0,>=4.41.0->sentence-transformers) (0.4.5)\n",
      "Requirement already satisfied: tokenizers<0.21,>=0.20 in /Users/xupeihan/miniconda3/envs/pytorchCMM_Project_20240524/lib/python3.10/site-packages (from transformers<5.0.0,>=4.41.0->sentence-transformers) (0.20.0)\n",
      "Requirement already satisfied: MarkupSafe>=2.0 in /Users/xupeihan/miniconda3/envs/pytorchCMM_Project_20240524/lib/python3.10/site-packages (from jinja2->torch>=1.11.0->sentence-transformers) (2.1.3)\n",
      "Requirement already satisfied: charset-normalizer<4,>=2 in /Users/xupeihan/miniconda3/envs/pytorchCMM_Project_20240524/lib/python3.10/site-packages (from requests->huggingface-hub>=0.20.0->sentence-transformers) (2.0.4)\n",
      "Requirement already satisfied: idna<4,>=2.5 in /Users/xupeihan/miniconda3/envs/pytorchCMM_Project_20240524/lib/python3.10/site-packages (from requests->huggingface-hub>=0.20.0->sentence-transformers) (3.7)\n",
      "Requirement already satisfied: urllib3<3,>=1.21.1 in /Users/xupeihan/miniconda3/envs/pytorchCMM_Project_20240524/lib/python3.10/site-packages (from requests->huggingface-hub>=0.20.0->sentence-transformers) (2.2.1)\n",
      "Requirement already satisfied: certifi>=2017.4.17 in /Users/xupeihan/miniconda3/envs/pytorchCMM_Project_20240524/lib/python3.10/site-packages (from requests->huggingface-hub>=0.20.0->sentence-transformers) (2024.8.30)\n",
      "Requirement already satisfied: mpmath>=0.19 in /Users/xupeihan/miniconda3/envs/pytorchCMM_Project_20240524/lib/python3.10/site-packages (from sympy->torch>=1.11.0->sentence-transformers) (1.3.0)\n",
      "Note: you may need to restart the kernel to use updated packages.\n"
     ]
    }
   ],
   "source": [
    "pip install pandas scikit-learn tqdm sentence-transformers nltk\n"
   ]
  },
  {
   "cell_type": "code",
   "execution_count": 208,
   "metadata": {},
   "outputs": [
    {
     "name": "stderr",
     "output_type": "stream",
     "text": [
      "Processing Captions: 100%|██████████| 8092/8092 [18:29<00:00,  7.29caption/s]\n"
     ]
    }
   ],
   "source": [
    "import pandas as pd\n",
    "from sklearn.metrics.pairwise import cosine_similarity\n",
    "from sentence_transformers import SentenceTransformer, util\n",
    "from tqdm import tqdm  \n",
    "\n",
    "for image_id, generated_caption in tqdm(generated_dict.items(), desc=\"Processing Captions\", unit=\"caption\"):\n",
    "    if image_id in reference_dict and reference_dict[image_id]:\n",
    "        reference_captions = reference_dict[image_id]\n",
    "\n",
    "        gen_embedding = model.encode([generated_caption], convert_to_tensor=True)\n",
    "        ref_embeddings = model.encode(reference_captions, convert_to_tensor=True)\n",
    "\n",
    "        similarities = util.cos_sim(gen_embedding, ref_embeddings).squeeze(0).tolist()\n",
    "        max_similarity = max(similarities)\n",
    "\n",
    "        semantic_scores.append({\n",
    "            'Image ID': image_id,\n",
    "            'Semantic Similarity': max_similarity,\n",
    "            'All Similarities': similarities  \n",
    "        })\n",
    "    else:\n",
    "        semantic_scores.append({'Image ID': image_id, 'Semantic Similarity': None})\n",
    "\n",
    "df_semantic = pd.DataFrame(semantic_scores)\n",
    "#df = pd.merge(bleu_scores, df_semantic, on='Image ID', how='outer')\n",
    "\n",
    "#print(df)"
   ]
  },
  {
   "cell_type": "code",
   "execution_count": 209,
   "metadata": {},
   "outputs": [
    {
     "data": {
      "text/html": [
       "<div>\n",
       "<style scoped>\n",
       "    .dataframe tbody tr th:only-of-type {\n",
       "        vertical-align: middle;\n",
       "    }\n",
       "\n",
       "    .dataframe tbody tr th {\n",
       "        vertical-align: top;\n",
       "    }\n",
       "\n",
       "    .dataframe thead th {\n",
       "        text-align: right;\n",
       "    }\n",
       "</style>\n",
       "<table border=\"1\" class=\"dataframe\">\n",
       "  <thead>\n",
       "    <tr style=\"text-align: right;\">\n",
       "      <th></th>\n",
       "      <th>Image ID</th>\n",
       "      <th>Semantic Similarity</th>\n",
       "      <th>All Similarities</th>\n",
       "    </tr>\n",
       "  </thead>\n",
       "  <tbody>\n",
       "    <tr>\n",
       "      <th>0</th>\n",
       "      <td>image</td>\n",
       "      <td>1.000000</td>\n",
       "      <td>[1.0]</td>\n",
       "    </tr>\n",
       "    <tr>\n",
       "      <th>1</th>\n",
       "      <td>1000268201_693b08cb0e.jpg</td>\n",
       "      <td>0.647778</td>\n",
       "      <td>[0.5697086453437805, 0.647777795791626, 0.5306...</td>\n",
       "    </tr>\n",
       "    <tr>\n",
       "      <th>2</th>\n",
       "      <td>1001773457_577c3a7d70.jpg</td>\n",
       "      <td>0.832560</td>\n",
       "      <td>[0.5399105548858643, 0.8325604200363159, 0.630...</td>\n",
       "    </tr>\n",
       "    <tr>\n",
       "      <th>3</th>\n",
       "      <td>1002674143_1b742ab4b8.jpg</td>\n",
       "      <td>0.863295</td>\n",
       "      <td>[0.803830087184906, 0.8632951974868774, 0.6234...</td>\n",
       "    </tr>\n",
       "    <tr>\n",
       "      <th>4</th>\n",
       "      <td>1003163366_44323f5815.jpg</td>\n",
       "      <td>0.842080</td>\n",
       "      <td>[0.7331840395927429, 0.8420799374580383, 0.542...</td>\n",
       "    </tr>\n",
       "    <tr>\n",
       "      <th>...</th>\n",
       "      <td>...</td>\n",
       "      <td>...</td>\n",
       "      <td>...</td>\n",
       "    </tr>\n",
       "    <tr>\n",
       "      <th>8087</th>\n",
       "      <td>990890291_afc72be141.jpg</td>\n",
       "      <td>0.982548</td>\n",
       "      <td>[0.7597371935844421, 0.9825478792190552, 0.642...</td>\n",
       "    </tr>\n",
       "    <tr>\n",
       "      <th>8088</th>\n",
       "      <td>99171998_7cc800ceef.jpg</td>\n",
       "      <td>0.957000</td>\n",
       "      <td>[0.7951617240905762, 0.9569998979568481, 0.850...</td>\n",
       "    </tr>\n",
       "    <tr>\n",
       "      <th>8089</th>\n",
       "      <td>99679241_adc853a5c0.jpg</td>\n",
       "      <td>0.918090</td>\n",
       "      <td>[0.9180898666381836, 0.7521243095397949, 0.700...</td>\n",
       "    </tr>\n",
       "    <tr>\n",
       "      <th>8090</th>\n",
       "      <td>997338199_7343367d7f.jpg</td>\n",
       "      <td>0.784364</td>\n",
       "      <td>[0.7843636274337769, 0.7094491720199585, 0.692...</td>\n",
       "    </tr>\n",
       "    <tr>\n",
       "      <th>8091</th>\n",
       "      <td>997722733_0cb5439472.jpg</td>\n",
       "      <td>0.600945</td>\n",
       "      <td>[0.5699892640113831, 0.6009448170661926, 0.260...</td>\n",
       "    </tr>\n",
       "  </tbody>\n",
       "</table>\n",
       "<p>8092 rows × 3 columns</p>\n",
       "</div>"
      ],
      "text/plain": [
       "                       Image ID  Semantic Similarity  \\\n",
       "0                         image             1.000000   \n",
       "1     1000268201_693b08cb0e.jpg             0.647778   \n",
       "2     1001773457_577c3a7d70.jpg             0.832560   \n",
       "3     1002674143_1b742ab4b8.jpg             0.863295   \n",
       "4     1003163366_44323f5815.jpg             0.842080   \n",
       "...                         ...                  ...   \n",
       "8087   990890291_afc72be141.jpg             0.982548   \n",
       "8088    99171998_7cc800ceef.jpg             0.957000   \n",
       "8089    99679241_adc853a5c0.jpg             0.918090   \n",
       "8090   997338199_7343367d7f.jpg             0.784364   \n",
       "8091   997722733_0cb5439472.jpg             0.600945   \n",
       "\n",
       "                                       All Similarities  \n",
       "0                                                 [1.0]  \n",
       "1     [0.5697086453437805, 0.647777795791626, 0.5306...  \n",
       "2     [0.5399105548858643, 0.8325604200363159, 0.630...  \n",
       "3     [0.803830087184906, 0.8632951974868774, 0.6234...  \n",
       "4     [0.7331840395927429, 0.8420799374580383, 0.542...  \n",
       "...                                                 ...  \n",
       "8087  [0.7597371935844421, 0.9825478792190552, 0.642...  \n",
       "8088  [0.7951617240905762, 0.9569998979568481, 0.850...  \n",
       "8089  [0.9180898666381836, 0.7521243095397949, 0.700...  \n",
       "8090  [0.7843636274337769, 0.7094491720199585, 0.692...  \n",
       "8091  [0.5699892640113831, 0.6009448170661926, 0.260...  \n",
       "\n",
       "[8092 rows x 3 columns]"
      ]
     },
     "execution_count": 209,
     "metadata": {},
     "output_type": "execute_result"
    }
   ],
   "source": [
    "df = pd.DataFrame(semantic_scores)\n",
    "df"
   ]
  },
  {
   "cell_type": "code",
   "execution_count": 211,
   "metadata": {},
   "outputs": [
    {
     "data": {
      "image/png": "[encoded data removed]",
      "text/plain": [
       "<Figure size 640x480 with 1 Axes>"
      ]
     },
     "metadata": {},
     "output_type": "display_data"
    }
   ],
   "source": [
    "df['Semantic Similarity'].dropna().plot(kind='hist', bins=12, alpha=0.8, color= 'b')\n",
    "plt.xlabel('Similarity')\n",
    "plt.ylabel('Frequency')\n",
    "plt.title('Distribution of Semantic Similarity on GRU')\n",
    "plt.show()"
   ]
  },
  {
   "cell_type": "code",
   "execution_count": null,
   "metadata": {},
   "outputs": [],
   "source": []
  }
 ],
 "metadata": {
  "kernelspec": {
   "display_name": "Python 3",
   "language": "python",
   "name": "python3"
  },
  "language_info": {
   "codemirror_mode": {
    "name": "ipython",
    "version": 3
   },
   "file_extension": ".py",
   "mimetype": "text/x-python",
   "name": "python",
   "nbconvert_exporter": "python",
   "pygments_lexer": "ipython3",
   "version": "3.10.13"
  }
 },
 "nbformat": 4,
 "nbformat_minor": 2
}
